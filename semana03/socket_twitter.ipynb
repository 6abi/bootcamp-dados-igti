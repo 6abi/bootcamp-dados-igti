{
 "cells": [
  {
   "cell_type": "markdown",
   "metadata": {
    "collapsed": true,
    "pycharm": {
     "name": "#%% md\n"
    }
   },
   "source": [
    "# Análise de Sentimento simples com a blibioteca TextBlob e Spark Streaming\n"
   ]
  },
  {
   "cell_type": "markdown",
   "metadata": {},
   "source": [
    "##  Leitura por meio de socket"
   ]
  },
  {
   "cell_type": "markdown",
   "metadata": {},
   "source": [
    "###  Seção de Conexão"
   ]
  },
  {
   "cell_type": "code",
   "execution_count": 63,
   "metadata": {
    "pycharm": {
     "name": "#%%\n"
    }
   },
   "outputs": [],
   "source": [
    "from pyspark.sql import SparkSession\n",
    "from pyspark.sql.functions import explode\n",
    "from pyspark.sql.functions import split\n",
    "\n",
    "spark = (\n",
    "    SparkSession\n",
    "    .builder\n",
    "    .appName(\"analise-sentimento-igti\")\n",
    "    .getOrCreate()\n",
    ")"
   ]
  },
  {
   "cell_type": "markdown",
   "metadata": {},
   "source": [
    "## Bibliotecas para a analise e contagem"
   ]
  },
  {
   "cell_type": "code",
   "execution_count": 64,
   "metadata": {
    "pycharm": {
     "name": "#%%\n"
    }
   },
   "outputs": [],
   "source": [
    "from textblob import TextBlob\n",
    "from googletrans import Translator\n",
    "from unidecode import unidecode\n",
    "\n",
    "from pyspark.sql.functions import col, udf\n",
    "from pyspark.sql.types import StringType, FloatType\n"
   ]
  },
  {
   "cell_type": "code",
   "execution_count": 65,
   "metadata": {
    "pycharm": {
     "name": "#%%\n"
    }
   },
   "outputs": [],
   "source": [
    "#Dataframe que irá ler cada linha recebida pelo localhost e definição da fonte de dados\n",
    "twitters = \\\n",
    "    (\n",
    "        spark\n",
    "        .readStream\n",
    "        .format(\"socket\")\n",
    "        .option(\"host\",\"localhost\")\n",
    "        .option(\"port\", 9995)\n",
    "        .load()\n",
    "    )"
   ]
  },
  {
   "cell_type": "markdown",
   "metadata": {},
   "source": [
    "## Função para traduzir para o inglês"
   ]
  },
  {
   "cell_type": "code",
   "execution_count": 66,
   "metadata": {
    "pycharm": {
     "name": "#%%\n"
    }
   },
   "outputs": [],
   "source": [
    "def translate_udf(col):\n",
    "    translate_obj = Translator().translate(col)\n",
    "    return translate_obj.text"
   ]
  },
  {
   "cell_type": "markdown",
   "metadata": {},
   "source": [
    "## Função para traduzir para realizar a análise de sentimento\n"
   ]
  },
  {
   "cell_type": "code",
   "execution_count": 67,
   "metadata": {
    "pycharm": {
     "name": "#%%\n"
    }
   },
   "outputs": [],
   "source": [
    "def sentiment_udf(col):\n",
    "    sentiment_text = TextBlob(col)\n",
    "    return sentiment_text.polarity()"
   ]
  },
  {
   "cell_type": "markdown",
   "metadata": {},
   "source": [
    "## Difinição das Funções como User-Defined-Function"
   ]
  },
  {
   "cell_type": "code",
   "execution_count": 68,
   "metadata": {
    "pycharm": {
     "name": "#%%\n"
    }
   },
   "outputs": [],
   "source": [
    "unicode_udf_string = udf(lambda z: unidecode(z), StringType())\n",
    "group_by_sentiment = udf(lambda x: 'negativo' if x < -0.1 else 'positivo' if x > 0.1 else 'neutro', StringType()) #classifica o sentimento\n",
    "translate_udf_string = udf(translate_udf, StringType()) #define função de tradução\n",
    "sentiment_udf_float = udf(sentiment_udf, FloatType()) #define função de contagem"
   ]
  },
  {
   "cell_type": "markdown",
   "metadata": {},
   "source": [
    "### teste com texto local"
   ]
  },
  {
   "cell_type": "code",
   "execution_count": 69,
   "metadata": {
    "pycharm": {
     "name": "#%%\n"
    }
   },
   "outputs": [
    {
     "name": "stdout",
     "output_type": "stream",
     "text": [
      "odeio que nao gosta de cachorro.\n",
      "I hate that you don't like dogs.\n",
      "-0.8\n"
     ]
    }
   ],
   "source": [
    "teste = \"odeio que não gosta de cachorro.\"\n",
    "decode=unidecode(teste)\n",
    "print(decode)\n",
    "decodeEN = Translator().translate(decode)\n",
    "print(decodeEN.text)\n",
    "a = str(decodeEN)\n",
    "sentiment = TextBlob(a)\n",
    "print(sentiment.polarity)"
   ]
  },
  {
   "cell_type": "markdown",
   "metadata": {
    "pycharm": {
     "name": "#%% md\n"
    }
   },
   "source": [
    "## Aplicação das funções udf para a seleção de colunas\n"
   ]
  },
  {
   "cell_type": "code",
   "execution_count": 70,
   "metadata": {
    "pycharm": {
     "name": "#%%\n"
    }
   },
   "outputs": [],
   "source": [
    "twitters_unicode = twitters.select( \"value\", unicode_udf_string(twitters.value). alias(\"unicoded\")) #decodifica\n",
    "twitters_uni_trans = twitters_unicode.select(\"value\", \"unicoded\"\n",
    "                                             , translate_udf_string(col(\"unicoded\")).alias(\"twitter_EN\")) #traduz\n",
    "twitters_uni_trans_sent = twitters_uni_trans.select(\"value\", \"unicoded\", \"twitter_EN\"\n",
    "                                                    ,sentiment_udf_float(col(\"twitter_EN\")).alias(\"analise\")) #análise de sentimento\n",
    "t_sent_label = twitters_uni_trans_sent.select(\"value\", \"unicoded\", \"twitter_EN\", \"analise\"\n",
    "                                              ,group_by_sentiment(col(\"analise\")).alias(\"classificacao\"))"
   ]
  },
  {
   "cell_type": "code",
   "execution_count": 71,
   "metadata": {
    "pycharm": {
     "name": "#%%\n"
    }
   },
   "outputs": [],
   "source": [
    "t_sent_count = t_sent_label.groupBy(\"classificacao\").count()"
   ]
  },
  {
   "cell_type": "markdown",
   "metadata": {},
   "source": [
    "## Definição da querie e como deve ser realizada a saída(sink) para o stram criado"
   ]
  },
  {
   "cell_type": "code",
   "execution_count": 72,
   "metadata": {
    "pycharm": {
     "name": "#%%\n"
    }
   },
   "outputs": [
    {
     "ename": "StreamingQueryException",
     "evalue": "Writing job aborted.\n=== Streaming Query ===\nIdentifier: [id = ac2f4bd3-66e1-4285-8c98-b393b9376a50, runId = 7a6d2507-8a4a-48ea-9623-e5b27cb9fa3a]\nCurrent Committed Offsets: {}\nCurrent Available Offsets: {TextSocketV2[host: localhost, port: 9995]: -1}\n\nCurrent State: ACTIVE\nThread State: RUNNABLE\n\nLogical Plan:\nWriteToMicroBatchDataSource ConsoleWriter[numRows=20, truncate=true]\n+- Aggregate [classificacao#252], [classificacao#252, count(1) AS count#264L]\n   +- Project [value#234, unicoded#237, twitter_EN#241, analise#246, <lambda>(analise#246) AS classificacao#252]\n      +- Project [value#234, unicoded#237, twitter_EN#241, sentiment_udf(twitter_EN#241) AS analise#246]\n         +- Project [value#234, unicoded#237, translate_udf(unicoded#237) AS twitter_EN#241]\n            +- Project [value#234, <lambda>(value#234) AS unicoded#237]\n               +- StreamingDataSourceV2Relation [value#234], org.apache.spark.sql.execution.streaming.sources.TextSocketTable$$anon$1@49a9fb1a, TextSocketV2[host: localhost, port: 9995]\n",
     "output_type": "error",
     "traceback": [
      "\u001B[1;31m---------------------------------------------------------------------------\u001B[0m",
      "\u001B[1;31mStreamingQueryException\u001B[0m                   Traceback (most recent call last)",
      "\u001B[1;32m<ipython-input-72-fbac3864a7bc>\u001B[0m in \u001B[0;36m<module>\u001B[1;34m\u001B[0m\n\u001B[0;32m      5\u001B[0m     \u001B[1;33m.\u001B[0m\u001B[0mstart\u001B[0m\u001B[1;33m(\u001B[0m\u001B[1;33m)\u001B[0m\u001B[1;33m\u001B[0m\u001B[1;33m\u001B[0m\u001B[0m\n\u001B[0;32m      6\u001B[0m \u001B[1;33m\u001B[0m\u001B[0m\n\u001B[1;32m----> 7\u001B[1;33m \u001B[0mquery\u001B[0m\u001B[1;33m.\u001B[0m\u001B[0mawaitTermination\u001B[0m\u001B[1;33m(\u001B[0m\u001B[1;33m)\u001B[0m\u001B[1;33m\u001B[0m\u001B[1;33m\u001B[0m\u001B[0m\n\u001B[0m\u001B[0;32m      8\u001B[0m \u001B[1;33m\u001B[0m\u001B[0m\n",
      "\u001B[1;32mC:\\spark\\spark-3.1.2-bin-hadoop3.2\\python\\pyspark\\sql\\streaming.py\u001B[0m in \u001B[0;36mawaitTermination\u001B[1;34m(self, timeout)\u001B[0m\n\u001B[0;32m     99\u001B[0m             \u001B[1;32mreturn\u001B[0m \u001B[0mself\u001B[0m\u001B[1;33m.\u001B[0m\u001B[0m_jsq\u001B[0m\u001B[1;33m.\u001B[0m\u001B[0mawaitTermination\u001B[0m\u001B[1;33m(\u001B[0m\u001B[0mint\u001B[0m\u001B[1;33m(\u001B[0m\u001B[0mtimeout\u001B[0m \u001B[1;33m*\u001B[0m \u001B[1;36m1000\u001B[0m\u001B[1;33m)\u001B[0m\u001B[1;33m)\u001B[0m\u001B[1;33m\u001B[0m\u001B[1;33m\u001B[0m\u001B[0m\n\u001B[0;32m    100\u001B[0m         \u001B[1;32melse\u001B[0m\u001B[1;33m:\u001B[0m\u001B[1;33m\u001B[0m\u001B[1;33m\u001B[0m\u001B[0m\n\u001B[1;32m--> 101\u001B[1;33m             \u001B[1;32mreturn\u001B[0m \u001B[0mself\u001B[0m\u001B[1;33m.\u001B[0m\u001B[0m_jsq\u001B[0m\u001B[1;33m.\u001B[0m\u001B[0mawaitTermination\u001B[0m\u001B[1;33m(\u001B[0m\u001B[1;33m)\u001B[0m\u001B[1;33m\u001B[0m\u001B[1;33m\u001B[0m\u001B[0m\n\u001B[0m\u001B[0;32m    102\u001B[0m \u001B[1;33m\u001B[0m\u001B[0m\n\u001B[0;32m    103\u001B[0m     \u001B[1;33m@\u001B[0m\u001B[0mproperty\u001B[0m\u001B[1;33m\u001B[0m\u001B[1;33m\u001B[0m\u001B[0m\n",
      "\u001B[1;32mC:\\ProgramData\\Anaconda3\\lib\\site-packages\\py4j\\java_gateway.py\u001B[0m in \u001B[0;36m__call__\u001B[1;34m(self, *args)\u001B[0m\n\u001B[0;32m   1302\u001B[0m \u001B[1;33m\u001B[0m\u001B[0m\n\u001B[0;32m   1303\u001B[0m         \u001B[0manswer\u001B[0m \u001B[1;33m=\u001B[0m \u001B[0mself\u001B[0m\u001B[1;33m.\u001B[0m\u001B[0mgateway_client\u001B[0m\u001B[1;33m.\u001B[0m\u001B[0msend_command\u001B[0m\u001B[1;33m(\u001B[0m\u001B[0mcommand\u001B[0m\u001B[1;33m)\u001B[0m\u001B[1;33m\u001B[0m\u001B[1;33m\u001B[0m\u001B[0m\n\u001B[1;32m-> 1304\u001B[1;33m         return_value = get_return_value(\n\u001B[0m\u001B[0;32m   1305\u001B[0m             answer, self.gateway_client, self.target_id, self.name)\n\u001B[0;32m   1306\u001B[0m \u001B[1;33m\u001B[0m\u001B[0m\n",
      "\u001B[1;32mC:\\spark\\spark-3.1.2-bin-hadoop3.2\\python\\pyspark\\sql\\utils.py\u001B[0m in \u001B[0;36mdeco\u001B[1;34m(*a, **kw)\u001B[0m\n\u001B[0;32m    115\u001B[0m                 \u001B[1;31m# Hide where the exception came from that shows a non-Pythonic\u001B[0m\u001B[1;33m\u001B[0m\u001B[1;33m\u001B[0m\u001B[1;33m\u001B[0m\u001B[0m\n\u001B[0;32m    116\u001B[0m                 \u001B[1;31m# JVM exception message.\u001B[0m\u001B[1;33m\u001B[0m\u001B[1;33m\u001B[0m\u001B[1;33m\u001B[0m\u001B[0m\n\u001B[1;32m--> 117\u001B[1;33m                 \u001B[1;32mraise\u001B[0m \u001B[0mconverted\u001B[0m \u001B[1;32mfrom\u001B[0m \u001B[1;32mNone\u001B[0m\u001B[1;33m\u001B[0m\u001B[1;33m\u001B[0m\u001B[0m\n\u001B[0m\u001B[0;32m    118\u001B[0m             \u001B[1;32melse\u001B[0m\u001B[1;33m:\u001B[0m\u001B[1;33m\u001B[0m\u001B[1;33m\u001B[0m\u001B[0m\n\u001B[0;32m    119\u001B[0m                 \u001B[1;32mraise\u001B[0m\u001B[1;33m\u001B[0m\u001B[1;33m\u001B[0m\u001B[0m\n",
      "\u001B[1;31mStreamingQueryException\u001B[0m: Writing job aborted.\n=== Streaming Query ===\nIdentifier: [id = ac2f4bd3-66e1-4285-8c98-b393b9376a50, runId = 7a6d2507-8a4a-48ea-9623-e5b27cb9fa3a]\nCurrent Committed Offsets: {}\nCurrent Available Offsets: {TextSocketV2[host: localhost, port: 9995]: -1}\n\nCurrent State: ACTIVE\nThread State: RUNNABLE\n\nLogical Plan:\nWriteToMicroBatchDataSource ConsoleWriter[numRows=20, truncate=true]\n+- Aggregate [classificacao#252], [classificacao#252, count(1) AS count#264L]\n   +- Project [value#234, unicoded#237, twitter_EN#241, analise#246, <lambda>(analise#246) AS classificacao#252]\n      +- Project [value#234, unicoded#237, twitter_EN#241, sentiment_udf(twitter_EN#241) AS analise#246]\n         +- Project [value#234, unicoded#237, translate_udf(unicoded#237) AS twitter_EN#241]\n            +- Project [value#234, <lambda>(value#234) AS unicoded#237]\n               +- StreamingDataSourceV2Relation [value#234], org.apache.spark.sql.execution.streaming.sources.TextSocketTable$$anon$1@49a9fb1a, TextSocketV2[host: localhost, port: 9995]\n"
     ]
    }
   ],
   "source": [
    "query =t_sent_count \\\n",
    "    .writeStream\\\n",
    "    .outputMode(\"update\")\\\n",
    "    .format(\"console\")\\\n",
    "    .start()\n",
    "\n",
    "query.awaitTermination()"
   ]
  },
  {
   "cell_type": "code",
   "execution_count": null,
   "metadata": {},
   "outputs": [],
   "source": []
  }
 ],
 "metadata": {
  "kernelspec": {
   "display_name": "Python 3",
   "language": "python",
   "name": "python3"
  },
  "language_info": {
   "codemirror_mode": {
    "name": "ipython",
    "version": 3
   },
   "file_extension": ".py",
   "mimetype": "text/x-python",
   "name": "python",
   "nbconvert_exporter": "python",
   "pygments_lexer": "ipython3",
   "version": "3.8.8"
  }
 },
 "nbformat": 4,
 "nbformat_minor": 1
}