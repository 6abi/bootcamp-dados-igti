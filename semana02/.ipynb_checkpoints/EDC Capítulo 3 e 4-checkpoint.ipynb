{
 "cells": [
  {
   "cell_type": "markdown",
   "id": "e84b81fe",
   "metadata": {},
   "source": [
    "## Bibliotecas"
   ]
  },
  {
   "cell_type": "code",
   "execution_count": 1,
   "id": "14a3f51a",
   "metadata": {
    "pycharm": {
     "name": "#%%\n"
    }
   },
   "outputs": [],
   "source": [
    "from pyspark.sql import SparkSession\n",
    "import pyspark.sql.functions as f\n",
    "import pyspark.sql.types as t\n",
    "from pyspark.sql.window import Window"
   ]
  },
  {
   "cell_type": "markdown",
   "id": "7e826c57",
   "metadata": {},
   "source": [
    "## Setup"
   ]
  },
  {
   "cell_type": "code",
   "execution_count": 2,
   "id": "9cc0c8c9",
   "metadata": {
    "pycharm": {
     "name": "#%%\n"
    }
   },
   "outputs": [],
   "source": [
    "import findspark\n",
    "\n",
    "findspark.init()\n",
    "import pyspark"
   ]
  },
  {
   "cell_type": "code",
   "execution_count": 3,
   "id": "1695a8ea",
   "metadata": {
    "pycharm": {
     "name": "#%%\n"
    }
   },
   "outputs": [],
   "source": [
    "spark = SparkSession.builder.config('spark.executor.memory', '8G').getOrCreate()"
   ]
  },
  {
   "cell_type": "code",
   "execution_count": 4,
   "id": "dd3a522e",
   "metadata": {
    "pycharm": {
     "name": "#%%\n"
    }
   },
   "outputs": [],
   "source": [
    "imdb_path = './data/'"
   ]
  },
  {
   "cell_type": "code",
   "execution_count": 5,
   "id": "08f402f7",
   "metadata": {
    "pycharm": {
     "name": "#%%\n"
    }
   },
   "outputs": [],
   "source": [
    "df_titles = (spark.read\n",
    "    .format('csv')\n",
    "    .options(sep='\\t', header=True)\n",
    "    .load(imdb_path + 'title_basics.tsv')\n",
    ")\n",
    "df_ratings = (spark.read\n",
    "    .format('csv')\n",
    "    .options(sep='\\t', header=True)\n",
    "    .load(imdb_path + 'title_ratings.tsv')\n",
    ")"
   ]
  },
  {
   "cell_type": "code",
   "execution_count": 6,
   "id": "bccce641",
   "metadata": {
    "pycharm": {
     "name": "#%%\n"
    }
   },
   "outputs": [
    {
     "name": "stdout",
     "output_type": "stream",
     "text": [
      "+---------+---------+--------------------+--------------------+-------+---------+-------+--------------+--------------------+\n",
      "|   tconst|titleType|        primaryTitle|       originalTitle|isAdult|startYear|endYear|runtimeMinutes|              genres|\n",
      "+---------+---------+--------------------+--------------------+-------+---------+-------+--------------+--------------------+\n",
      "|tt0000001|    short|          Carmencita|          Carmencita|      0|     1894|     \\N|             1|   Documentary,Short|\n",
      "|tt0000002|    short|Le clown et ses c...|Le clown et ses c...|      0|     1892|     \\N|             5|     Animation,Short|\n",
      "|tt0000003|    short|      Pauvre Pierrot|      Pauvre Pierrot|      0|     1892|     \\N|             4|Animation,Comedy,...|\n",
      "|tt0000004|    short|         Un bon bock|         Un bon bock|      0|     1892|     \\N|            12|     Animation,Short|\n",
      "|tt0000005|    short|    Blacksmith Scene|    Blacksmith Scene|      0|     1893|     \\N|             1|        Comedy,Short|\n",
      "+---------+---------+--------------------+--------------------+-------+---------+-------+--------------+--------------------+\n",
      "\n"
     ]
    }
   ],
   "source": [
    "df_titles.limit(5).show()\n",
    "\n"
   ]
  },
  {
   "cell_type": "code",
   "execution_count": 7,
   "id": "1cff6884",
   "metadata": {
    "pycharm": {
     "name": "#%%\n"
    }
   },
   "outputs": [
    {
     "name": "stdout",
     "output_type": "stream",
     "text": [
      "root\n",
      " |-- tconst: string (nullable = true)\n",
      " |-- titleType: string (nullable = true)\n",
      " |-- primaryTitle: string (nullable = true)\n",
      " |-- originalTitle: string (nullable = true)\n",
      " |-- isAdult: string (nullable = true)\n",
      " |-- startYear: string (nullable = true)\n",
      " |-- endYear: string (nullable = true)\n",
      " |-- runtimeMinutes: string (nullable = true)\n",
      " |-- genres: string (nullable = true)\n",
      "\n"
     ]
    }
   ],
   "source": [
    "df_titles.printSchema()"
   ]
  },
  {
   "cell_type": "code",
   "execution_count": null,
   "id": "2efc9588",
   "metadata": {
    "pycharm": {
     "name": "#%%\n"
    }
   },
   "outputs": [],
   "source": []
  },
  {
   "cell_type": "markdown",
   "id": "c6868d46",
   "metadata": {},
   "source": [
    "### Colunas e Expressões"
   ]
  },
  {
   "cell_type": "markdown",
   "id": "3de676cb",
   "metadata": {},
   "source": [
    "As colunas são a principal unidade de manipulação de dados do Spark. "
   ]
  },
  {
   "cell_type": "code",
   "execution_count": 8,
   "id": "c2b3624c",
   "metadata": {
    "pycharm": {
     "name": "#%%\n"
    }
   },
   "outputs": [
    {
     "name": "stdout",
     "output_type": "stream",
     "text": [
      "+---------+--------------------+--------------+------------+\n",
      "|   tconst|        primaryTitle|runtimeMinutes|runtimeHours|\n",
      "+---------+--------------------+--------------+------------+\n",
      "|tt0000001|          Carmencita|             1|       0.017|\n",
      "|tt0000002|Le clown et ses c...|             5|       0.083|\n",
      "|tt0000003|      Pauvre Pierrot|             4|       0.067|\n",
      "|tt0000004|         Un bon bock|            12|         0.2|\n",
      "|tt0000005|    Blacksmith Scene|             1|       0.017|\n",
      "+---------+--------------------+--------------+------------+\n",
      "only showing top 5 rows\n",
      "\n"
     ]
    }
   ],
   "source": [
    "from pyspark.sql.functions import col, round\n",
    "\n",
    "(\n",
    "    df_titles.select('tconst', 'primaryTitle', 'runtimeMinutes', )\n",
    "    .withColumn(\"runtimeHours\", round(col('runTimeMinutes').cast('int') / 60, 3))\n",
    "    .show(5)\n",
    ")"
   ]
  },
  {
   "cell_type": "markdown",
   "id": "2b6b1e3c",
   "metadata": {},
   "source": [
    "Forma \"pandas\" de selecionar:\n",
    "\n",
    "1. `df.coluna`\n",
    "2. `df['coluna']`"
   ]
  },
  {
   "cell_type": "code",
   "execution_count": 9,
   "id": "fab96a42",
   "metadata": {
    "pycharm": {
     "name": "#%%\n"
    }
   },
   "outputs": [
    {
     "name": "stdout",
     "output_type": "stream",
     "text": [
      "+---------+--------------------+--------------+--------------------+\n",
      "|   tconst|        primaryTitle|runtimeMinutes|        runtimeHours|\n",
      "+---------+--------------------+--------------+--------------------+\n",
      "|tt0000001|          Carmencita|             1|0.016666666666666666|\n",
      "|tt0000002|Le clown et ses c...|             5| 0.08333333333333333|\n",
      "|tt0000003|      Pauvre Pierrot|             4| 0.06666666666666667|\n",
      "|tt0000004|         Un bon bock|            12|                 0.2|\n",
      "|tt0000005|    Blacksmith Scene|             1|0.016666666666666666|\n",
      "+---------+--------------------+--------------+--------------------+\n",
      "only showing top 5 rows\n",
      "\n"
     ]
    }
   ],
   "source": [
    "(\n",
    "    df_titles.select('tconst', 'primaryTitle', 'runtimeMinutes', )\n",
    "    .withColumn(\"runtimeHours\", df_titles['runtimeMinutes'].cast('int') / 60 )\n",
    "    .show(5)\n",
    ")"
   ]
  },
  {
   "cell_type": "code",
   "execution_count": 10,
   "id": "d6547f68",
   "metadata": {
    "pycharm": {
     "name": "#%%\n"
    }
   },
   "outputs": [
    {
     "ename": "AnalysisException",
     "evalue": "Cannot resolve column name \"runtimeHours\" among (tconst, titleType, primaryTitle, originalTitle, isAdult, startYear, endYear, runtimeMinutes, genres)",
     "output_type": "error",
     "traceback": [
      "\u001b[1;31m---------------------------------------------------------------------------\u001b[0m",
      "\u001b[1;31mAnalysisException\u001b[0m                         Traceback (most recent call last)",
      "\u001b[1;32m~\\AppData\\Local\\Temp/ipykernel_19340/298896570.py\u001b[0m in \u001b[0;36m<module>\u001b[1;34m\u001b[0m\n\u001b[0;32m      2\u001b[0m     \u001b[0mdf_titles\u001b[0m\u001b[1;33m.\u001b[0m\u001b[0mselect\u001b[0m\u001b[1;33m(\u001b[0m\u001b[1;34m'tconst'\u001b[0m\u001b[1;33m,\u001b[0m \u001b[1;34m'primaryTitle'\u001b[0m\u001b[1;33m,\u001b[0m \u001b[1;34m'runtimeMinutes'\u001b[0m\u001b[1;33m,\u001b[0m \u001b[1;33m)\u001b[0m\u001b[1;33m\u001b[0m\u001b[1;33m\u001b[0m\u001b[0m\n\u001b[0;32m      3\u001b[0m     \u001b[1;33m.\u001b[0m\u001b[0mwithColumn\u001b[0m\u001b[1;33m(\u001b[0m\u001b[1;34m\"runtimeHours\"\u001b[0m\u001b[1;33m,\u001b[0m \u001b[0mdf_titles\u001b[0m\u001b[1;33m[\u001b[0m\u001b[1;34m'runtimeMinutes'\u001b[0m\u001b[1;33m]\u001b[0m\u001b[1;33m.\u001b[0m\u001b[0mcast\u001b[0m\u001b[1;33m(\u001b[0m\u001b[1;34m'int'\u001b[0m\u001b[1;33m)\u001b[0m \u001b[1;33m/\u001b[0m \u001b[1;36m60\u001b[0m \u001b[1;33m)\u001b[0m\u001b[1;33m\u001b[0m\u001b[1;33m\u001b[0m\u001b[0m\n\u001b[1;32m----> 4\u001b[1;33m     \u001b[1;33m.\u001b[0m\u001b[0mwithColumn\u001b[0m\u001b[1;33m(\u001b[0m\u001b[1;34m\"hours_plus2\"\u001b[0m\u001b[1;33m,\u001b[0m \u001b[0mdf_titles\u001b[0m\u001b[1;33m[\u001b[0m\u001b[1;34m'runtimeHours'\u001b[0m\u001b[1;33m]\u001b[0m \u001b[1;33m+\u001b[0m \u001b[1;36m2\u001b[0m \u001b[1;33m)\u001b[0m\u001b[1;33m\u001b[0m\u001b[1;33m\u001b[0m\u001b[0m\n\u001b[0m\u001b[0;32m      5\u001b[0m     \u001b[1;33m.\u001b[0m\u001b[0mshow\u001b[0m\u001b[1;33m(\u001b[0m\u001b[1;36m5\u001b[0m\u001b[1;33m)\u001b[0m\u001b[1;33m\u001b[0m\u001b[1;33m\u001b[0m\u001b[0m\n\u001b[0;32m      6\u001b[0m )\n",
      "\u001b[1;32mC:\\spark\\spark-3.1.2-bin-hadoop3.2\\python\\pyspark\\sql\\dataframe.py\u001b[0m in \u001b[0;36m__getitem__\u001b[1;34m(self, item)\u001b[0m\n\u001b[0;32m   1618\u001b[0m         \"\"\"\n\u001b[0;32m   1619\u001b[0m         \u001b[1;32mif\u001b[0m \u001b[0misinstance\u001b[0m\u001b[1;33m(\u001b[0m\u001b[0mitem\u001b[0m\u001b[1;33m,\u001b[0m \u001b[0mstr\u001b[0m\u001b[1;33m)\u001b[0m\u001b[1;33m:\u001b[0m\u001b[1;33m\u001b[0m\u001b[1;33m\u001b[0m\u001b[0m\n\u001b[1;32m-> 1620\u001b[1;33m             \u001b[0mjc\u001b[0m \u001b[1;33m=\u001b[0m \u001b[0mself\u001b[0m\u001b[1;33m.\u001b[0m\u001b[0m_jdf\u001b[0m\u001b[1;33m.\u001b[0m\u001b[0mapply\u001b[0m\u001b[1;33m(\u001b[0m\u001b[0mitem\u001b[0m\u001b[1;33m)\u001b[0m\u001b[1;33m\u001b[0m\u001b[1;33m\u001b[0m\u001b[0m\n\u001b[0m\u001b[0;32m   1621\u001b[0m             \u001b[1;32mreturn\u001b[0m \u001b[0mColumn\u001b[0m\u001b[1;33m(\u001b[0m\u001b[0mjc\u001b[0m\u001b[1;33m)\u001b[0m\u001b[1;33m\u001b[0m\u001b[1;33m\u001b[0m\u001b[0m\n\u001b[0;32m   1622\u001b[0m         \u001b[1;32melif\u001b[0m \u001b[0misinstance\u001b[0m\u001b[1;33m(\u001b[0m\u001b[0mitem\u001b[0m\u001b[1;33m,\u001b[0m \u001b[0mColumn\u001b[0m\u001b[1;33m)\u001b[0m\u001b[1;33m:\u001b[0m\u001b[1;33m\u001b[0m\u001b[1;33m\u001b[0m\u001b[0m\n",
      "\u001b[1;32mC:\\ProgramData\\Anaconda3\\envs\\bootcamp-dados-igti\\lib\\site-packages\\py4j\\java_gateway.py\u001b[0m in \u001b[0;36m__call__\u001b[1;34m(self, *args)\u001b[0m\n\u001b[0;32m   1308\u001b[0m         \u001b[0manswer\u001b[0m \u001b[1;33m=\u001b[0m \u001b[0mself\u001b[0m\u001b[1;33m.\u001b[0m\u001b[0mgateway_client\u001b[0m\u001b[1;33m.\u001b[0m\u001b[0msend_command\u001b[0m\u001b[1;33m(\u001b[0m\u001b[0mcommand\u001b[0m\u001b[1;33m)\u001b[0m\u001b[1;33m\u001b[0m\u001b[1;33m\u001b[0m\u001b[0m\n\u001b[0;32m   1309\u001b[0m         return_value = get_return_value(\n\u001b[1;32m-> 1310\u001b[1;33m             answer, self.gateway_client, self.target_id, self.name)\n\u001b[0m\u001b[0;32m   1311\u001b[0m \u001b[1;33m\u001b[0m\u001b[0m\n\u001b[0;32m   1312\u001b[0m         \u001b[1;32mfor\u001b[0m \u001b[0mtemp_arg\u001b[0m \u001b[1;32min\u001b[0m \u001b[0mtemp_args\u001b[0m\u001b[1;33m:\u001b[0m\u001b[1;33m\u001b[0m\u001b[1;33m\u001b[0m\u001b[0m\n",
      "\u001b[1;32mC:\\spark\\spark-3.1.2-bin-hadoop3.2\\python\\pyspark\\sql\\utils.py\u001b[0m in \u001b[0;36mdeco\u001b[1;34m(*a, **kw)\u001b[0m\n\u001b[0;32m    115\u001b[0m                 \u001b[1;31m# Hide where the exception came from that shows a non-Pythonic\u001b[0m\u001b[1;33m\u001b[0m\u001b[1;33m\u001b[0m\u001b[1;33m\u001b[0m\u001b[0m\n\u001b[0;32m    116\u001b[0m                 \u001b[1;31m# JVM exception message.\u001b[0m\u001b[1;33m\u001b[0m\u001b[1;33m\u001b[0m\u001b[1;33m\u001b[0m\u001b[0m\n\u001b[1;32m--> 117\u001b[1;33m                 \u001b[1;32mraise\u001b[0m \u001b[0mconverted\u001b[0m \u001b[1;32mfrom\u001b[0m \u001b[1;32mNone\u001b[0m\u001b[1;33m\u001b[0m\u001b[1;33m\u001b[0m\u001b[0m\n\u001b[0m\u001b[0;32m    118\u001b[0m             \u001b[1;32melse\u001b[0m\u001b[1;33m:\u001b[0m\u001b[1;33m\u001b[0m\u001b[1;33m\u001b[0m\u001b[0m\n\u001b[0;32m    119\u001b[0m                 \u001b[1;32mraise\u001b[0m\u001b[1;33m\u001b[0m\u001b[1;33m\u001b[0m\u001b[0m\n",
      "\u001b[1;31mAnalysisException\u001b[0m: Cannot resolve column name \"runtimeHours\" among (tconst, titleType, primaryTitle, originalTitle, isAdult, startYear, endYear, runtimeMinutes, genres)"
     ]
    }
   ],
   "source": [
    "(\n",
    "    df_titles.select('tconst', 'primaryTitle', 'runtimeMinutes', )\n",
    "    .withColumn(\"runtimeHours\", df_titles['runtimeMinutes'].cast('int') / 60 )\n",
    "    .withColumn(\"hours_plus2\", df_titles['runtimeHours'] + 2 )\n",
    "    .show(5)\n",
    ")"
   ]
  },
  {
   "cell_type": "code",
   "execution_count": 12,
   "id": "61650f63",
   "metadata": {
    "pycharm": {
     "name": "#%%\n"
    }
   },
   "outputs": [
    {
     "name": "stdout",
     "output_type": "stream",
     "text": [
      "+---------+--------------------+--------------+--------------------+------------------+\n",
      "|   tconst|        primaryTitle|runtimeMinutes|        runtimeHours|       hours_plus2|\n",
      "+---------+--------------------+--------------+--------------------+------------------+\n",
      "|tt0000001|          Carmencita|             1|0.016666666666666666|2.0166666666666666|\n",
      "|tt0000002|Le clown et ses c...|             5| 0.08333333333333333|2.0833333333333335|\n",
      "|tt0000003|      Pauvre Pierrot|             4| 0.06666666666666667| 2.066666666666667|\n",
      "|tt0000004|         Un bon bock|            12|                 0.2|               2.2|\n",
      "|tt0000005|    Blacksmith Scene|             1|0.016666666666666666|2.0166666666666666|\n",
      "+---------+--------------------+--------------+--------------------+------------------+\n",
      "only showing top 5 rows\n",
      "\n"
     ]
    }
   ],
   "source": [
    "(\n",
    "    df_titles.select('tconst', 'primaryTitle', 'runtimeMinutes', )\n",
    "    .withColumn(\"runtimeHours\", col('runTimeMinutes').cast('int') / 60 )\n",
    "    .withColumn(\"hours_plus2\", col('runtimeHours') + 2 )\n",
    "    .show(5)\n",
    ")"
   ]
  },
  {
   "cell_type": "markdown",
   "id": "84cb42fb",
   "metadata": {},
   "source": [
    "#### Expressões"
   ]
  },
  {
   "cell_type": "code",
   "execution_count": 13,
   "id": "52bac86f",
   "metadata": {
    "pycharm": {
     "name": "#%%\n"
    }
   },
   "outputs": [
    {
     "name": "stdout",
     "output_type": "stream",
     "text": [
      "+---------+--------------------+--------------+------------+\n",
      "|   tconst|        primaryTitle|runtimeMinutes|runtimeHours|\n",
      "+---------+--------------------+--------------+------------+\n",
      "|tt0000001|          Carmencita|             1|       0.017|\n",
      "|tt0000002|Le clown et ses c...|             5|       0.083|\n",
      "|tt0000003|      Pauvre Pierrot|             4|       0.067|\n",
      "|tt0000004|         Un bon bock|            12|         0.2|\n",
      "|tt0000005|    Blacksmith Scene|             1|       0.017|\n",
      "+---------+--------------------+--------------+------------+\n",
      "only showing top 5 rows\n",
      "\n"
     ]
    }
   ],
   "source": [
    "from pyspark.sql.functions import expr\n",
    "\n",
    "(\n",
    "    df_titles.select('tconst', 'primaryTitle', 'runtimeMinutes', )\n",
    "    .withColumn(\"runtimeHours\", expr('round(cast(runTimeMinutes as INT) / 60, 3)') )\n",
    "    .show(5)\n",
    ")"
   ]
  },
  {
   "cell_type": "markdown",
   "id": "0b68d042",
   "metadata": {},
   "source": [
    "### Seleção de Colunas"
   ]
  },
  {
   "cell_type": "code",
   "execution_count": 14,
   "id": "247279d2",
   "metadata": {
    "pycharm": {
     "name": "#%%\n"
    }
   },
   "outputs": [
    {
     "name": "stdout",
     "output_type": "stream",
     "text": [
      "+---------+---------+--------------------+--------------------+-------+---------+-------+--------------+--------------------+\n",
      "|   tconst|titleType|        primaryTitle|       originalTitle|isAdult|startYear|endYear|runtimeMinutes|              genres|\n",
      "+---------+---------+--------------------+--------------------+-------+---------+-------+--------------+--------------------+\n",
      "|tt0000001|    short|          Carmencita|          Carmencita|      0|     1894|     \\N|             1|   Documentary,Short|\n",
      "|tt0000002|    short|Le clown et ses c...|Le clown et ses c...|      0|     1892|     \\N|             5|     Animation,Short|\n",
      "|tt0000003|    short|      Pauvre Pierrot|      Pauvre Pierrot|      0|     1892|     \\N|             4|Animation,Comedy,...|\n",
      "|tt0000004|    short|         Un bon bock|         Un bon bock|      0|     1892|     \\N|            12|     Animation,Short|\n",
      "|tt0000005|    short|    Blacksmith Scene|    Blacksmith Scene|      0|     1893|     \\N|             1|        Comedy,Short|\n",
      "+---------+---------+--------------------+--------------------+-------+---------+-------+--------------+--------------------+\n",
      "only showing top 5 rows\n",
      "\n"
     ]
    }
   ],
   "source": [
    "df_titles.show(5)"
   ]
  },
  {
   "cell_type": "code",
   "execution_count": 15,
   "id": "79c4bf0c",
   "metadata": {
    "pycharm": {
     "name": "#%%\n"
    }
   },
   "outputs": [
    {
     "data": {
      "text/plain": [
       "['tconst',\n",
       " 'titleType',\n",
       " 'primaryTitle',\n",
       " 'originalTitle',\n",
       " 'isAdult',\n",
       " 'startYear',\n",
       " 'endYear',\n",
       " 'runtimeMinutes',\n",
       " 'genres']"
      ]
     },
     "execution_count": 15,
     "metadata": {},
     "output_type": "execute_result"
    }
   ],
   "source": [
    "df_titles.columns"
   ]
  },
  {
   "cell_type": "code",
   "execution_count": 16,
   "id": "3192d054",
   "metadata": {
    "pycharm": {
     "name": "#%%\n"
    }
   },
   "outputs": [
    {
     "name": "stdout",
     "output_type": "stream",
     "text": [
      "+---------+--------------------+--------------------+\n",
      "|   tconst|        primaryTitle|              genres|\n",
      "+---------+--------------------+--------------------+\n",
      "|tt0000001|          Carmencita|   Documentary,Short|\n",
      "|tt0000002|Le clown et ses c...|     Animation,Short|\n",
      "|tt0000003|      Pauvre Pierrot|Animation,Comedy,...|\n",
      "|tt0000004|         Un bon bock|     Animation,Short|\n",
      "|tt0000005|    Blacksmith Scene|        Comedy,Short|\n",
      "|tt0000006|   Chinese Opium Den|               Short|\n",
      "|tt0000007|Corbett and Court...|         Short,Sport|\n",
      "|tt0000008|Edison Kinetoscop...|   Documentary,Short|\n",
      "|tt0000009|          Miss Jerry|       Romance,Short|\n",
      "|tt0000010| Leaving the Factory|   Documentary,Short|\n",
      "+---------+--------------------+--------------------+\n",
      "only showing top 10 rows\n",
      "\n"
     ]
    }
   ],
   "source": [
    "df_titles.select('tconst', 'primaryTitle', 'genres').show(10)"
   ]
  },
  {
   "cell_type": "code",
   "execution_count": 17,
   "id": "5ffe8726",
   "metadata": {
    "pycharm": {
     "name": "#%%\n"
    }
   },
   "outputs": [],
   "source": [
    "select_cols = [c for c in df_titles.columns if c.find('Title') != -1]"
   ]
  },
  {
   "cell_type": "code",
   "execution_count": 18,
   "id": "a61b52f2",
   "metadata": {
    "pycharm": {
     "name": "#%%\n"
    }
   },
   "outputs": [
    {
     "name": "stdout",
     "output_type": "stream",
     "text": [
      "+--------------------+--------------------+\n",
      "|        primaryTitle|       originalTitle|\n",
      "+--------------------+--------------------+\n",
      "|          Carmencita|          Carmencita|\n",
      "|Le clown et ses c...|Le clown et ses c...|\n",
      "|      Pauvre Pierrot|      Pauvre Pierrot|\n",
      "|         Un bon bock|         Un bon bock|\n",
      "|    Blacksmith Scene|    Blacksmith Scene|\n",
      "|   Chinese Opium Den|   Chinese Opium Den|\n",
      "|Corbett and Court...|Corbett and Court...|\n",
      "|Edison Kinetoscop...|Edison Kinetoscop...|\n",
      "|          Miss Jerry|          Miss Jerry|\n",
      "| Leaving the Factory|La sortie de l'us...|\n",
      "+--------------------+--------------------+\n",
      "only showing top 10 rows\n",
      "\n"
     ]
    }
   ],
   "source": [
    "cols = ['tconst', 'primaryTitle', 'genres']\n",
    "df_titles.select(select_cols).show(10)"
   ]
  },
  {
   "cell_type": "code",
   "execution_count": 19,
   "id": "3d84e3ba",
   "metadata": {
    "pycharm": {
     "name": "#%%\n"
    }
   },
   "outputs": [
    {
     "name": "stdout",
     "output_type": "stream",
     "text": [
      "+---------+--------------------+--------------------+\n",
      "|   tconst|        primaryTitle|              genres|\n",
      "+---------+--------------------+--------------------+\n",
      "|tt0000001|          Carmencita|   Documentary,Short|\n",
      "|tt0000002|Le clown et ses c...|     Animation,Short|\n",
      "|tt0000003|      Pauvre Pierrot|Animation,Comedy,...|\n",
      "|tt0000004|         Un bon bock|     Animation,Short|\n",
      "|tt0000005|    Blacksmith Scene|        Comedy,Short|\n",
      "|tt0000006|   Chinese Opium Den|               Short|\n",
      "|tt0000007|Corbett and Court...|         Short,Sport|\n",
      "|tt0000008|Edison Kinetoscop...|   Documentary,Short|\n",
      "|tt0000009|          Miss Jerry|       Romance,Short|\n",
      "|tt0000010| Leaving the Factory|   Documentary,Short|\n",
      "+---------+--------------------+--------------------+\n",
      "only showing top 10 rows\n",
      "\n"
     ]
    }
   ],
   "source": [
    "cols = ['primaryTitle', 'genres']\n",
    "df_titles.select('tconst', *cols).show(10)"
   ]
  },
  {
   "cell_type": "code",
   "execution_count": 20,
   "id": "f68875d2",
   "metadata": {
    "pycharm": {
     "name": "#%%\n"
    }
   },
   "outputs": [
    {
     "name": "stdout",
     "output_type": "stream",
     "text": [
      "+---------+---------+--------------------+--------------------+-------+---------+-------+--------------+--------------------+\n",
      "|   tconst|titleType|        primaryTitle|       originalTitle|isAdult|startYear|endYear|runtimeMinutes|              genres|\n",
      "+---------+---------+--------------------+--------------------+-------+---------+-------+--------------+--------------------+\n",
      "|tt0000001|    short|          Carmencita|          Carmencita|      0|     1894|     \\N|             1|   Documentary,Short|\n",
      "|tt0000002|    short|Le clown et ses c...|Le clown et ses c...|      0|     1892|     \\N|             5|     Animation,Short|\n",
      "|tt0000003|    short|      Pauvre Pierrot|      Pauvre Pierrot|      0|     1892|     \\N|             4|Animation,Comedy,...|\n",
      "|tt0000004|    short|         Un bon bock|         Un bon bock|      0|     1892|     \\N|            12|     Animation,Short|\n",
      "|tt0000005|    short|    Blacksmith Scene|    Blacksmith Scene|      0|     1893|     \\N|             1|        Comedy,Short|\n",
      "|tt0000006|    short|   Chinese Opium Den|   Chinese Opium Den|      0|     1894|     \\N|             1|               Short|\n",
      "|tt0000007|    short|Corbett and Court...|Corbett and Court...|      0|     1894|     \\N|             1|         Short,Sport|\n",
      "|tt0000008|    short|Edison Kinetoscop...|Edison Kinetoscop...|      0|     1894|     \\N|             1|   Documentary,Short|\n",
      "|tt0000009|    short|          Miss Jerry|          Miss Jerry|      0|     1894|     \\N|            40|       Romance,Short|\n",
      "|tt0000010|    short| Leaving the Factory|La sortie de l'us...|      0|     1895|     \\N|             1|   Documentary,Short|\n",
      "+---------+---------+--------------------+--------------------+-------+---------+-------+--------------+--------------------+\n",
      "only showing top 10 rows\n",
      "\n"
     ]
    }
   ],
   "source": [
    "df_titles.select('*').show(10)"
   ]
  },
  {
   "cell_type": "markdown",
   "id": "2bfa0b55",
   "metadata": {},
   "source": [
    "Observações:\n",
    "* Podemos realizar operações sobre colunas selecionadas. \n",
    "* A ordem em que as colunas são selecionadas é a ordem em que elas vão ser inseridas no DataFrame resultante."
   ]
  },
  {
   "cell_type": "code",
   "execution_count": 21,
   "id": "434cf483",
   "metadata": {
    "pycharm": {
     "name": "#%%\n"
    }
   },
   "outputs": [
    {
     "name": "stdout",
     "output_type": "stream",
     "text": [
      "+---------+--------------------+--------------------+\n",
      "|   tconst|              genres|        primaryTitle|\n",
      "+---------+--------------------+--------------------+\n",
      "|tt0000001|   Documentary,Short|          CARMENCITA|\n",
      "|tt0000002|     Animation,Short|LE CLOWN ET SES C...|\n",
      "|tt0000003|Animation,Comedy,...|      PAUVRE PIERROT|\n",
      "|tt0000004|     Animation,Short|         UN BON BOCK|\n",
      "|tt0000005|        Comedy,Short|    BLACKSMITH SCENE|\n",
      "|tt0000006|               Short|   CHINESE OPIUM DEN|\n",
      "|tt0000007|         Short,Sport|CORBETT AND COURT...|\n",
      "|tt0000008|   Documentary,Short|EDISON KINETOSCOP...|\n",
      "|tt0000009|       Romance,Short|          MISS JERRY|\n",
      "|tt0000010|   Documentary,Short| LEAVING THE FACTORY|\n",
      "+---------+--------------------+--------------------+\n",
      "only showing top 10 rows\n",
      "\n"
     ]
    }
   ],
   "source": [
    "from pyspark.sql.functions import upper, expr\n",
    "\n",
    "df_titles.select('tconst', 'genres', expr('upper(primaryTitle) as primaryTitle')).show(10)"
   ]
  },
  {
   "cell_type": "code",
   "execution_count": 22,
   "id": "6398eccb",
   "metadata": {
    "pycharm": {
     "name": "#%%\n"
    }
   },
   "outputs": [
    {
     "name": "stdout",
     "output_type": "stream",
     "text": [
      "+---------+--------------------+--------------------+\n",
      "|   tconst|              genres|        primaryTitle|\n",
      "+---------+--------------------+--------------------+\n",
      "|tt0000001|   Documentary,Short|          CARMENCITA|\n",
      "|tt0000002|     Animation,Short|LE CLOWN ET SES C...|\n",
      "|tt0000003|Animation,Comedy,...|      PAUVRE PIERROT|\n",
      "|tt0000004|     Animation,Short|         UN BON BOCK|\n",
      "|tt0000005|        Comedy,Short|    BLACKSMITH SCENE|\n",
      "|tt0000006|               Short|   CHINESE OPIUM DEN|\n",
      "|tt0000007|         Short,Sport|CORBETT AND COURT...|\n",
      "|tt0000008|   Documentary,Short|EDISON KINETOSCOP...|\n",
      "|tt0000009|       Romance,Short|          MISS JERRY|\n",
      "|tt0000010|   Documentary,Short| LEAVING THE FACTORY|\n",
      "+---------+--------------------+--------------------+\n",
      "only showing top 10 rows\n",
      "\n",
      "+---------+---------+--------------------+--------------------+-------+---------+-------+--------------+--------------------+\n",
      "|   tconst|titleType|        primaryTitle|       originalTitle|isAdult|startYear|endYear|runtimeMinutes|              genres|\n",
      "+---------+---------+--------------------+--------------------+-------+---------+-------+--------------+--------------------+\n",
      "|tt0000001|    short|          Carmencita|          Carmencita|      0|     1894|     \\N|             1|   Documentary,Short|\n",
      "|tt0000002|    short|Le clown et ses c...|Le clown et ses c...|      0|     1892|     \\N|             5|     Animation,Short|\n",
      "|tt0000003|    short|      Pauvre Pierrot|      Pauvre Pierrot|      0|     1892|     \\N|             4|Animation,Comedy,...|\n",
      "|tt0000004|    short|         Un bon bock|         Un bon bock|      0|     1892|     \\N|            12|     Animation,Short|\n",
      "|tt0000005|    short|    Blacksmith Scene|    Blacksmith Scene|      0|     1893|     \\N|             1|        Comedy,Short|\n",
      "+---------+---------+--------------------+--------------------+-------+---------+-------+--------------+--------------------+\n",
      "\n"
     ]
    }
   ],
   "source": [
    "df_titles.selectExpr('tconst', 'genres', 'upper(primaryTitle) as primaryTitle').show(10)\n",
    "df_titles.limit(5).show()"
   ]
  },
  {
   "cell_type": "markdown",
   "id": "aedd45f3",
   "metadata": {},
   "source": [
    "#### Selecionando valores distintos"
   ]
  },
  {
   "cell_type": "code",
   "execution_count": 23,
   "id": "9b43416b",
   "metadata": {
    "pycharm": {
     "name": "#%%\n"
    }
   },
   "outputs": [
    {
     "name": "stdout",
     "output_type": "stream",
     "text": [
      "+----------+---------+--------------------+--------------------+-------+---------+-------+--------------+--------------------+\n",
      "|    tconst|titleType|        primaryTitle|       originalTitle|isAdult|startYear|endYear|runtimeMinutes|              genres|\n",
      "+----------+---------+--------------------+--------------------+-------+---------+-------+--------------+--------------------+\n",
      "| tt0383963|    short|El carnaval de Ma...|El carnaval de Ma...|      0|     1903|     \\N|            22|   Documentary,Short|\n",
      "| tt0273873|    movie|Naturen og eventyret|Naturen og eventyret|      0|     1953|     \\N|            74|         Documentary|\n",
      "| tt0127498|    short|  Dancing in a Harem|     Danse au sérail|      0|     1897|     \\N|            \\N|               Short|\n",
      "| tt0181098|    movie|Um Pirata do Outr...|Um Pirata do Outr...|      0|     1957|     \\N|            \\N|      Comedy,Musical|\n",
      "| tt0383335|    short|Breakfast on the ...|          Eine murul|      0|     1987|     \\N|            25|     Animation,Short|\n",
      "| tt0274051|    movie|    El rey de México|    El rey de México|      0|     1956|     \\N|            79|        Comedy,Drama|\n",
      "| tt0273547|    movie|        Dos destinos|        Dos destinos|      0|     1936|     \\N|            76|               Drama|\n",
      "| tt0303570| tvSeries|  Weather CenterLive|      Weather Center|      0|     2016|     \\N|            \\N|                News|\n",
      "| tt0139613|    movie|          O Silêncio|          O Silêncio|      0|     2012|     \\N|            \\N| Documentary,History|\n",
      "| tt0214297|    short|The Way to Shadow...|The Way to Shadow...|      0|     2020|     \\N|            10|               Short|\n",
      "| tt0042516|    movie|Gorod zazhigaet ogni|Gorod zazhigaet ogni|      0|     1958|     \\N|            97|               Drama|\n",
      "| tt0125564|    short|       Twelfth Night|       Twelfth Night|      0|     1910|     \\N|            12|Comedy,Drama,Romance|\n",
      "| tt0273504|    movie|           Cleobatra|           Cleobatra|      0|     1943|     \\N|           105|Drama,History,Rom...|\n",
      "| tt0182538|    movie|    Within Our Gates|    Within Our Gates|      0|     1915|     \\N|            \\N|                  \\N|\n",
      "| tt0056166|    movie|        Lash of Lust|        Lash of Lust|      0|     1972|     \\N|            \\N|             Western|\n",
      "| tt0020189|    short|The Naggers' Day ...|The Naggers' Day ...|      0|     1931|     \\N|            10|        Comedy,Short|\n",
      "|tt11530358| tvSeries|    Second Dimension|    Second Dimension|      0|     2026|     \\N|            \\N|Action,Horror,Rom...|\n",
      "| tt0001173|    short|The Crime of a Gr...|Le crime du grand...|      0|     1911|     \\N|            \\N|         Drama,Short|\n",
      "| tt0273540|    short|       Dizzy Daddies|       Dizzy Daddies|      0|     1926|     \\N|            \\N|        Comedy,Short|\n",
      "| tt0383632|    movie|          Shen Lagna|          Shen Lagna|      0|     1938|     \\N|            \\N|                  \\N|\n",
      "+----------+---------+--------------------+--------------------+-------+---------+-------+--------------+--------------------+\n",
      "only showing top 20 rows\n",
      "\n"
     ]
    }
   ],
   "source": [
    "df_titles.dropDuplicates(subset=['startYear']).show()"
   ]
  },
  {
   "cell_type": "code",
   "execution_count": 74,
   "id": "440f59a3",
   "metadata": {
    "pycharm": {
     "name": "#%%\n"
    }
   },
   "outputs": [
    {
     "name": "stdout",
     "output_type": "stream",
     "text": [
      "+---------+\n",
      "|startYear|\n",
      "+---------+\n",
      "|     1903|\n",
      "|     1953|\n",
      "|     1897|\n",
      "|     1957|\n",
      "|     1987|\n",
      "|     1956|\n",
      "|     1936|\n",
      "|     2016|\n",
      "|     2020|\n",
      "|     2012|\n",
      "|     1958|\n",
      "|     1910|\n",
      "|     1943|\n",
      "|     1915|\n",
      "|     1972|\n",
      "|     1931|\n",
      "|     2026|\n",
      "|     1911|\n",
      "|     1926|\n",
      "|     1938|\n",
      "+---------+\n",
      "only showing top 20 rows\n",
      "\n"
     ]
    }
   ],
   "source": [
    "df_titles.select('startYear').distinct().show()"
   ]
  },
  {
   "cell_type": "code",
   "execution_count": 73,
   "id": "258426f2",
   "metadata": {},
   "outputs": [
    {
     "name": "stdout",
     "output_type": "stream",
     "text": [
      "+----------+---------+--------------------+--------------------+-------+---------+-------+--------------+--------------------+\n",
      "|    tconst|titleType|        primaryTitle|       originalTitle|isAdult|startYear|endYear|runtimeMinutes|              genres|\n",
      "+----------+---------+--------------------+--------------------+-------+---------+-------+--------------+--------------------+\n",
      "| tt0000380|    short|     Sleeping Beauty|La belle au bois ...|      0|     1903|     \\N|            \\N| Drama,Fantasy,Short|\n",
      "| tt0273873|    movie|Naturen og eventyret|Naturen og eventyret|      0|     1953|     \\N|            74|         Documentary|\n",
      "| tt0000041|    short|   Bataille de neige|   Bataille de neige|      0|     1897|     \\N|             1|Comedy,Documentar...|\n",
      "| tt0365317|    short|Heerup hugger og ...|Heerup hugger og ...|      0|     1957|     \\N|            16|   Documentary,Short|\n",
      "| tt0067694|    movie|   Die Russen kommen|   Die Russen kommen|      0|     1987|     \\N|            92|           Drama,War|\n",
      "| tt0455757|    movie|           Shui xian|           Shui xian|      0|     1956|     \\N|            \\N|             Romance|\n",
      "| tt0455127|    short|Das häßliche Entlein|Das häßliche Entlein|      0|     1936|     \\N|            17|               Short|\n",
      "| tt0110152|    short|The History of th...|The History of th...|      0|     2016|     \\N|             9|               Short|\n",
      "| tt0454876|    movie|          Life of Pi|          Life of Pi|      0|     2012|     \\N|           127|Adventure,Drama,F...|\n",
      "| tt0060366|    short|A Embalagem de Vidro|A Embalagem de Vidro|      0|     2020|     \\N|            11|   Documentary,Short|\n",
      "| tt0454938|    short|  Schwarzes New York|  Schwarzes New York|      0|     1958|     \\N|            \\N|   Documentary,Short|\n",
      "| tt0273841|    short|A Mother's Gratitude|A Mother's Gratitude|      0|     1910|     \\N|            \\N|   Crime,Drama,Short|\n",
      "| tt0466866|    movie|   Kaizokuki futtobu|   Kaizokuki futtobu|      0|     1943|     \\N|            81|               Drama|\n",
      "| tt0001711|    movie|Jahreszeiten des ...|Jahreszeiten des ...|      0|     1915|     \\N|            \\N|                  \\N|\n",
      "| tt0545840|tvEpisode| Assault on Gavaloni| Assault on Gavaloni|      0|     1972|     \\N|            74|         Crime,Drama|\n",
      "| tt0274080|    movie|   The Secret Menace|   The Secret Menace|      0|     1931|     \\N|            59|Action,Adventure,...|\n",
      "|tt11530358| tvSeries|    Second Dimension|    Second Dimension|      0|     2026|     \\N|            \\N|Action,Horror,Rom...|\n",
      "| tt0121532|    short|Max and His Mothe...|Max et sa belle-mère|      0|     1911|     \\N|            27|        Comedy,Short|\n",
      "| tt0121572|    short|           Movieland|           Movieland|      0|     1926|     \\N|            \\N|        Comedy,Short|\n",
      "| tt0181010|    short|            Snowtime|            Snowtime|      0|     1938|     \\N|             7|Animation,Comedy,...|\n",
      "+----------+---------+--------------------+--------------------+-------+---------+-------+--------------+--------------------+\n",
      "only showing top 20 rows\n",
      "\n"
     ]
    }
   ],
   "source": [
    "df_titles.dropDuplicates(subset=['startYear']).show()"
   ]
  },
  {
   "cell_type": "code",
   "execution_count": 76,
   "id": "cdd02191",
   "metadata": {
    "pycharm": {
     "name": "#%%\n"
    }
   },
   "outputs": [
    {
     "data": {
      "text/plain": [
       "8203690"
      ]
     },
     "execution_count": 76,
     "metadata": {},
     "output_type": "execute_result"
    }
   ],
   "source": [
    "df_titles.count()"
   ]
  },
  {
   "cell_type": "markdown",
   "id": "67378a90",
   "metadata": {},
   "source": [
    "### Filtros"
   ]
  },
  {
   "cell_type": "markdown",
   "id": "53292b89",
   "metadata": {},
   "source": [
    "Operadores lógicos:\n",
    "* e: &\n",
    "* ou: |\n",
    "* não: ~\n",
    "\n",
    "Para fazer o filtro, pode ser utilizado tanto a função `filter()` como `where()`."
   ]
  },
  {
   "cell_type": "markdown",
   "id": "dfcadfdd",
   "metadata": {},
   "source": [
    "#### Filtros com uma condição"
   ]
  },
  {
   "cell_type": "code",
   "execution_count": 77,
   "id": "76f07bb8",
   "metadata": {
    "pycharm": {
     "name": "#%%\n"
    }
   },
   "outputs": [
    {
     "data": {
      "text/plain": [
       "7617740"
      ]
     },
     "execution_count": 77,
     "metadata": {},
     "output_type": "execute_result"
    }
   ],
   "source": [
    "(\n",
    "    df_titles.filter(~(col('titleType') == 'movie'))\n",
    "    .count()\n",
    ")"
   ]
  },
  {
   "cell_type": "code",
   "execution_count": 27,
   "id": "f5884539",
   "metadata": {
    "pycharm": {
     "name": "#%%\n"
    }
   },
   "outputs": [
    {
     "name": "stdout",
     "output_type": "stream",
     "text": [
      "+---------+---------+--------------------+--------------------+-------+---------+-------+--------------+--------------------+\n",
      "|   tconst|titleType|        primaryTitle|       originalTitle|isAdult|startYear|endYear|runtimeMinutes|              genres|\n",
      "+---------+---------+--------------------+--------------------+-------+---------+-------+--------------+--------------------+\n",
      "|tt0000502|    movie|            Bohemios|            Bohemios|      0|     1905|     \\N|           100|                  \\N|\n",
      "|tt0000574|    movie|The Story of the ...|The Story of the ...|      0|     1906|     \\N|            70|Action,Adventure,...|\n",
      "|tt0000591|    movie|    The Prodigal Son|   L'enfant prodigue|      0|     1907|     \\N|            90|               Drama|\n",
      "|tt0000615|    movie|  Robbery Under Arms|  Robbery Under Arms|      0|     1907|     \\N|            \\N|               Drama|\n",
      "|tt0000630|    movie|              Hamlet|              Amleto|      0|     1908|     \\N|            \\N|               Drama|\n",
      "+---------+---------+--------------------+--------------------+-------+---------+-------+--------------+--------------------+\n",
      "only showing top 5 rows\n",
      "\n"
     ]
    }
   ],
   "source": [
    "(\n",
    "    df_titles.where(col('titleType') == 'movie')\n",
    "    .show(5)\n",
    ")"
   ]
  },
  {
   "cell_type": "markdown",
   "id": "e61040bf",
   "metadata": {},
   "source": [
    "#### Filtros com duas ou mais condições\n",
    "Cada uma das condições deve estar entre parênteses e separada por um operador lógico. Naturalmente, é possível também \"aninhar\" condições, seguindo essa mesma lógica"
   ]
  },
  {
   "cell_type": "code",
   "execution_count": 28,
   "id": "e0f6e469",
   "metadata": {
    "pycharm": {
     "name": "#%%\n"
    }
   },
   "outputs": [
    {
     "name": "stdout",
     "output_type": "stream",
     "text": [
      "+---------+---------+--------------------+--------------------+-------+---------+-------+--------------+--------------------+\n",
      "|   tconst|titleType|        primaryTitle|       originalTitle|isAdult|startYear|endYear|runtimeMinutes|              genres|\n",
      "+---------+---------+--------------------+--------------------+-------+---------+-------+--------------+--------------------+\n",
      "|tt0000574|    movie|The Story of the ...|The Story of the ...|      0|     1906|     \\N|            70|Action,Adventure,...|\n",
      "|tt0000591|    movie|    The Prodigal Son|   L'enfant prodigue|      0|     1907|     \\N|            90|               Drama|\n",
      "|tt0001184|    movie|Don Juan de Serra...|Don Juan de Serra...|      0|     1910|     \\N|            58|     Adventure,Drama|\n",
      "|tt0001258|    movie|The White Slave T...|Den hvide slaveha...|      0|     1910|     \\N|            45|               Drama|\n",
      "|tt0001285|    movie|   The Life of Moses|   The Life of Moses|      0|     1909|     \\N|            50|Biography,Drama,F...|\n",
      "+---------+---------+--------------------+--------------------+-------+---------+-------+--------------+--------------------+\n",
      "only showing top 5 rows\n",
      "\n"
     ]
    }
   ],
   "source": [
    "(\n",
    "    df_titles.filter((col('titleType') == 'movie') & (col('runtimeMinutes') <= 90))\n",
    "    .show(5)\n",
    ")"
   ]
  },
  {
   "cell_type": "code",
   "execution_count": 29,
   "id": "22a35475",
   "metadata": {
    "pycharm": {
     "name": "#%%\n"
    }
   },
   "outputs": [
    {
     "data": {
      "text/plain": [
       "212692"
      ]
     },
     "execution_count": 29,
     "metadata": {},
     "output_type": "execute_result"
    }
   ],
   "source": [
    "(\n",
    "    df_titles.filter((col('titleType') == 'movie') & (col('runtimeMinutes') <= 90))\n",
    "    .count()\n",
    ")"
   ]
  },
  {
   "cell_type": "code",
   "execution_count": 30,
   "id": "aa36904f",
   "metadata": {
    "pycharm": {
     "name": "#%%\n"
    }
   },
   "outputs": [
    {
     "data": {
      "text/plain": [
       "293451"
      ]
     },
     "execution_count": 30,
     "metadata": {},
     "output_type": "execute_result"
    }
   ],
   "source": [
    "(\n",
    "    df_titles.filter(((col('titleType') == 'movie') | (col('titleType') == 'tvSeries')) & (col('runtimeMinutes') <= 90))\n",
    "    .count()\n",
    ")"
   ]
  },
  {
   "cell_type": "code",
   "execution_count": 78,
   "id": "e31472e5",
   "metadata": {
    "pycharm": {
     "name": "#%%\n"
    }
   },
   "outputs": [
    {
     "data": {
      "text/plain": [
       "293451"
      ]
     },
     "execution_count": 78,
     "metadata": {},
     "output_type": "execute_result"
    }
   ],
   "source": [
    "(\n",
    "    df_titles.filter((col('titleType').isin('movie', 'tvSeries')) & (col('runtimeMinutes') <= 90))\n",
    "    .count()\n",
    ")"
   ]
  },
  {
   "cell_type": "code",
   "execution_count": 32,
   "id": "efdb86c8",
   "metadata": {
    "pycharm": {
     "name": "#%%\n"
    }
   },
   "outputs": [
    {
     "data": {
      "text/plain": [
       "293451"
      ]
     },
     "execution_count": 32,
     "metadata": {},
     "output_type": "execute_result"
    }
   ],
   "source": [
    "(\n",
    "    df_titles\n",
    "    .filter(col('titleType').isin('movie','tvSeries'))\n",
    "    .filter(col('runtimeMinutes') <= 90)\n",
    "    .count()\n",
    ")"
   ]
  },
  {
   "cell_type": "markdown",
   "id": "b00c84da",
   "metadata": {},
   "source": [
    "#### Filtros Utilizando Expressões"
   ]
  },
  {
   "cell_type": "code",
   "execution_count": 33,
   "id": "198b3c4a",
   "metadata": {
    "pycharm": {
     "name": "#%%\n"
    }
   },
   "outputs": [
    {
     "name": "stdout",
     "output_type": "stream",
     "text": [
      "+---------+---------+--------------------+--------------------+-------+---------+-------+--------------+--------------------+\n",
      "|   tconst|titleType|        primaryTitle|       originalTitle|isAdult|startYear|endYear|runtimeMinutes|              genres|\n",
      "+---------+---------+--------------------+--------------------+-------+---------+-------+--------------+--------------------+\n",
      "|tt0000502|    movie|            Bohemios|            Bohemios|      0|     1905|     \\N|           100|                  \\N|\n",
      "|tt0000574|    movie|The Story of the ...|The Story of the ...|      0|     1906|     \\N|            70|Action,Adventure,...|\n",
      "|tt0000591|    movie|    The Prodigal Son|   L'enfant prodigue|      0|     1907|     \\N|            90|               Drama|\n",
      "|tt0000615|    movie|  Robbery Under Arms|  Robbery Under Arms|      0|     1907|     \\N|            \\N|               Drama|\n",
      "|tt0000630|    movie|              Hamlet|              Amleto|      0|     1908|     \\N|            \\N|               Drama|\n",
      "+---------+---------+--------------------+--------------------+-------+---------+-------+--------------+--------------------+\n",
      "only showing top 5 rows\n",
      "\n"
     ]
    }
   ],
   "source": [
    "(\n",
    "    df_titles\n",
    "    .filter('titleType = \"movie\"')\n",
    "    .show(5)\n",
    ")"
   ]
  },
  {
   "cell_type": "code",
   "execution_count": 79,
   "id": "b0f16a64",
   "metadata": {
    "pycharm": {
     "name": "#%%\n"
    }
   },
   "outputs": [
    {
     "name": "stdout",
     "output_type": "stream",
     "text": [
      "+---------+---------+--------------------+--------------------+-------+---------+-------+--------------+--------------------+\n",
      "|   tconst|titleType|        primaryTitle|       originalTitle|isAdult|startYear|endYear|runtimeMinutes|              genres|\n",
      "+---------+---------+--------------------+--------------------+-------+---------+-------+--------------+--------------------+\n",
      "|tt0000574|    movie|The Story of the ...|The Story of the ...|      0|     1906|     \\N|            70|Action,Adventure,...|\n",
      "|tt0000591|    movie|    The Prodigal Son|   L'enfant prodigue|      0|     1907|     \\N|            90|               Drama|\n",
      "|tt0001184|    movie|Don Juan de Serra...|Don Juan de Serra...|      0|     1910|     \\N|            58|     Adventure,Drama|\n",
      "|tt0001258|    movie|The White Slave T...|Den hvide slaveha...|      0|     1910|     \\N|            45|               Drama|\n",
      "|tt0001285|    movie|   The Life of Moses|   The Life of Moses|      0|     1909|     \\N|            50|Biography,Drama,F...|\n",
      "+---------+---------+--------------------+--------------------+-------+---------+-------+--------------+--------------------+\n",
      "only showing top 5 rows\n",
      "\n"
     ]
    }
   ],
   "source": [
    "(\n",
    "    df_titles\n",
    "    .filter('titleType in (\"movie\", \"tvSeries\") and runtimeMinutes <= 90')\n",
    "    .show(5)\n",
    ")"
   ]
  },
  {
   "cell_type": "markdown",
   "id": "1c94aac0",
   "metadata": {},
   "source": [
    "#### Observações\n",
    "Quando nos referimos às colunas por meio da função `col()`, temos acesso à diversos métodos das colunas que podem ser utilizados para auxliar na filtragem do DataFrame. Alguns deles são:\n",
    "* `isin()`: checa se a coluna contém os valores listados na função.\n",
    "* `contains()`: utilizado para verificar se uma coluna de texto contém algum padrão especificado (não aceita regex). Aceita uma outra coluna de texto.\n",
    "* `like()`: utilizado para verificar se uma coluna de texto contém algum padrão especificado (não aceita regex). Funciona de forma similar ao \"LIKE\" do SQL.\n",
    "* `rlike()`: utilizado para verificar se uma coluna de texto contém algum padrão especificado (**aceita regex**). Funciona de forma similar ao \"RLIKE\" do SQL.\n",
    "* `startswith()`: utilizado para verificar se uma coluna de texto começa com algum padrão especificado (**aceita regex**).\n",
    "* `endswith()`: utilizado para verificar se uma coluna de texto termina com algum padrão especificado (**aceita regex**).\n",
    "* `between()`: checa se os valores da coluna estão dentro do intervalo especificado. Os dois lados do intervalo são inclusivos.\n",
    "* `isNull()`: retorna True se o valor da coluna é nulo\n",
    "* `isNotNull()`: retorna True se o valor da coluna não é nulo\n",
    "\n",
    "Outros métodos úteis:\n",
    "* `alias()/name()`: usado para renomear as colunas em operações como select() e agg()\n",
    "* `astype()/cast()`: usado para mudar o tipo das colunas. Aceita tanto um string como um tipo especificado pelo módulo pyspark.sql.types\n",
    "* `substr()`: utilizado para cortar um string com base em índices dos caracteres "
   ]
  },
  {
   "cell_type": "code",
   "execution_count": 35,
   "id": "dcc5e48d",
   "metadata": {
    "pycharm": {
     "name": "#%%\n"
    }
   },
   "outputs": [
    {
     "name": "stdout",
     "output_type": "stream",
     "text": [
      "+----------+---------+--------------------+--------------------+-------+---------+-------+--------------+--------------------+\n",
      "|    tconst|titleType|        primaryTitle|       originalTitle|isAdult|startYear|endYear|runtimeMinutes|              genres|\n",
      "+----------+---------+--------------------+--------------------+-------+---------+-------+--------------+--------------------+\n",
      "| tt0069746|    movie|Avengers of the Reef|Avengers of the Reef|      0|     1973|     \\N|            84|    Adventure,Family|\n",
      "|tt11590024|    movie|          Avengers 5|  Avengers: Blue Sky|      0|     2024|     \\N|            \\N|                  \\N|\n",
      "|tt13925114|    movie|Avengers: Infinit...|Avengers: Infinit...|      0|     2019|     \\N|           135|Action,Adventure,...|\n",
      "| tt2395427|    movie|Avengers: Age of ...|Avengers: Age of ...|      0|     2015|     \\N|           141|Action,Adventure,...|\n",
      "| tt4154756|    movie|Avengers: Infinit...|Avengers: Infinit...|      0|     2018|     \\N|           149|Action,Adventure,...|\n",
      "| tt4154796|    movie|   Avengers: Endgame|   Avengers: Endgame|      0|     2019|     \\N|           181|Action,Adventure,...|\n",
      "| tt6172666|    movie|Avengers of Justi...|Avengers of Justi...|      0|     2018|     \\N|            87|Action,Comedy,Family|\n",
      "| tt8875872|    movie|Avengers: Reassem...|Avengers: Reassem...|      0|     2018|     \\N|            52|              Sci-Fi|\n",
      "| tt9303032|    movie|    Avengers: Legacy|    Avengers: Legacy|      0|     2020|     \\N|            87|              Sci-Fi|\n",
      "+----------+---------+--------------------+--------------------+-------+---------+-------+--------------+--------------------+\n",
      "\n"
     ]
    }
   ],
   "source": [
    "(\n",
    "    df_titles\n",
    "    .filter(col('primaryTitle').like('Avengers%'))\n",
    "    .filter(col('titleType') == 'movie')\n",
    "    .show()\n",
    ")"
   ]
  },
  {
   "cell_type": "code",
   "execution_count": 36,
   "id": "d2b6954e",
   "metadata": {
    "pycharm": {
     "name": "#%%\n"
    }
   },
   "outputs": [
    {
     "name": "stdout",
     "output_type": "stream",
     "text": [
      "+---------+---------+--------------------+--------------------+-------+---------+-------+--------------+--------------------+\n",
      "|   tconst|titleType|        primaryTitle|       originalTitle|isAdult|startYear|endYear|runtimeMinutes|              genres|\n",
      "+---------+---------+--------------------+--------------------+-------+---------+-------+--------------+--------------------+\n",
      "|tt0000001|    short|          Carmencita|          Carmencita|      0|     1894|     \\N|             1|   Documentary,Short|\n",
      "|tt0000002|    short|Le clown et ses c...|Le clown et ses c...|      0|     1892|     \\N|             5|     Animation,Short|\n",
      "|tt0000003|    short|      Pauvre Pierrot|      Pauvre Pierrot|      0|     1892|     \\N|             4|Animation,Comedy,...|\n",
      "|tt0000004|    short|         Un bon bock|         Un bon bock|      0|     1892|     \\N|            12|     Animation,Short|\n",
      "|tt0000005|    short|    Blacksmith Scene|    Blacksmith Scene|      0|     1893|     \\N|             1|        Comedy,Short|\n",
      "|tt0000006|    short|   Chinese Opium Den|   Chinese Opium Den|      0|     1894|     \\N|             1|               Short|\n",
      "|tt0000007|    short|Corbett and Court...|Corbett and Court...|      0|     1894|     \\N|             1|         Short,Sport|\n",
      "|tt0000008|    short|Edison Kinetoscop...|Edison Kinetoscop...|      0|     1894|     \\N|             1|   Documentary,Short|\n",
      "|tt0000009|    short|          Miss Jerry|          Miss Jerry|      0|     1894|     \\N|            40|       Romance,Short|\n",
      "|tt0000010|    short| Leaving the Factory|La sortie de l'us...|      0|     1895|     \\N|             1|   Documentary,Short|\n",
      "|tt0000011|    short|Akrobatisches Pot...|Akrobatisches Pot...|      0|     1895|     \\N|             1|   Documentary,Short|\n",
      "|tt0000012|    short|The Arrival of a ...|L'arrivée d'un tr...|      0|     1896|     \\N|             1|   Documentary,Short|\n",
      "|tt0000013|    short|The Photographica...|Le débarquement d...|      0|     1895|     \\N|             1|   Documentary,Short|\n",
      "|tt0000014|    short| The Waterer Watered|   L'arroseur arrosé|      0|     1895|     \\N|             1|        Comedy,Short|\n",
      "|tt0000015|    short| Autour d'une cabine| Autour d'une cabine|      0|     1894|     \\N|             2|     Animation,Short|\n",
      "|tt0000016|    short|Boat Leaving the ...|Barque sortant du...|      0|     1895|     \\N|             1|   Documentary,Short|\n",
      "|tt0000017|    short|Italienischer Bau...|Italienischer Bau...|      0|     1895|     \\N|             1|   Documentary,Short|\n",
      "|tt0000018|    short|Das boxende Känguruh|Das boxende Känguruh|      0|     1895|     \\N|             1|               Short|\n",
      "|tt0000019|    short|    The Clown Barber|    The Clown Barber|      0|     1898|     \\N|            \\N|        Comedy,Short|\n",
      "|tt0000020|    short|      The Derby 1895|      The Derby 1895|      0|     1895|     \\N|             1|Documentary,Short...|\n",
      "+---------+---------+--------------------+--------------------+-------+---------+-------+--------------+--------------------+\n",
      "only showing top 20 rows\n",
      "\n"
     ]
    }
   ],
   "source": [
    "(\n",
    "    df_titles\n",
    "    .withColumn('startYear', col(\"startYear\").cast('int'))\n",
    "    .filter('startYear is not null')\n",
    "    .show()\n",
    ")"
   ]
  },
  {
   "cell_type": "markdown",
   "id": "9c1bdbca",
   "metadata": {},
   "source": [
    "### Ordenando o DataFrame"
   ]
  },
  {
   "cell_type": "markdown",
   "id": "a9eb3510",
   "metadata": {},
   "source": [
    "A ordenação do DataFrame pode ser feita utilizando as funções `orderBy()` ou `sort()`. Algumas funções auxiliares importante para serem usadas ao ordenar:\n",
    "* `asc()`: ordena a coluna de forma ascendente (default)\n",
    "* `desc()`ordena a coluna de forma decrescente\n",
    "* `asc_nulls_first() / desc_nulls_first()`: ordena a coluna de forma ascendente e decrescente, respectivamente, mantendo os campos nulos primeiro\n",
    "* `asc_nulls_last() / desc_nulls_last()`: ordena a coluna de forma ascendente e decrescente, respectivamente, mantendo os campos nulos por último"
   ]
  },
  {
   "cell_type": "code",
   "execution_count": 80,
   "id": "3b9e625a",
   "metadata": {
    "pycharm": {
     "name": "#%%\n"
    }
   },
   "outputs": [
    {
     "name": "stdout",
     "output_type": "stream",
     "text": [
      "+---------+---------+--------------------+--------------------+-------+---------+-------+--------------+--------------------+\n",
      "|   tconst|titleType|        primaryTitle|       originalTitle|isAdult|startYear|endYear|runtimeMinutes|              genres|\n",
      "+---------+---------+--------------------+--------------------+-------+---------+-------+--------------+--------------------+\n",
      "|tt0000001|    short|          Carmencita|          Carmencita|      0|     1894|     \\N|             1|   Documentary,Short|\n",
      "|tt0000002|    short|Le clown et ses c...|Le clown et ses c...|      0|     1892|     \\N|             5|     Animation,Short|\n",
      "|tt0000003|    short|      Pauvre Pierrot|      Pauvre Pierrot|      0|     1892|     \\N|             4|Animation,Comedy,...|\n",
      "|tt0000004|    short|         Un bon bock|         Un bon bock|      0|     1892|     \\N|            12|     Animation,Short|\n",
      "|tt0000005|    short|    Blacksmith Scene|    Blacksmith Scene|      0|     1893|     \\N|             1|        Comedy,Short|\n",
      "+---------+---------+--------------------+--------------------+-------+---------+-------+--------------+--------------------+\n",
      "only showing top 5 rows\n",
      "\n"
     ]
    }
   ],
   "source": [
    "df_titles.show(5)"
   ]
  },
  {
   "cell_type": "code",
   "execution_count": 81,
   "id": "76ee71dc",
   "metadata": {
    "pycharm": {
     "name": "#%%\n"
    }
   },
   "outputs": [
    {
     "name": "stdout",
     "output_type": "stream",
     "text": [
      "+---------+---------+--------------------+--------------------+-------+---------+-------+--------------+--------------------+\n",
      "|   tconst|titleType|        primaryTitle|       originalTitle|isAdult|startYear|endYear|runtimeMinutes|              genres|\n",
      "+---------+---------+--------------------+--------------------+-------+---------+-------+--------------+--------------------+\n",
      "|tt8917788|    movie|The Executioner I...|The Executioner I...|      0|     null|     \\N|            \\N|               Crime|\n",
      "|tt8923256|    movie|Through the Eyes ...|Through the Eyes ...|      0|     null|     \\N|            \\N|               Drama|\n",
      "|tt8923192|    movie|               Stunt|               Stunt|      0|     null|     \\N|            \\N|         Documentary|\n",
      "|tt8918726|    movie|Untitled Tom Wils...|Untitled Tom Wils...|      0|     null|     \\N|            90|Biography,Documen...|\n",
      "|tt8916856|    movie|The Ashley Berg File|The Ashley Berg File|      0|     null|     \\N|            \\N|               Drama|\n",
      "|tt8918854|    movie| The Moment Of Truth| The Moment Of Truth|      0|     null|     \\N|            90|         Documentary|\n",
      "|tt8917068|    movie| A Moment of Silence| A Moment of Silence|      0|     null|     \\N|            \\N|               Drama|\n",
      "|tt8918868|    movie|  An Incurable Death|  An Incurable Death|      0|     null|     \\N|            \\N|         Documentary|\n",
      "|tt8917650|    movie|Diary of a Seriou...|Diary of a Seriou...|      0|     null|     \\N|           120|   Documentary,Drama|\n",
      "|tt8919058|    movie|      Shanghai Story|      Shanghai Story|      0|     null|     \\N|            \\N|Adventure,Comedy,...|\n",
      "|tt8917398|    movie|Untitled Christma...|Untitled Christma...|      0|     null|     \\N|            \\N|              Horror|\n",
      "|tt8917454|    movie|        Aztagrambook|        Aztagrambook|      0|     null|     \\N|            \\N|               Drama|\n",
      "|tt8917520|    movie|            The King|            The King|      0|     null|     \\N|            \\N|Action,Biography,...|\n",
      "|tt8916030|    movie|Untitled Fantasy ...|Untitled Fantasy ...|      0|     null|     \\N|            \\N|           Adventure|\n",
      "|tt8919222|    movie|           Lost Dogs|           Lost Dogs|      0|     null|     \\N|            \\N|               Drama|\n",
      "|tt8918218|    movie|Untitled Johnny C...|Untitled Johnny C...|      0|     null|     \\N|            \\N|              Comedy|\n",
      "|tt8919348|    movie|                Vaan|                Vaan|      0|     null|     \\N|            \\N|                  \\N|\n",
      "|tt8916874|    movie|    The Annesi Ninja|    The Annesi Ninja|      0|     null|     \\N|            \\N|               Drama|\n",
      "|tt8921534|    movie|            Ethiopia|            Ethiopia|      0|     null|     \\N|            \\N|       Action,Sci-Fi|\n",
      "|tt8917350|    movie|          Case Study|          Case Study|      0|     null|     \\N|            67|               Drama|\n",
      "+---------+---------+--------------------+--------------------+-------+---------+-------+--------------+--------------------+\n",
      "only showing top 20 rows\n",
      "\n"
     ]
    }
   ],
   "source": [
    "from pyspark.sql.functions import desc\n",
    "\n",
    "(\n",
    "    df_titles\n",
    "    .withColumn('startYear', col('startYear').cast('int'))\n",
    "    .orderBy('startYear')\n",
    "    .filter('titleType = \"movie\"')\n",
    "    .show()\n",
    ")"
   ]
  },
  {
   "cell_type": "code",
   "execution_count": 86,
   "id": "81398b4e",
   "metadata": {
    "pycharm": {
     "name": "#%%\n"
    }
   },
   "outputs": [
    {
     "name": "stdout",
     "output_type": "stream",
     "text": [
      "+---------+---------+--------------------+--------------------+-------+---------+-------+--------------+--------------------+\n",
      "|   tconst|titleType|        primaryTitle|       originalTitle|isAdult|startYear|endYear|runtimeMinutes|              genres|\n",
      "+---------+---------+--------------------+--------------------+-------+---------+-------+--------------+--------------------+\n",
      "|tt8917224|  tvMovie|          Filmchella|          Filmchella|      0|     null|     \\N|            \\N|               Drama|\n",
      "|tt8916030|    movie|Untitled Fantasy ...|Untitled Fantasy ...|      0|     null|     \\N|            \\N|           Adventure|\n",
      "|tt8917350|    movie|          Case Study|          Case Study|      0|     null|     \\N|            67|               Drama|\n",
      "|tt8916114|    movie| From Hell to Mexico| From Hell to Mexico|      0|     null|     \\N|            \\N|             Western|\n",
      "|tt8917398|    movie|Untitled Christma...|Untitled Christma...|      0|     null|     \\N|            \\N|              Horror|\n",
      "|tt8916624|tvEpisode|        Episode #2.2|        Episode #2.2|      0|     null|     \\N|            28|              Comedy|\n",
      "|tt8917454|    movie|        Aztagrambook|        Aztagrambook|      0|     null|     \\N|            \\N|               Drama|\n",
      "|tt8916660|tvEpisode|        Episode #2.5|        Episode #2.5|      0|     null|     \\N|            27|              Comedy|\n",
      "|tt8917520|    movie|            The King|            The King|      0|     null|     \\N|            \\N|Action,Biography,...|\n",
      "|tt8916676|tvEpisode|        Episode #2.7|        Episode #2.7|      0|     null|     \\N|            26|              Comedy|\n",
      "|tt8917576| tvSeries|              Claude|              Claude|      0|     null|     \\N|            \\N|              Comedy|\n",
      "|tt8916724|tvEpisode|        Episode #2.9|        Episode #2.9|      0|     null|     \\N|            26|              Comedy|\n",
      "|tt8917604|tvEpisode|        Episode #1.3|        Episode #1.3|      0|     null|     \\N|            \\N|         Documentary|\n",
      "|tt8916758|tvEpisode|       Episode #2.10|       Episode #2.10|      0|     null|     \\N|            20|              Comedy|\n",
      "|tt8917608|tvEpisode|            Backfire|            Backfire|      0|     null|     \\N|            41|         Documentary|\n",
      "|tt8916792|tvEpisode|       Episode #2.12|       Episode #2.12|      0|     null|     \\N|            27|              Comedy|\n",
      "|tt8917612|tvEpisode|        Episode #1.5|        Episode #1.5|      0|     null|     \\N|            41|         Documentary|\n",
      "|tt8916856|    movie|The Ashley Berg File|The Ashley Berg File|      0|     null|     \\N|            \\N|               Drama|\n",
      "|tt8917650|    movie|Diary of a Seriou...|Diary of a Seriou...|      0|     null|     \\N|           120|   Documentary,Drama|\n",
      "|tt8916874|    movie|    The Annesi Ninja|    The Annesi Ninja|      0|     null|     \\N|            \\N|               Drama|\n",
      "+---------+---------+--------------------+--------------------+-------+---------+-------+--------------+--------------------+\n",
      "only showing top 20 rows\n",
      "\n"
     ]
    }
   ],
   "source": [
    "from pyspark.sql.functions import desc_nulls_first #desc_nulls_last\n",
    "\n",
    "(\n",
    "    df_titles\n",
    "    .withColumn('startYear', col('startYear').cast('int'))\n",
    "    .orderBy(desc_nulls_first('startYear'))\n",
    "    .show()\n",
    ")"
   ]
  },
  {
   "cell_type": "markdown",
   "id": "44ee1c2b",
   "metadata": {},
   "source": [
    "### Renomeando Colunas"
   ]
  },
  {
   "cell_type": "markdown",
   "id": "f69b1f00",
   "metadata": {},
   "source": [
    "Para renomear colunas, é utilizada a função `withColumnRenamed()`, da seguinte forma:\n",
    "\n",
    "```\n",
    "df.withColumnRenamed(\"nome_antigo\", \"nome_novo\")\n",
    "```"
   ]
  },
  {
   "cell_type": "code",
   "execution_count": 87,
   "id": "285736fb",
   "metadata": {
    "pycharm": {
     "name": "#%%\n"
    }
   },
   "outputs": [
    {
     "name": "stdout",
     "output_type": "stream",
     "text": [
      "+---------+---------+--------------------+--------------------+-------+---------+-------+--------------+--------------------+\n",
      "|   tconst|titleType|          nome_filme|       originalTitle|isAdult|startYear|endYear|runtimeMinutes|              genres|\n",
      "+---------+---------+--------------------+--------------------+-------+---------+-------+--------------+--------------------+\n",
      "|tt0000001|    short|          Carmencita|          Carmencita|      0|     1894|     \\N|             1|   Documentary,Short|\n",
      "|tt0000002|    short|Le clown et ses c...|Le clown et ses c...|      0|     1892|     \\N|             5|     Animation,Short|\n",
      "|tt0000003|    short|      Pauvre Pierrot|      Pauvre Pierrot|      0|     1892|     \\N|             4|Animation,Comedy,...|\n",
      "|tt0000004|    short|         Un bon bock|         Un bon bock|      0|     1892|     \\N|            12|     Animation,Short|\n",
      "|tt0000005|    short|    Blacksmith Scene|    Blacksmith Scene|      0|     1893|     \\N|             1|        Comedy,Short|\n",
      "+---------+---------+--------------------+--------------------+-------+---------+-------+--------------+--------------------+\n",
      "only showing top 5 rows\n",
      "\n"
     ]
    }
   ],
   "source": [
    "(\n",
    "    df_titles\n",
    "    .withColumnRenamed('primaryTitle', 'nome_filme')\n",
    "    .show(5)\n",
    ")"
   ]
  },
  {
   "cell_type": "code",
   "execution_count": 88,
   "id": "510775cf",
   "metadata": {
    "pycharm": {
     "name": "#%%\n"
    }
   },
   "outputs": [
    {
     "data": {
      "text/html": [
       "<div>\n",
       "<style scoped>\n",
       "    .dataframe tbody tr th:only-of-type {\n",
       "        vertical-align: middle;\n",
       "    }\n",
       "\n",
       "    .dataframe tbody tr th {\n",
       "        vertical-align: top;\n",
       "    }\n",
       "\n",
       "    .dataframe thead th {\n",
       "        text-align: right;\n",
       "    }\n",
       "</style>\n",
       "<table border=\"1\" class=\"dataframe\">\n",
       "  <thead>\n",
       "    <tr style=\"text-align: right;\">\n",
       "      <th></th>\n",
       "      <th>tconst</th>\n",
       "      <th>titleType</th>\n",
       "      <th>nome_filme</th>\n",
       "      <th>originalTitle</th>\n",
       "      <th>isAdult</th>\n",
       "      <th>startYear</th>\n",
       "      <th>endYear</th>\n",
       "      <th>runtimeMinutes</th>\n",
       "      <th>genres</th>\n",
       "      <th>(runtimeMinutes + 1)</th>\n",
       "    </tr>\n",
       "  </thead>\n",
       "  <tbody>\n",
       "    <tr>\n",
       "      <th>0</th>\n",
       "      <td>tt0000001</td>\n",
       "      <td>short</td>\n",
       "      <td>Carmencita</td>\n",
       "      <td>Carmencita</td>\n",
       "      <td>0</td>\n",
       "      <td>1894</td>\n",
       "      <td>\\N</td>\n",
       "      <td>1</td>\n",
       "      <td>Documentary,Short</td>\n",
       "      <td>2.0</td>\n",
       "    </tr>\n",
       "    <tr>\n",
       "      <th>1</th>\n",
       "      <td>tt0000002</td>\n",
       "      <td>short</td>\n",
       "      <td>Le clown et ses chiens</td>\n",
       "      <td>Le clown et ses chiens</td>\n",
       "      <td>0</td>\n",
       "      <td>1892</td>\n",
       "      <td>\\N</td>\n",
       "      <td>5</td>\n",
       "      <td>Animation,Short</td>\n",
       "      <td>6.0</td>\n",
       "    </tr>\n",
       "    <tr>\n",
       "      <th>2</th>\n",
       "      <td>tt0000003</td>\n",
       "      <td>short</td>\n",
       "      <td>Pauvre Pierrot</td>\n",
       "      <td>Pauvre Pierrot</td>\n",
       "      <td>0</td>\n",
       "      <td>1892</td>\n",
       "      <td>\\N</td>\n",
       "      <td>4</td>\n",
       "      <td>Animation,Comedy,Romance</td>\n",
       "      <td>5.0</td>\n",
       "    </tr>\n",
       "    <tr>\n",
       "      <th>3</th>\n",
       "      <td>tt0000004</td>\n",
       "      <td>short</td>\n",
       "      <td>Un bon bock</td>\n",
       "      <td>Un bon bock</td>\n",
       "      <td>0</td>\n",
       "      <td>1892</td>\n",
       "      <td>\\N</td>\n",
       "      <td>12</td>\n",
       "      <td>Animation,Short</td>\n",
       "      <td>13.0</td>\n",
       "    </tr>\n",
       "    <tr>\n",
       "      <th>4</th>\n",
       "      <td>tt0000005</td>\n",
       "      <td>short</td>\n",
       "      <td>Blacksmith Scene</td>\n",
       "      <td>Blacksmith Scene</td>\n",
       "      <td>0</td>\n",
       "      <td>1893</td>\n",
       "      <td>\\N</td>\n",
       "      <td>1</td>\n",
       "      <td>Comedy,Short</td>\n",
       "      <td>2.0</td>\n",
       "    </tr>\n",
       "  </tbody>\n",
       "</table>\n",
       "</div>"
      ],
      "text/plain": [
       "      tconst titleType              nome_filme           originalTitle  \\\n",
       "0  tt0000001     short              Carmencita              Carmencita   \n",
       "1  tt0000002     short  Le clown et ses chiens  Le clown et ses chiens   \n",
       "2  tt0000003     short          Pauvre Pierrot          Pauvre Pierrot   \n",
       "3  tt0000004     short             Un bon bock             Un bon bock   \n",
       "4  tt0000005     short        Blacksmith Scene        Blacksmith Scene   \n",
       "\n",
       "  isAdult startYear endYear runtimeMinutes                    genres  \\\n",
       "0       0      1894      \\N              1         Documentary,Short   \n",
       "1       0      1892      \\N              5           Animation,Short   \n",
       "2       0      1892      \\N              4  Animation,Comedy,Romance   \n",
       "3       0      1892      \\N             12           Animation,Short   \n",
       "4       0      1893      \\N              1              Comedy,Short   \n",
       "\n",
       "   (runtimeMinutes + 1)  \n",
       "0                   2.0  \n",
       "1                   6.0  \n",
       "2                   5.0  \n",
       "3                  13.0  \n",
       "4                   2.0  "
      ]
     },
     "execution_count": 88,
     "metadata": {},
     "output_type": "execute_result"
    }
   ],
   "source": [
    "(\n",
    "    df_titles\n",
    "    .withColumnRenamed('primaryTitle', 'nome_filme')\n",
    "    .selectExpr('*', 'runtimeMinutes + 1')   \n",
    "    .limit(5)\n",
    "    .toPandas()\n",
    ")"
   ]
  },
  {
   "cell_type": "code",
   "execution_count": 85,
   "id": "d46cf472",
   "metadata": {
    "pycharm": {
     "name": "#%%\n"
    }
   },
   "outputs": [
    {
     "name": "stdout",
     "output_type": "stream",
     "text": [
      "+--------------------+---------+---------+--------------+\n",
      "|          nome_filme|titleType|startYear|runtimeMinutes|\n",
      "+--------------------+---------+---------+--------------+\n",
      "|          Carmencita|    short|     1894|             1|\n",
      "|Le clown et ses c...|    short|     1892|             5|\n",
      "|      Pauvre Pierrot|    short|     1892|             4|\n",
      "|         Un bon bock|    short|     1892|            12|\n",
      "|    Blacksmith Scene|    short|     1893|             1|\n",
      "+--------------------+---------+---------+--------------+\n",
      "only showing top 5 rows\n",
      "\n"
     ]
    }
   ],
   "source": [
    "(\n",
    "    df_titles.selectExpr('primaryTitle as nome_filme', 'titleType', 'startYear', 'runtimeMinutes')\n",
    "    .show(5)\n",
    ")"
   ]
  },
  {
   "cell_type": "code",
   "execution_count": 43,
   "id": "d97d4ec3",
   "metadata": {
    "pycharm": {
     "name": "#%%\n"
    }
   },
   "outputs": [
    {
     "data": {
      "text/html": [
       "<div>\n",
       "<style scoped>\n",
       "    .dataframe tbody tr th:only-of-type {\n",
       "        vertical-align: middle;\n",
       "    }\n",
       "\n",
       "    .dataframe tbody tr th {\n",
       "        vertical-align: top;\n",
       "    }\n",
       "\n",
       "    .dataframe thead th {\n",
       "        text-align: right;\n",
       "    }\n",
       "</style>\n",
       "<table border=\"1\" class=\"dataframe\">\n",
       "  <thead>\n",
       "    <tr style=\"text-align: right;\">\n",
       "      <th></th>\n",
       "      <th>tconst_suffix</th>\n",
       "      <th>titleType_suffix</th>\n",
       "      <th>primaryTitle_suffix</th>\n",
       "      <th>originalTitle_suffix</th>\n",
       "      <th>isAdult_suffix</th>\n",
       "      <th>startYear_suffix</th>\n",
       "      <th>endYear_suffix</th>\n",
       "      <th>runtimeMinutes_suffix</th>\n",
       "      <th>genres_suffix</th>\n",
       "    </tr>\n",
       "  </thead>\n",
       "  <tbody>\n",
       "    <tr>\n",
       "      <th>0</th>\n",
       "      <td>tt0000001</td>\n",
       "      <td>short</td>\n",
       "      <td>Carmencita</td>\n",
       "      <td>Carmencita</td>\n",
       "      <td>0</td>\n",
       "      <td>1894</td>\n",
       "      <td>\\N</td>\n",
       "      <td>1</td>\n",
       "      <td>Documentary,Short</td>\n",
       "    </tr>\n",
       "    <tr>\n",
       "      <th>1</th>\n",
       "      <td>tt0000002</td>\n",
       "      <td>short</td>\n",
       "      <td>Le clown et ses chiens</td>\n",
       "      <td>Le clown et ses chiens</td>\n",
       "      <td>0</td>\n",
       "      <td>1892</td>\n",
       "      <td>\\N</td>\n",
       "      <td>5</td>\n",
       "      <td>Animation,Short</td>\n",
       "    </tr>\n",
       "    <tr>\n",
       "      <th>2</th>\n",
       "      <td>tt0000003</td>\n",
       "      <td>short</td>\n",
       "      <td>Pauvre Pierrot</td>\n",
       "      <td>Pauvre Pierrot</td>\n",
       "      <td>0</td>\n",
       "      <td>1892</td>\n",
       "      <td>\\N</td>\n",
       "      <td>4</td>\n",
       "      <td>Animation,Comedy,Romance</td>\n",
       "    </tr>\n",
       "    <tr>\n",
       "      <th>3</th>\n",
       "      <td>tt0000004</td>\n",
       "      <td>short</td>\n",
       "      <td>Un bon bock</td>\n",
       "      <td>Un bon bock</td>\n",
       "      <td>0</td>\n",
       "      <td>1892</td>\n",
       "      <td>\\N</td>\n",
       "      <td>12</td>\n",
       "      <td>Animation,Short</td>\n",
       "    </tr>\n",
       "    <tr>\n",
       "      <th>4</th>\n",
       "      <td>tt0000005</td>\n",
       "      <td>short</td>\n",
       "      <td>Blacksmith Scene</td>\n",
       "      <td>Blacksmith Scene</td>\n",
       "      <td>0</td>\n",
       "      <td>1893</td>\n",
       "      <td>\\N</td>\n",
       "      <td>1</td>\n",
       "      <td>Comedy,Short</td>\n",
       "    </tr>\n",
       "  </tbody>\n",
       "</table>\n",
       "</div>"
      ],
      "text/plain": [
       "  tconst_suffix titleType_suffix     primaryTitle_suffix  \\\n",
       "0     tt0000001            short              Carmencita   \n",
       "1     tt0000002            short  Le clown et ses chiens   \n",
       "2     tt0000003            short          Pauvre Pierrot   \n",
       "3     tt0000004            short             Un bon bock   \n",
       "4     tt0000005            short        Blacksmith Scene   \n",
       "\n",
       "     originalTitle_suffix isAdult_suffix startYear_suffix endYear_suffix  \\\n",
       "0              Carmencita              0             1894             \\N   \n",
       "1  Le clown et ses chiens              0             1892             \\N   \n",
       "2          Pauvre Pierrot              0             1892             \\N   \n",
       "3             Un bon bock              0             1892             \\N   \n",
       "4        Blacksmith Scene              0             1893             \\N   \n",
       "\n",
       "  runtimeMinutes_suffix             genres_suffix  \n",
       "0                     1         Documentary,Short  \n",
       "1                     5           Animation,Short  \n",
       "2                     4  Animation,Comedy,Romance  \n",
       "3                    12           Animation,Short  \n",
       "4                     1              Comedy,Short  "
      ]
     },
     "execution_count": 43,
     "metadata": {},
     "output_type": "execute_result"
    }
   ],
   "source": [
    "df_renamed = df_titles\n",
    "for c in df_titles.columns:\n",
    "    df_renamed = df_renamed.withColumnRenamed(c, c + '_suffix')\n",
    "\n",
    "df_renamed.limit(5).toPandas()"
   ]
  },
  {
   "cell_type": "markdown",
   "id": "efe2d8b8",
   "metadata": {},
   "source": [
    "### Criando e Alterando Colunas"
   ]
  },
  {
   "cell_type": "markdown",
   "id": "153b3284",
   "metadata": {},
   "source": [
    "Para criar ou alterar colunas, é utilizada a função `withColumn()`, da seguinte forma:\n",
    "\n",
    "```\n",
    "df.withColumn(\"nome_da_coluna\", {expressão geradora de coluna})\n",
    "```"
   ]
  },
  {
   "cell_type": "code",
   "execution_count": 44,
   "id": "c8448851",
   "metadata": {
    "pycharm": {
     "name": "#%%\n"
    }
   },
   "outputs": [
    {
     "name": "stdout",
     "output_type": "stream",
     "text": [
      "+---------+--------------------+--------------+--------------------+\n",
      "|   tconst|        primaryTitle|runtimeMinutes|      primaryTitle_2|\n",
      "+---------+--------------------+--------------+--------------------+\n",
      "|tt0000001|          Carmencita|             1|          CARMENCITA|\n",
      "|tt0000002|Le clown et ses c...|             5|LE CLOWN ET SES C...|\n",
      "|tt0000003|      Pauvre Pierrot|             4|      PAUVRE PIERROT|\n",
      "|tt0000004|         Un bon bock|            12|         UN BON BOCK|\n",
      "|tt0000005|    Blacksmith Scene|             1|    BLACKSMITH SCENE|\n",
      "+---------+--------------------+--------------+--------------------+\n",
      "only showing top 5 rows\n",
      "\n"
     ]
    }
   ],
   "source": [
    "from pyspark.sql.functions import upper\n",
    "\n",
    "(\n",
    "    df_titles\n",
    "    .select('tconst', 'primaryTitle', 'runtimeMinutes', )\n",
    "    .withColumn(\"primaryTitle_2\", upper('primaryTitle'))\n",
    "    .show(5)\n",
    ")"
   ]
  },
  {
   "cell_type": "markdown",
   "id": "04cbe4c8",
   "metadata": {},
   "source": [
    "#### Criando colunas a partir de constantes"
   ]
  },
  {
   "cell_type": "code",
   "execution_count": 45,
   "id": "fc16e80a",
   "metadata": {
    "pycharm": {
     "name": "#%%\n"
    }
   },
   "outputs": [
    {
     "name": "stdout",
     "output_type": "stream",
     "text": [
      "+---------+--------------------+--------------+------+\n",
      "|   tconst|        primaryTitle|runtimeMinutes|  pais|\n",
      "+---------+--------------------+--------------+------+\n",
      "|tt0000001|          Carmencita|             1|Brasil|\n",
      "|tt0000002|Le clown et ses c...|             5|Brasil|\n",
      "|tt0000003|      Pauvre Pierrot|             4|Brasil|\n",
      "|tt0000004|         Un bon bock|            12|Brasil|\n",
      "|tt0000005|    Blacksmith Scene|             1|Brasil|\n",
      "+---------+--------------------+--------------+------+\n",
      "only showing top 5 rows\n",
      "\n"
     ]
    }
   ],
   "source": [
    "from pyspark.sql.functions import lit\n",
    "\n",
    "(\n",
    "    df_titles\n",
    "    .select('tconst', 'primaryTitle', 'runtimeMinutes', )\n",
    "    .withColumn(\"pais\", lit('Brasil'))\n",
    "    .show(5)\n",
    ")"
   ]
  },
  {
   "cell_type": "markdown",
   "id": "877aa764",
   "metadata": {},
   "source": [
    "#### Criando colunas condicionais"
   ]
  },
  {
   "cell_type": "code",
   "execution_count": 89,
   "id": "451f5e73",
   "metadata": {
    "pycharm": {
     "name": "#%%\n"
    }
   },
   "outputs": [
    {
     "name": "stdout",
     "output_type": "stream",
     "text": [
      "+---------+--------------------+--------------+-----------------+\n",
      "|   tconst|        primaryTitle|runtimeMinutes|categoria_runtime|\n",
      "+---------+--------------------+--------------+-----------------+\n",
      "|tt0000502|            Bohemios|           100|           normal|\n",
      "|tt0000574|The Story of the ...|            70|           normal|\n",
      "|tt0000591|    The Prodigal Son|            90|           normal|\n",
      "|tt0000679|The Fairylogue an...|           120|            longo|\n",
      "|tt0001756|Lucha por la here...|            92|           normal|\n",
      "|tt0002026|Anny - Story of a...|            68|           normal|\n",
      "|tt0002101|           Cleopatra|           100|           normal|\n",
      "|tt0002130|     Dante's Inferno|            71|           normal|\n",
      "|tt0002315|El lobo de la sierra|            76|           normal|\n",
      "|tt0002423|             Passion|            85|           normal|\n",
      "|tt0002445|          Quo Vadis?|           120|            longo|\n",
      "|tt0002452|The Independence ...|           120|            longo|\n",
      "|tt0002625|          Ana Kadova|            92|           normal|\n",
      "|tt0002646|            Atlantis|           121|            longo|\n",
      "|tt0002685|        Blodets röst|            89|           normal|\n",
      "|tt0002767|The Count of Mont...|            69|           normal|\n",
      "|tt0002820|          East Lynne|            69|           normal|\n",
      "|tt0002885|   From Dusk to Dawn|            90|           normal|\n",
      "|tt0002898|Germinal; or, The...|           150|            longo|\n",
      "|tt0002922|              Hamlet|            64|           normal|\n",
      "|tt0002973|Dr. Mawson in the...|            68|           normal|\n",
      "|tt0003014|       Ingeborg Holm|            96|           normal|\n",
      "|tt0003037|Fantomas: The Man...|            61|           normal|\n",
      "|tt0003076|   Livets konflikter|            64|           normal|\n",
      "|tt0003102|    Love Everlasting|            90|           normal|\n",
      "+---------+--------------------+--------------+-----------------+\n",
      "only showing top 25 rows\n",
      "\n"
     ]
    }
   ],
   "source": [
    "from pyspark.sql.functions import when, expr\n",
    "\n",
    "predicado = \"\"\"\n",
    "\n",
    "CASE WHEN runTimeMinutes <= 60 THEN 'curto'\n",
    "     WHEN runTimeMinutes > 60 AND runTimeMinutes < 120 THEN 'normal'\n",
    "     WHEN runTimeMinutes >= 120 THEN 'longo'\n",
    "     WHEN runTimeMinutes IS NULL THEN 'nulo'\n",
    "     ELSE 'Erro'\n",
    "END\n",
    "\n",
    "\"\"\"\n",
    "\n",
    "(\n",
    "    df_titles\n",
    "    .select('tconst', 'primaryTitle', 'runtimeMinutes', )\n",
    "    .withColumn(\"runtimeMinutes\", col('runTimeMinutes').cast('int'))\n",
    "    .withColumn(\"categoria_runtime\", expr(predicado))\n",
    "    .filter('runTimeMinutes > 60')\n",
    "    .show(25)\n",
    ")"
   ]
  },
  {
   "cell_type": "markdown",
   "id": "00ad0856",
   "metadata": {},
   "source": [
    "## Trabalhando com Diferentes Tipos de Dados"
   ]
  },
  {
   "cell_type": "code",
   "execution_count": 47,
   "id": "798fc43c",
   "metadata": {
    "pycharm": {
     "name": "#%%\n"
    }
   },
   "outputs": [],
   "source": [
    "import pyspark.sql.functions as f"
   ]
  },
  {
   "cell_type": "markdown",
   "id": "07d1677c",
   "metadata": {},
   "source": [
    "### Valores Numéricos"
   ]
  },
  {
   "cell_type": "markdown",
   "id": "c5b4c0b2",
   "metadata": {},
   "source": [
    "* `round()`: arredonda o valor numérico\n",
    "* `ceil()`: arredonda o valor numérico para o maior inteiro mais próximo\n",
    "* `floor()`: arredonda o valor numérico para o menor inteiro mais próximo\n",
    "* `sqrt()`: retorna a raiz quadrada do valor\n",
    "* `exp()`: retorna a exponencial do valor\n",
    "* `log()`: retorna a logaritmo natural do valor\n",
    "* `log10()`: retorna a logaritmo na base 10 do valor\n",
    "* `greatest()`: retorna o maior valor dentre os valores das colunas. Análogo ao `max()`, mas entre colunas\n",
    "* `least()`: retorna o menor valor dentre os valores das colunas. Análogo ao `min()`, mas entre colunas"
   ]
  },
  {
   "cell_type": "code",
   "execution_count": 48,
   "id": "ff7b7a80",
   "metadata": {
    "pycharm": {
     "name": "#%%\n"
    }
   },
   "outputs": [
    {
     "name": "stdout",
     "output_type": "stream",
     "text": [
      "+---------+---------+--------------------+--------------------+-------+---------+-------+--------------+--------------------+\n",
      "|   tconst|titleType|        primaryTitle|       originalTitle|isAdult|startYear|endYear|runtimeMinutes|              genres|\n",
      "+---------+---------+--------------------+--------------------+-------+---------+-------+--------------+--------------------+\n",
      "|tt0000001|    short|          Carmencita|          Carmencita|      0|     1894|     \\N|             1|   Documentary,Short|\n",
      "|tt0000002|    short|Le clown et ses c...|Le clown et ses c...|      0|     1892|     \\N|             5|     Animation,Short|\n",
      "|tt0000003|    short|      Pauvre Pierrot|      Pauvre Pierrot|      0|     1892|     \\N|             4|Animation,Comedy,...|\n",
      "|tt0000004|    short|         Un bon bock|         Un bon bock|      0|     1892|     \\N|            12|     Animation,Short|\n",
      "|tt0000005|    short|    Blacksmith Scene|    Blacksmith Scene|      0|     1893|     \\N|             1|        Comedy,Short|\n",
      "+---------+---------+--------------------+--------------------+-------+---------+-------+--------------+--------------------+\n",
      "only showing top 5 rows\n",
      "\n"
     ]
    }
   ],
   "source": [
    "df_titles.show(5)"
   ]
  },
  {
   "cell_type": "code",
   "execution_count": 49,
   "id": "0879803d",
   "metadata": {
    "pycharm": {
     "name": "#%%\n"
    }
   },
   "outputs": [
    {
     "data": {
      "text/html": [
       "<div>\n",
       "<style scoped>\n",
       "    .dataframe tbody tr th:only-of-type {\n",
       "        vertical-align: middle;\n",
       "    }\n",
       "\n",
       "    .dataframe tbody tr th {\n",
       "        vertical-align: top;\n",
       "    }\n",
       "\n",
       "    .dataframe thead th {\n",
       "        text-align: right;\n",
       "    }\n",
       "</style>\n",
       "<table border=\"1\" class=\"dataframe\">\n",
       "  <thead>\n",
       "    <tr style=\"text-align: right;\">\n",
       "      <th></th>\n",
       "      <th>tconst</th>\n",
       "      <th>titleType</th>\n",
       "      <th>primaryTitle</th>\n",
       "      <th>originalTitle</th>\n",
       "      <th>isAdult</th>\n",
       "      <th>startYear</th>\n",
       "      <th>endYear</th>\n",
       "      <th>runtimeMinutes</th>\n",
       "      <th>genres</th>\n",
       "      <th>random_normal</th>\n",
       "      <th>dummy_division</th>\n",
       "      <th>round_example</th>\n",
       "      <th>ceil_example</th>\n",
       "      <th>floor_example</th>\n",
       "      <th>greatest_example</th>\n",
       "      <th>least_example</th>\n",
       "    </tr>\n",
       "  </thead>\n",
       "  <tbody>\n",
       "    <tr>\n",
       "      <th>0</th>\n",
       "      <td>tt0000001</td>\n",
       "      <td>short</td>\n",
       "      <td>Carmencita</td>\n",
       "      <td>Carmencita</td>\n",
       "      <td>0</td>\n",
       "      <td>1894</td>\n",
       "      <td>\\N</td>\n",
       "      <td>1</td>\n",
       "      <td>Documentary,Short</td>\n",
       "      <td>-0.992755</td>\n",
       "      <td>-1.007298</td>\n",
       "      <td>-1.007</td>\n",
       "      <td>-1</td>\n",
       "      <td>-2</td>\n",
       "      <td>15.0</td>\n",
       "      <td>-15.0</td>\n",
       "    </tr>\n",
       "    <tr>\n",
       "      <th>1</th>\n",
       "      <td>tt0000002</td>\n",
       "      <td>short</td>\n",
       "      <td>Le clown et ses chiens</td>\n",
       "      <td>Le clown et ses chiens</td>\n",
       "      <td>0</td>\n",
       "      <td>1892</td>\n",
       "      <td>\\N</td>\n",
       "      <td>5</td>\n",
       "      <td>Animation,Short</td>\n",
       "      <td>0.431839</td>\n",
       "      <td>11.578388</td>\n",
       "      <td>11.578</td>\n",
       "      <td>12</td>\n",
       "      <td>11</td>\n",
       "      <td>15.0</td>\n",
       "      <td>-15.0</td>\n",
       "    </tr>\n",
       "    <tr>\n",
       "      <th>2</th>\n",
       "      <td>tt0000003</td>\n",
       "      <td>short</td>\n",
       "      <td>Pauvre Pierrot</td>\n",
       "      <td>Pauvre Pierrot</td>\n",
       "      <td>0</td>\n",
       "      <td>1892</td>\n",
       "      <td>\\N</td>\n",
       "      <td>4</td>\n",
       "      <td>Animation,Comedy,Romance</td>\n",
       "      <td>0.250836</td>\n",
       "      <td>15.946656</td>\n",
       "      <td>15.947</td>\n",
       "      <td>16</td>\n",
       "      <td>15</td>\n",
       "      <td>15.0</td>\n",
       "      <td>-15.0</td>\n",
       "    </tr>\n",
       "    <tr>\n",
       "      <th>3</th>\n",
       "      <td>tt0000004</td>\n",
       "      <td>short</td>\n",
       "      <td>Un bon bock</td>\n",
       "      <td>Un bon bock</td>\n",
       "      <td>0</td>\n",
       "      <td>1892</td>\n",
       "      <td>\\N</td>\n",
       "      <td>12</td>\n",
       "      <td>Animation,Short</td>\n",
       "      <td>-0.104760</td>\n",
       "      <td>-114.547432</td>\n",
       "      <td>-114.547</td>\n",
       "      <td>-114</td>\n",
       "      <td>-115</td>\n",
       "      <td>15.0</td>\n",
       "      <td>-15.0</td>\n",
       "    </tr>\n",
       "    <tr>\n",
       "      <th>4</th>\n",
       "      <td>tt0000005</td>\n",
       "      <td>short</td>\n",
       "      <td>Blacksmith Scene</td>\n",
       "      <td>Blacksmith Scene</td>\n",
       "      <td>0</td>\n",
       "      <td>1893</td>\n",
       "      <td>\\N</td>\n",
       "      <td>1</td>\n",
       "      <td>Comedy,Short</td>\n",
       "      <td>-1.301178</td>\n",
       "      <td>-0.768534</td>\n",
       "      <td>-0.769</td>\n",
       "      <td>0</td>\n",
       "      <td>-1</td>\n",
       "      <td>15.0</td>\n",
       "      <td>-15.0</td>\n",
       "    </tr>\n",
       "  </tbody>\n",
       "</table>\n",
       "</div>"
      ],
      "text/plain": [
       "      tconst titleType            primaryTitle           originalTitle  \\\n",
       "0  tt0000001     short              Carmencita              Carmencita   \n",
       "1  tt0000002     short  Le clown et ses chiens  Le clown et ses chiens   \n",
       "2  tt0000003     short          Pauvre Pierrot          Pauvre Pierrot   \n",
       "3  tt0000004     short             Un bon bock             Un bon bock   \n",
       "4  tt0000005     short        Blacksmith Scene        Blacksmith Scene   \n",
       "\n",
       "  isAdult startYear endYear  runtimeMinutes                    genres  \\\n",
       "0       0      1894      \\N               1         Documentary,Short   \n",
       "1       0      1892      \\N               5           Animation,Short   \n",
       "2       0      1892      \\N               4  Animation,Comedy,Romance   \n",
       "3       0      1892      \\N              12           Animation,Short   \n",
       "4       0      1893      \\N               1              Comedy,Short   \n",
       "\n",
       "   random_normal  dummy_division  round_example  ceil_example  floor_example  \\\n",
       "0      -0.992755       -1.007298         -1.007            -1             -2   \n",
       "1       0.431839       11.578388         11.578            12             11   \n",
       "2       0.250836       15.946656         15.947            16             15   \n",
       "3      -0.104760     -114.547432       -114.547          -114           -115   \n",
       "4      -1.301178       -0.768534         -0.769             0             -1   \n",
       "\n",
       "   greatest_example  least_example  \n",
       "0              15.0          -15.0  \n",
       "1              15.0          -15.0  \n",
       "2              15.0          -15.0  \n",
       "3              15.0          -15.0  \n",
       "4              15.0          -15.0  "
      ]
     },
     "execution_count": 49,
     "metadata": {},
     "output_type": "execute_result"
    }
   ],
   "source": [
    "(\n",
    "    df_titles\n",
    "    .withColumn('runtimeMinutes', f.col('runtimeMinutes').cast('int'))\n",
    "    .withColumn('random_normal', f.randn(123))\n",
    "    .withColumn('dummy_division', f.col('runtimeMinutes') / f.col('random_normal'))\n",
    "    .withColumn('round_example', f.round(f.col('dummy_division'), 3))\n",
    "    .withColumn('ceil_example', f.ceil(f.col('dummy_division')))\n",
    "    .withColumn('floor_example', f.floor(f.col('dummy_division')))\n",
    "    .withColumn('greatest_example', f.greatest(f.col('random_normal'), f.col('runtimeMinutes'), f.lit(15)))\n",
    "    .withColumn('least_example', f.least(f.col('random_normal'), f.col('runtimeMinutes'), f.lit(-15)))\n",
    "    .limit(5)\n",
    "    .toPandas()\n",
    ")"
   ]
  },
  {
   "cell_type": "markdown",
   "id": "9a82dead",
   "metadata": {},
   "source": [
    "### Strings"
   ]
  },
  {
   "cell_type": "markdown",
   "id": "e1367d82",
   "metadata": {},
   "source": [
    "* `upper()`: retorna o string em letras maiúsculas\n",
    "* `lower()`: retorna o string em letras minúsculas\n",
    "* `initcap()`: retorna a primeira letra de cada palavra no string em letras maiúsculas\n",
    "* `trim()`: retira os espaços em branco do início e do final do string\n",
    "* `ltrim() / rtrim()`: retira os espaços em branco do início e do final do string, respectivamente\n",
    "* `lpad() / rpad()`: acrescenta um caractere no início e no final do string, respectivamente, até que o string tenha um determinado comprimento\n",
    "* `length()`: retorna o comprimento do string, em quantidade de caracteres\n",
    "* `split()`: quebra o string a partir de um padrão e retorna um array com os string resultantes\n",
    "* `concat()`: concatena uma ou mais colunas de string\n",
    "* `concat_ws()`: concatena uma ou mais colunas de string, com um separador entre elas\n",
    "* `regexp_extract()`: retorna um match no string a partir de um padrão regex\n",
    "* `regexp_replace()`: substitui um mtach no strinf a partir de um padrão regex com outros caracteres\n",
    "* `substring()`: retorna os caracteres do string que estão entre dos indices especificados. Análogo a `f.col().substring()`"
   ]
  },
  {
   "cell_type": "code",
   "execution_count": 50,
   "id": "20bcfc64",
   "metadata": {
    "pycharm": {
     "name": "#%%\n"
    }
   },
   "outputs": [
    {
     "data": {
      "text/html": [
       "<div>\n",
       "<style scoped>\n",
       "    .dataframe tbody tr th:only-of-type {\n",
       "        vertical-align: middle;\n",
       "    }\n",
       "\n",
       "    .dataframe tbody tr th {\n",
       "        vertical-align: top;\n",
       "    }\n",
       "\n",
       "    .dataframe thead th {\n",
       "        text-align: right;\n",
       "    }\n",
       "</style>\n",
       "<table border=\"1\" class=\"dataframe\">\n",
       "  <thead>\n",
       "    <tr style=\"text-align: right;\">\n",
       "      <th></th>\n",
       "      <th>tconst</th>\n",
       "      <th>titleType</th>\n",
       "      <th>primaryTitle</th>\n",
       "      <th>originalTitle</th>\n",
       "      <th>isAdult</th>\n",
       "      <th>startYear</th>\n",
       "      <th>endYear</th>\n",
       "      <th>runtimeMinutes</th>\n",
       "      <th>genres</th>\n",
       "      <th>genres_array</th>\n",
       "      <th>num_const</th>\n",
       "      <th>full_name</th>\n",
       "    </tr>\n",
       "  </thead>\n",
       "  <tbody>\n",
       "    <tr>\n",
       "      <th>0</th>\n",
       "      <td>tt0000001</td>\n",
       "      <td>Short</td>\n",
       "      <td>Carmencita</td>\n",
       "      <td>Carmencita</td>\n",
       "      <td>0</td>\n",
       "      <td>1894</td>\n",
       "      <td>\\N</td>\n",
       "      <td>1</td>\n",
       "      <td>Documentary,Short</td>\n",
       "      <td>[Documentary, Short]</td>\n",
       "      <td>0000001</td>\n",
       "      <td>Carmencita / Carmencita</td>\n",
       "    </tr>\n",
       "    <tr>\n",
       "      <th>1</th>\n",
       "      <td>tt0000002</td>\n",
       "      <td>Short</td>\n",
       "      <td>Le Clown Et Ses Chiens</td>\n",
       "      <td>Le clown et ses chiens</td>\n",
       "      <td>0</td>\n",
       "      <td>1892</td>\n",
       "      <td>\\N</td>\n",
       "      <td>5</td>\n",
       "      <td>Animation,Short</td>\n",
       "      <td>[Animation, Short]</td>\n",
       "      <td>0000002</td>\n",
       "      <td>Le Clown Et Ses Chiens / Le clown et ses chiens</td>\n",
       "    </tr>\n",
       "    <tr>\n",
       "      <th>2</th>\n",
       "      <td>tt0000003</td>\n",
       "      <td>Short</td>\n",
       "      <td>Pauvre Pierrot</td>\n",
       "      <td>Pauvre Pierrot</td>\n",
       "      <td>0</td>\n",
       "      <td>1892</td>\n",
       "      <td>\\N</td>\n",
       "      <td>4</td>\n",
       "      <td>Animation,Comedy,Romance</td>\n",
       "      <td>[Animation, Comedy, Romance]</td>\n",
       "      <td>0000003</td>\n",
       "      <td>Pauvre Pierrot / Pauvre Pierrot</td>\n",
       "    </tr>\n",
       "    <tr>\n",
       "      <th>3</th>\n",
       "      <td>tt0000004</td>\n",
       "      <td>Short</td>\n",
       "      <td>Un Bon Bock</td>\n",
       "      <td>Un bon bock</td>\n",
       "      <td>0</td>\n",
       "      <td>1892</td>\n",
       "      <td>\\N</td>\n",
       "      <td>12</td>\n",
       "      <td>Animation,Short</td>\n",
       "      <td>[Animation, Short]</td>\n",
       "      <td>0000004</td>\n",
       "      <td>Un Bon Bock / Un bon bock</td>\n",
       "    </tr>\n",
       "    <tr>\n",
       "      <th>4</th>\n",
       "      <td>tt0000005</td>\n",
       "      <td>Short</td>\n",
       "      <td>Blacksmith Scene</td>\n",
       "      <td>Blacksmith Scene</td>\n",
       "      <td>0</td>\n",
       "      <td>1893</td>\n",
       "      <td>\\N</td>\n",
       "      <td>1</td>\n",
       "      <td>Comedy,Short</td>\n",
       "      <td>[Comedy, Short]</td>\n",
       "      <td>0000005</td>\n",
       "      <td>Blacksmith Scene / Blacksmith Scene</td>\n",
       "    </tr>\n",
       "  </tbody>\n",
       "</table>\n",
       "</div>"
      ],
      "text/plain": [
       "      tconst titleType            primaryTitle           originalTitle  \\\n",
       "0  tt0000001     Short              Carmencita              Carmencita   \n",
       "1  tt0000002     Short  Le Clown Et Ses Chiens  Le clown et ses chiens   \n",
       "2  tt0000003     Short          Pauvre Pierrot          Pauvre Pierrot   \n",
       "3  tt0000004     Short             Un Bon Bock             Un bon bock   \n",
       "4  tt0000005     Short        Blacksmith Scene        Blacksmith Scene   \n",
       "\n",
       "  isAdult startYear endYear runtimeMinutes                    genres  \\\n",
       "0       0      1894      \\N              1         Documentary,Short   \n",
       "1       0      1892      \\N              5           Animation,Short   \n",
       "2       0      1892      \\N              4  Animation,Comedy,Romance   \n",
       "3       0      1892      \\N             12           Animation,Short   \n",
       "4       0      1893      \\N              1              Comedy,Short   \n",
       "\n",
       "                   genres_array num_const  \\\n",
       "0          [Documentary, Short]   0000001   \n",
       "1            [Animation, Short]   0000002   \n",
       "2  [Animation, Comedy, Romance]   0000003   \n",
       "3            [Animation, Short]   0000004   \n",
       "4               [Comedy, Short]   0000005   \n",
       "\n",
       "                                         full_name  \n",
       "0                          Carmencita / Carmencita  \n",
       "1  Le Clown Et Ses Chiens / Le clown et ses chiens  \n",
       "2                  Pauvre Pierrot / Pauvre Pierrot  \n",
       "3                        Un Bon Bock / Un bon bock  \n",
       "4              Blacksmith Scene / Blacksmith Scene  "
      ]
     },
     "execution_count": 50,
     "metadata": {},
     "output_type": "execute_result"
    }
   ],
   "source": [
    "(\n",
    "    df_titles\n",
    "    .withColumn('primaryTitle', f.initcap(f.col('primaryTitle')))\n",
    "    .withColumn('titleType', f.trim(f.initcap(f.col('titleType'))))\n",
    "    .withColumn('genres_array', f.split(f.col('genres'), ','))\n",
    "    .withColumn('num_const', f.substring(f.col('tconst'), 3, 7))\n",
    "    .withColumn('full_name', f.concat_ws(' / ', f.col('primaryTitle'), f.col('originalTitle')))\n",
    "    .limit(5)\n",
    "    .toPandas()\n",
    ")"
   ]
  },
  {
   "cell_type": "markdown",
   "id": "5260cf87",
   "metadata": {},
   "source": [
    "### Datas"
   ]
  },
  {
   "cell_type": "markdown",
   "id": "7174d13a",
   "metadata": {},
   "source": [
    "* `add_months()`: retorna a data depois de adicionar \"x\" meses\n",
    "* `months_between()`: retorna a diferença entre duas datas em meses\n",
    "* `date_add()`: retorna a data depois de adicionar \"x\" dias\n",
    "* `date_sub()`: retorna a data depois de subtrair \"x\" dias\n",
    "* `next_day()`: retorna o dia seguinte de alguma data\n",
    "* `datediff()`: retorna a diferença entre duas datas em dias\n",
    "* `current_date()`: retorna a data atual\n",
    "* `dayofweek() / dayofmonth() / dayofyear()`: retorna o dia relativo à semana, ao mês e ao ano, respectivamente\n",
    "* `weekofyear()`: retorna a semana relativa ao ano\n",
    "* `second() / minute() / hour()`: retorna os segundos, os minutos e as horas de uma coluna de date-time, respectivamente\n",
    "* `month() / year()`: retorna o mês e o ano de uma coluna de data, respectivamente\n",
    "* `last_day()`: retorna o último dia do mês do qual a data considerada pertence\n",
    "* `to_date()`: transforma a coluna no tipo data (t.DateType())\n",
    "* `trunc()`: formata a data para a unidade especificada\n",
    "    * `year`: \"{ano}-01-01\"\n",
    "    * `month`: \"{ano}-{mes}-01\""
   ]
  },
  {
   "cell_type": "code",
   "execution_count": 51,
   "id": "31b5c9c2",
   "metadata": {
    "pycharm": {
     "name": "#%%\n"
    }
   },
   "outputs": [
    {
     "data": {
      "text/html": [
       "<div>\n",
       "<style scoped>\n",
       "    .dataframe tbody tr th:only-of-type {\n",
       "        vertical-align: middle;\n",
       "    }\n",
       "\n",
       "    .dataframe tbody tr th {\n",
       "        vertical-align: top;\n",
       "    }\n",
       "\n",
       "    .dataframe thead th {\n",
       "        text-align: right;\n",
       "    }\n",
       "</style>\n",
       "<table border=\"1\" class=\"dataframe\">\n",
       "  <thead>\n",
       "    <tr style=\"text-align: right;\">\n",
       "      <th></th>\n",
       "      <th>tconst</th>\n",
       "      <th>titleType</th>\n",
       "      <th>primaryTitle</th>\n",
       "      <th>originalTitle</th>\n",
       "      <th>isAdult</th>\n",
       "      <th>startYear</th>\n",
       "      <th>endYear</th>\n",
       "      <th>runtimeMinutes</th>\n",
       "      <th>genres</th>\n",
       "      <th>data_ano</th>\n",
       "      <th>mes</th>\n",
       "      <th>dia</th>\n",
       "      <th>hoje</th>\n",
       "      <th>data_mes</th>\n",
       "      <th>ultimo_dia_mes</th>\n",
       "      <th>idade_filme_dias</th>\n",
       "      <th>idade_filme_meses</th>\n",
       "      <th>idade_filme_anos</th>\n",
       "    </tr>\n",
       "  </thead>\n",
       "  <tbody>\n",
       "    <tr>\n",
       "      <th>0</th>\n",
       "      <td>tt0000502</td>\n",
       "      <td>movie</td>\n",
       "      <td>Bohemios</td>\n",
       "      <td>Bohemios</td>\n",
       "      <td>0</td>\n",
       "      <td>1905</td>\n",
       "      <td>\\N</td>\n",
       "      <td>100</td>\n",
       "      <td>\\N</td>\n",
       "      <td>1905-01-01</td>\n",
       "      <td>1</td>\n",
       "      <td>1</td>\n",
       "      <td>2021-10-19</td>\n",
       "      <td>2021-10-01</td>\n",
       "      <td>1905-01-31</td>\n",
       "      <td>42660</td>\n",
       "      <td>1401</td>\n",
       "      <td>116</td>\n",
       "    </tr>\n",
       "    <tr>\n",
       "      <th>1</th>\n",
       "      <td>tt0000574</td>\n",
       "      <td>movie</td>\n",
       "      <td>The Story of the Kelly Gang</td>\n",
       "      <td>The Story of the Kelly Gang</td>\n",
       "      <td>0</td>\n",
       "      <td>1906</td>\n",
       "      <td>\\N</td>\n",
       "      <td>70</td>\n",
       "      <td>Action,Adventure,Biography</td>\n",
       "      <td>1906-01-01</td>\n",
       "      <td>1</td>\n",
       "      <td>1</td>\n",
       "      <td>2021-10-19</td>\n",
       "      <td>2021-10-01</td>\n",
       "      <td>1906-01-31</td>\n",
       "      <td>42295</td>\n",
       "      <td>1389</td>\n",
       "      <td>115</td>\n",
       "    </tr>\n",
       "    <tr>\n",
       "      <th>2</th>\n",
       "      <td>tt0000591</td>\n",
       "      <td>movie</td>\n",
       "      <td>The Prodigal Son</td>\n",
       "      <td>L'enfant prodigue</td>\n",
       "      <td>0</td>\n",
       "      <td>1907</td>\n",
       "      <td>\\N</td>\n",
       "      <td>90</td>\n",
       "      <td>Drama</td>\n",
       "      <td>1907-01-01</td>\n",
       "      <td>1</td>\n",
       "      <td>1</td>\n",
       "      <td>2021-10-19</td>\n",
       "      <td>2021-10-01</td>\n",
       "      <td>1907-01-31</td>\n",
       "      <td>41930</td>\n",
       "      <td>1377</td>\n",
       "      <td>114</td>\n",
       "    </tr>\n",
       "    <tr>\n",
       "      <th>3</th>\n",
       "      <td>tt0000615</td>\n",
       "      <td>movie</td>\n",
       "      <td>Robbery Under Arms</td>\n",
       "      <td>Robbery Under Arms</td>\n",
       "      <td>0</td>\n",
       "      <td>1907</td>\n",
       "      <td>\\N</td>\n",
       "      <td>\\N</td>\n",
       "      <td>Drama</td>\n",
       "      <td>1907-01-01</td>\n",
       "      <td>1</td>\n",
       "      <td>1</td>\n",
       "      <td>2021-10-19</td>\n",
       "      <td>2021-10-01</td>\n",
       "      <td>1907-01-31</td>\n",
       "      <td>41930</td>\n",
       "      <td>1377</td>\n",
       "      <td>114</td>\n",
       "    </tr>\n",
       "    <tr>\n",
       "      <th>4</th>\n",
       "      <td>tt0000630</td>\n",
       "      <td>movie</td>\n",
       "      <td>Hamlet</td>\n",
       "      <td>Amleto</td>\n",
       "      <td>0</td>\n",
       "      <td>1908</td>\n",
       "      <td>\\N</td>\n",
       "      <td>\\N</td>\n",
       "      <td>Drama</td>\n",
       "      <td>1908-01-01</td>\n",
       "      <td>1</td>\n",
       "      <td>1</td>\n",
       "      <td>2021-10-19</td>\n",
       "      <td>2021-10-01</td>\n",
       "      <td>1908-01-31</td>\n",
       "      <td>41565</td>\n",
       "      <td>1365</td>\n",
       "      <td>113</td>\n",
       "    </tr>\n",
       "  </tbody>\n",
       "</table>\n",
       "</div>"
      ],
      "text/plain": [
       "      tconst titleType                 primaryTitle  \\\n",
       "0  tt0000502     movie                     Bohemios   \n",
       "1  tt0000574     movie  The Story of the Kelly Gang   \n",
       "2  tt0000591     movie             The Prodigal Son   \n",
       "3  tt0000615     movie           Robbery Under Arms   \n",
       "4  tt0000630     movie                       Hamlet   \n",
       "\n",
       "                 originalTitle isAdult startYear endYear runtimeMinutes  \\\n",
       "0                     Bohemios       0      1905      \\N            100   \n",
       "1  The Story of the Kelly Gang       0      1906      \\N             70   \n",
       "2            L'enfant prodigue       0      1907      \\N             90   \n",
       "3           Robbery Under Arms       0      1907      \\N             \\N   \n",
       "4                       Amleto       0      1908      \\N             \\N   \n",
       "\n",
       "                       genres    data_ano  mes  dia        hoje    data_mes  \\\n",
       "0                          \\N  1905-01-01    1    1  2021-10-19  2021-10-01   \n",
       "1  Action,Adventure,Biography  1906-01-01    1    1  2021-10-19  2021-10-01   \n",
       "2                       Drama  1907-01-01    1    1  2021-10-19  2021-10-01   \n",
       "3                       Drama  1907-01-01    1    1  2021-10-19  2021-10-01   \n",
       "4                       Drama  1908-01-01    1    1  2021-10-19  2021-10-01   \n",
       "\n",
       "  ultimo_dia_mes  idade_filme_dias  idade_filme_meses  idade_filme_anos  \n",
       "0     1905-01-31             42660               1401               116  \n",
       "1     1906-01-31             42295               1389               115  \n",
       "2     1907-01-31             41930               1377               114  \n",
       "3     1907-01-31             41930               1377               114  \n",
       "4     1908-01-31             41565               1365               113  "
      ]
     },
     "execution_count": 51,
     "metadata": {},
     "output_type": "execute_result"
    }
   ],
   "source": [
    "(\n",
    "    df_titles\n",
    "    .filter('titleType = \"movie\"')\n",
    "    .withColumn('data_ano', f.to_date(f.col('startYear'), 'yyyy'))\n",
    "    .withColumn('mes', f.month(f.col('data_ano')))\n",
    "    .withColumn('dia', f.dayofmonth(f.col('data_ano')))\n",
    "    .withColumn('hoje', f.current_date())\n",
    "    .withColumn('data_mes', f.trunc(f.col('hoje'), 'month'))\n",
    "    .withColumn('ultimo_dia_mes', f.last_day(f.col('data_ano')))\n",
    "    .withColumn('idade_filme_dias', f.datediff(f.col('hoje'), f.col('data_ano')))\n",
    "    .withColumn('idade_filme_meses', f.floor(f.months_between(f.col('hoje'), f.col('data_ano'))))\n",
    "    .withColumn('idade_filme_anos', f.floor(f.col('idade_filme_dias') / 365))\n",
    "    .limit(5)\n",
    "    .toPandas()\n",
    ")"
   ]
  },
  {
   "cell_type": "markdown",
   "id": "054dc7ba",
   "metadata": {},
   "source": [
    "### Arrays"
   ]
  },
  {
   "cell_type": "markdown",
   "id": "46555560",
   "metadata": {},
   "source": [
    "* `array()`: constrói um array com as colunas selecionadas\n",
    "* `flatten()`: transforma um array de arrays em um unico array\n",
    "* `explode()`: retorna uma nova linha para cada elemento no array \n",
    "* `size()`: retorna o número de elementos no array\n",
    "* `sort_array()`: ordena os elementos do array, de forma crescente ou decrescente\n",
    "* `reverse()`: reverte a ordem dos elementos de um array\n",
    "* `array_distinct()`: remove elementos duplicados do array\n",
    "* `array_contains()`: verifica se o array contém o elemento especificado\n",
    "* `arrays_overlap()`: partir de 2 colunas de arrays, verifica se elas tem algum elemento em comum, retornando True ou False\n",
    "* `array_union()`: a partir de 2 colunas de arrays, retorna um array com os elementos unidos das duas colunas, sem duplicatas\n",
    "* `array_except()`: a partir de 2 colunas de arrays, retorna um array com os elementos que estão em uma coluna mas não estão na outra, sem duplicatas\n",
    "* `array_intersect()`: a partir de 2 colunas de arrays, retorna um array com os elementos que nas duas colunas, sem duplicatas\n",
    "* `array_join()`: retorna um string após concatenar os elementos do array usando o delimitador especificado\n",
    "* `array_max() / array_min()`: retorna o máximo e o mínimo valor do array, respectivamente\n",
    "* `array_remove()`: remove todos os elementos do array que são iguais ao valor especificado\n"
   ]
  },
  {
   "cell_type": "code",
   "execution_count": 91,
   "id": "c53de54e",
   "metadata": {
    "pycharm": {
     "name": "#%%\n"
    }
   },
   "outputs": [
    {
     "data": {
      "text/html": [
       "<div>\n",
       "<style scoped>\n",
       "    .dataframe tbody tr th:only-of-type {\n",
       "        vertical-align: middle;\n",
       "    }\n",
       "\n",
       "    .dataframe tbody tr th {\n",
       "        vertical-align: top;\n",
       "    }\n",
       "\n",
       "    .dataframe thead th {\n",
       "        text-align: right;\n",
       "    }\n",
       "</style>\n",
       "<table border=\"1\" class=\"dataframe\">\n",
       "  <thead>\n",
       "    <tr style=\"text-align: right;\">\n",
       "      <th></th>\n",
       "      <th>tconst</th>\n",
       "      <th>titleType</th>\n",
       "      <th>primaryTitle</th>\n",
       "      <th>originalTitle</th>\n",
       "      <th>isAdult</th>\n",
       "      <th>startYear</th>\n",
       "      <th>endYear</th>\n",
       "      <th>runtimeMinutes</th>\n",
       "      <th>genres</th>\n",
       "      <th>genres_array</th>\n",
       "      <th>genres_unico</th>\n",
       "    </tr>\n",
       "  </thead>\n",
       "  <tbody>\n",
       "    <tr>\n",
       "      <th>0</th>\n",
       "      <td>tt0000502</td>\n",
       "      <td>movie</td>\n",
       "      <td>Bohemios</td>\n",
       "      <td>Bohemios</td>\n",
       "      <td>0</td>\n",
       "      <td>1905</td>\n",
       "      <td>\\N</td>\n",
       "      <td>100</td>\n",
       "      <td>\\N</td>\n",
       "      <td>[\\N]</td>\n",
       "      <td>\\N</td>\n",
       "    </tr>\n",
       "    <tr>\n",
       "      <th>1</th>\n",
       "      <td>tt0000574</td>\n",
       "      <td>movie</td>\n",
       "      <td>The Story of the Kelly Gang</td>\n",
       "      <td>The Story of the Kelly Gang</td>\n",
       "      <td>0</td>\n",
       "      <td>1906</td>\n",
       "      <td>\\N</td>\n",
       "      <td>70</td>\n",
       "      <td>Action,Adventure,Biography</td>\n",
       "      <td>[Action, Adventure, Biography]</td>\n",
       "      <td>Action</td>\n",
       "    </tr>\n",
       "    <tr>\n",
       "      <th>2</th>\n",
       "      <td>tt0000574</td>\n",
       "      <td>movie</td>\n",
       "      <td>The Story of the Kelly Gang</td>\n",
       "      <td>The Story of the Kelly Gang</td>\n",
       "      <td>0</td>\n",
       "      <td>1906</td>\n",
       "      <td>\\N</td>\n",
       "      <td>70</td>\n",
       "      <td>Action,Adventure,Biography</td>\n",
       "      <td>[Action, Adventure, Biography]</td>\n",
       "      <td>Adventure</td>\n",
       "    </tr>\n",
       "    <tr>\n",
       "      <th>3</th>\n",
       "      <td>tt0000574</td>\n",
       "      <td>movie</td>\n",
       "      <td>The Story of the Kelly Gang</td>\n",
       "      <td>The Story of the Kelly Gang</td>\n",
       "      <td>0</td>\n",
       "      <td>1906</td>\n",
       "      <td>\\N</td>\n",
       "      <td>70</td>\n",
       "      <td>Action,Adventure,Biography</td>\n",
       "      <td>[Action, Adventure, Biography]</td>\n",
       "      <td>Biography</td>\n",
       "    </tr>\n",
       "    <tr>\n",
       "      <th>4</th>\n",
       "      <td>tt0000591</td>\n",
       "      <td>movie</td>\n",
       "      <td>The Prodigal Son</td>\n",
       "      <td>L'enfant prodigue</td>\n",
       "      <td>0</td>\n",
       "      <td>1907</td>\n",
       "      <td>\\N</td>\n",
       "      <td>90</td>\n",
       "      <td>Drama</td>\n",
       "      <td>[Drama]</td>\n",
       "      <td>Drama</td>\n",
       "    </tr>\n",
       "  </tbody>\n",
       "</table>\n",
       "</div>"
      ],
      "text/plain": [
       "      tconst titleType                 primaryTitle  \\\n",
       "0  tt0000502     movie                     Bohemios   \n",
       "1  tt0000574     movie  The Story of the Kelly Gang   \n",
       "2  tt0000574     movie  The Story of the Kelly Gang   \n",
       "3  tt0000574     movie  The Story of the Kelly Gang   \n",
       "4  tt0000591     movie             The Prodigal Son   \n",
       "\n",
       "                 originalTitle isAdult startYear endYear runtimeMinutes  \\\n",
       "0                     Bohemios       0      1905      \\N            100   \n",
       "1  The Story of the Kelly Gang       0      1906      \\N             70   \n",
       "2  The Story of the Kelly Gang       0      1906      \\N             70   \n",
       "3  The Story of the Kelly Gang       0      1906      \\N             70   \n",
       "4            L'enfant prodigue       0      1907      \\N             90   \n",
       "\n",
       "                       genres                    genres_array genres_unico  \n",
       "0                          \\N                            [\\N]           \\N  \n",
       "1  Action,Adventure,Biography  [Action, Adventure, Biography]       Action  \n",
       "2  Action,Adventure,Biography  [Action, Adventure, Biography]    Adventure  \n",
       "3  Action,Adventure,Biography  [Action, Adventure, Biography]    Biography  \n",
       "4                       Drama                         [Drama]        Drama  "
      ]
     },
     "execution_count": 91,
     "metadata": {},
     "output_type": "execute_result"
    }
   ],
   "source": [
    "(\n",
    "    df_titles\n",
    "    .filter('titleType = \"movie\"')\n",
    "    .withColumn('genres_array', f.split(f.col('genres'), ','))\n",
    "#     .withColumn('first_genre', f.col('genres_array')[0])\n",
    "#      .withColumn('second_genre', f.col('genres_array').getItem(1))\n",
    "#      .withColumn('genres_string', f.array_join(f.col('genres_array'), ','))\n",
    "#      .withColumn('n_genres', f.size(f.col('genres_array')))\n",
    "#      .filter('n_genres >= 3')\n",
    "    .withColumn('genres_unico', f.explode(f.col('genres_array')))\n",
    "    .limit(5)\n",
    "    .toPandas()\n",
    ")"
   ]
  },
  {
   "cell_type": "markdown",
   "id": "a9114ec7",
   "metadata": {},
   "source": [
    "### Nulos"
   ]
  },
  {
   "cell_type": "markdown",
   "id": "444b3db6",
   "metadata": {},
   "source": [
    "* `drop()`: retira do DataFrame as linhas com nulos, com base no que foi passado para o argumento how\n",
    "    * any (default): retira todas as linhas com pelo menos um valor nulo nas colunas\n",
    "    * all: somente retira as linhas com todos os valores nulos nas colunas\n",
    "* `fill()`: preenche os valores nulos no DataFrame com uma constante, passada pelo usuário\n",
    "* `replace()`: substitui o valor (não somente os valores nulos) por algum outro passado pelo usuário\n",
    "\n"
   ]
  },
  {
   "cell_type": "code",
   "execution_count": 93,
   "id": "23008d00",
   "metadata": {
    "pycharm": {
     "name": "#%%\n"
    }
   },
   "outputs": [
    {
     "data": {
      "text/html": [
       "<div>\n",
       "<style scoped>\n",
       "    .dataframe tbody tr th:only-of-type {\n",
       "        vertical-align: middle;\n",
       "    }\n",
       "\n",
       "    .dataframe tbody tr th {\n",
       "        vertical-align: top;\n",
       "    }\n",
       "\n",
       "    .dataframe thead th {\n",
       "        text-align: right;\n",
       "    }\n",
       "</style>\n",
       "<table border=\"1\" class=\"dataframe\">\n",
       "  <thead>\n",
       "    <tr style=\"text-align: right;\">\n",
       "      <th></th>\n",
       "      <th>tconst</th>\n",
       "      <th>titleType</th>\n",
       "      <th>primaryTitle</th>\n",
       "      <th>originalTitle</th>\n",
       "      <th>isAdult</th>\n",
       "      <th>startYear</th>\n",
       "      <th>endYear</th>\n",
       "      <th>runtimeMinutes</th>\n",
       "      <th>genres</th>\n",
       "      <th>coalesce_test</th>\n",
       "    </tr>\n",
       "  </thead>\n",
       "  <tbody>\n",
       "    <tr>\n",
       "      <th>0</th>\n",
       "      <td>tt0067098</td>\n",
       "      <td>tvEpisode</td>\n",
       "      <td>Willi Forst</td>\n",
       "      <td>Willi Forst</td>\n",
       "      <td>0</td>\n",
       "      <td>None</td>\n",
       "      <td>None</td>\n",
       "      <td>55</td>\n",
       "      <td>\\N</td>\n",
       "      <td>55</td>\n",
       "    </tr>\n",
       "    <tr>\n",
       "      <th>1</th>\n",
       "      <td>tt0073399</td>\n",
       "      <td>movie</td>\n",
       "      <td>Atlantic City Jackpot</td>\n",
       "      <td>The Money</td>\n",
       "      <td>0</td>\n",
       "      <td>None</td>\n",
       "      <td>None</td>\n",
       "      <td>88</td>\n",
       "      <td>Action,Drama</td>\n",
       "      <td>88</td>\n",
       "    </tr>\n",
       "    <tr>\n",
       "      <th>2</th>\n",
       "      <td>tt0086784</td>\n",
       "      <td>tvMiniSeries</td>\n",
       "      <td>Predel vozmozhnogo</td>\n",
       "      <td>Predel vozmozhnogo</td>\n",
       "      <td>0</td>\n",
       "      <td>None</td>\n",
       "      <td>None</td>\n",
       "      <td>380</td>\n",
       "      <td>Drama</td>\n",
       "      <td>380</td>\n",
       "    </tr>\n",
       "    <tr>\n",
       "      <th>3</th>\n",
       "      <td>tt0090238</td>\n",
       "      <td>movie</td>\n",
       "      <td>Unternehmen Geigenkasten</td>\n",
       "      <td>Unternehmen Geigenkasten</td>\n",
       "      <td>0</td>\n",
       "      <td>None</td>\n",
       "      <td>None</td>\n",
       "      <td>82</td>\n",
       "      <td>Crime,Family</td>\n",
       "      <td>82</td>\n",
       "    </tr>\n",
       "    <tr>\n",
       "      <th>4</th>\n",
       "      <td>tt0098828</td>\n",
       "      <td>tvSeries</td>\n",
       "      <td>Idol Angel Yohkoso Yohko</td>\n",
       "      <td>Idol Angel Yohkoso Yohko</td>\n",
       "      <td>0</td>\n",
       "      <td>None</td>\n",
       "      <td>None</td>\n",
       "      <td>23</td>\n",
       "      <td>Animation,Comedy</td>\n",
       "      <td>23</td>\n",
       "    </tr>\n",
       "  </tbody>\n",
       "</table>\n",
       "</div>"
      ],
      "text/plain": [
       "      tconst     titleType              primaryTitle  \\\n",
       "0  tt0067098     tvEpisode               Willi Forst   \n",
       "1  tt0073399         movie     Atlantic City Jackpot   \n",
       "2  tt0086784  tvMiniSeries        Predel vozmozhnogo   \n",
       "3  tt0090238         movie  Unternehmen Geigenkasten   \n",
       "4  tt0098828      tvSeries  Idol Angel Yohkoso Yohko   \n",
       "\n",
       "              originalTitle isAdult startYear endYear runtimeMinutes  \\\n",
       "0               Willi Forst       0      None    None             55   \n",
       "1                 The Money       0      None    None             88   \n",
       "2        Predel vozmozhnogo       0      None    None            380   \n",
       "3  Unternehmen Geigenkasten       0      None    None             82   \n",
       "4  Idol Angel Yohkoso Yohko       0      None    None             23   \n",
       "\n",
       "             genres coalesce_test  \n",
       "0                \\N            55  \n",
       "1      Action,Drama            88  \n",
       "2             Drama           380  \n",
       "3      Crime,Family            82  \n",
       "4  Animation,Comedy            23  "
      ]
     },
     "execution_count": 93,
     "metadata": {},
     "output_type": "execute_result"
    }
   ],
   "source": [
    "(\n",
    "    df_titles\n",
    "    .replace('\\\\N', None, subset=['startYear', 'endYear', 'runtimeMinutes'])\n",
    "    .filter(\"startYear is null and runtimeMinutes is not null\")\n",
    "#     .na.fill('Não se sabe', subset=['startYear'])\n",
    "#     .orderBy(f.asc_nulls_first('endYear'))\n",
    "#     .na.drop(subset=['startYear'])\n",
    "    .withColumn('coalesce_test', f.coalesce(f.col(\"startYear\"), f.col(\"runtimeMinutes\"), f.lit('Sem ano')))\n",
    "    .limit(5)\n",
    "    .toPandas()\n",
    ")"
   ]
  },
  {
   "cell_type": "markdown",
   "id": "12862a21",
   "metadata": {},
   "source": [
    "### Agregação e Agrupamento"
   ]
  },
  {
   "cell_type": "markdown",
   "id": "60cf83b9",
   "metadata": {},
   "source": [
    "O agrupamento dos DataFrames é feito por meio da função **`groupby()`**. Essa função deve ser sucedida pela função de agregação `agg()`, de pivotação `pivot()` ou `count()`. \n",
    "\n",
    "---\n",
    "\n",
    "A função **`agg()`** aplica uma função de agregação no DataFrame. Se precedida por `groupby()`, realiza a agregação dentro dos grupos esabelecidos.\n",
    "Algumas das funções de agregação mais comuns:\n",
    "* `sum()`: retorna a soma os valores da coluna\n",
    "* `sumDistinct()`: retorna a soma os valores distintos da coluna\n",
    "* `max() / min()`: retorna o mínimo e o máximo da coluna, respectivamente\n",
    "* `avg() / mean()`: retorna a média dos valores da coluna\n",
    "* `percentile_approx()`: retorna o percentil da coluna, comaproximação. Para trazer a mediana exata, usar: `percentile_approx(f.col('column'), 0.5, lit(1000000))`\n",
    "* `stddev()`: retorna o desvio padrão dos valores da coluna\n",
    "* `count()`: retorna a contagem de linhas\n",
    "* `countDistinct()`: retorna a contagem de valores distintos da coluna\n",
    "* `first() / last()`: retorna o primeiro e o último valor da coluna no agrupamento, respectivamente. Interessante de ser utilizada em conjunto com o argumento `ignoreNulls=True`.\n",
    "* `collect_list()`: retorna os valores do agrupamento em uma lista, com duplicações\n",
    "* `collect_set()`: retorna os valores do agrupamento em uma lista, sem duplicações (desordenado)\n",
    "\n",
    "**Obs**: O spark ignora os valores nulos para calcular as agregações, com exceção da função `count()`.\n",
    "\n",
    "---\n",
    "\n",
    "A função **`pivot`** é utilizada para passar valores de uma linha para as colunas, realizando uma agregação. Deve ser sucedido por uma função de agregação utilizando `agg()`. Pode utilizar qualquer uma das funções de agregação anteriores.\n",
    "\n"
   ]
  },
  {
   "cell_type": "code",
   "execution_count": 54,
   "id": "2c2d14f2",
   "metadata": {
    "pycharm": {
     "name": "#%%\n"
    }
   },
   "outputs": [],
   "source": [
    "df_titles_subset = (\n",
    "    df_titles\n",
    "    .filter(\"cast(startYear as int) >= 2000\")\n",
    "    .sample(fraction = 0.5)\n",
    "    .withColumn('genre', f.split('genres', ',').getItem(0))\n",
    ")"
   ]
  },
  {
   "cell_type": "code",
   "execution_count": 55,
   "id": "420eb083",
   "metadata": {
    "pycharm": {
     "name": "#%%\n"
    }
   },
   "outputs": [
    {
     "data": {
      "text/html": [
       "<div>\n",
       "<style scoped>\n",
       "    .dataframe tbody tr th:only-of-type {\n",
       "        vertical-align: middle;\n",
       "    }\n",
       "\n",
       "    .dataframe tbody tr th {\n",
       "        vertical-align: top;\n",
       "    }\n",
       "\n",
       "    .dataframe thead th {\n",
       "        text-align: right;\n",
       "    }\n",
       "</style>\n",
       "<table border=\"1\" class=\"dataframe\">\n",
       "  <thead>\n",
       "    <tr style=\"text-align: right;\">\n",
       "      <th></th>\n",
       "      <th>tconst</th>\n",
       "      <th>titleType</th>\n",
       "      <th>primaryTitle</th>\n",
       "      <th>originalTitle</th>\n",
       "      <th>isAdult</th>\n",
       "      <th>startYear</th>\n",
       "      <th>endYear</th>\n",
       "      <th>runtimeMinutes</th>\n",
       "      <th>genres</th>\n",
       "      <th>genre</th>\n",
       "    </tr>\n",
       "  </thead>\n",
       "  <tbody>\n",
       "    <tr>\n",
       "      <th>0</th>\n",
       "      <td>tt0011801</td>\n",
       "      <td>movie</td>\n",
       "      <td>Tötet nicht mehr</td>\n",
       "      <td>Tötet nicht mehr</td>\n",
       "      <td>0</td>\n",
       "      <td>2019</td>\n",
       "      <td>\\N</td>\n",
       "      <td>\\N</td>\n",
       "      <td>Action,Crime</td>\n",
       "      <td>Action</td>\n",
       "    </tr>\n",
       "    <tr>\n",
       "      <th>1</th>\n",
       "      <td>tt0018295</td>\n",
       "      <td>movie</td>\n",
       "      <td>El puño de hierro</td>\n",
       "      <td>El puño de hierro</td>\n",
       "      <td>0</td>\n",
       "      <td>2004</td>\n",
       "      <td>\\N</td>\n",
       "      <td>40</td>\n",
       "      <td>Action,Drama</td>\n",
       "      <td>Action</td>\n",
       "    </tr>\n",
       "    <tr>\n",
       "      <th>2</th>\n",
       "      <td>tt0019996</td>\n",
       "      <td>movie</td>\n",
       "      <td>Hongxia</td>\n",
       "      <td>Hongxia</td>\n",
       "      <td>0</td>\n",
       "      <td>2011</td>\n",
       "      <td>\\N</td>\n",
       "      <td>94</td>\n",
       "      <td>Action</td>\n",
       "      <td>Action</td>\n",
       "    </tr>\n",
       "    <tr>\n",
       "      <th>3</th>\n",
       "      <td>tt0034413</td>\n",
       "      <td>short</td>\n",
       "      <td>Youth Gets a Break</td>\n",
       "      <td>Youth Gets a Break</td>\n",
       "      <td>0</td>\n",
       "      <td>2001</td>\n",
       "      <td>\\N</td>\n",
       "      <td>20</td>\n",
       "      <td>Short</td>\n",
       "      <td>Short</td>\n",
       "    </tr>\n",
       "    <tr>\n",
       "      <th>4</th>\n",
       "      <td>tt0058964</td>\n",
       "      <td>short</td>\n",
       "      <td>Beppie</td>\n",
       "      <td>Beppie</td>\n",
       "      <td>0</td>\n",
       "      <td>2002</td>\n",
       "      <td>\\N</td>\n",
       "      <td>37</td>\n",
       "      <td>Documentary,Short</td>\n",
       "      <td>Documentary</td>\n",
       "    </tr>\n",
       "  </tbody>\n",
       "</table>\n",
       "</div>"
      ],
      "text/plain": [
       "      tconst titleType        primaryTitle       originalTitle isAdult  \\\n",
       "0  tt0011801     movie    Tötet nicht mehr    Tötet nicht mehr       0   \n",
       "1  tt0018295     movie   El puño de hierro   El puño de hierro       0   \n",
       "2  tt0019996     movie             Hongxia             Hongxia       0   \n",
       "3  tt0034413     short  Youth Gets a Break  Youth Gets a Break       0   \n",
       "4  tt0058964     short              Beppie              Beppie       0   \n",
       "\n",
       "  startYear endYear runtimeMinutes             genres        genre  \n",
       "0      2019      \\N             \\N       Action,Crime       Action  \n",
       "1      2004      \\N             40       Action,Drama       Action  \n",
       "2      2011      \\N             94             Action       Action  \n",
       "3      2001      \\N             20              Short        Short  \n",
       "4      2002      \\N             37  Documentary,Short  Documentary  "
      ]
     },
     "execution_count": 55,
     "metadata": {},
     "output_type": "execute_result"
    }
   ],
   "source": [
    "df_titles_subset.limit(5).toPandas()"
   ]
  },
  {
   "cell_type": "code",
   "execution_count": 56,
   "id": "15622ff3",
   "metadata": {
    "pycharm": {
     "name": "#%%\n"
    }
   },
   "outputs": [
    {
     "data": {
      "text/html": [
       "<div>\n",
       "<style scoped>\n",
       "    .dataframe tbody tr th:only-of-type {\n",
       "        vertical-align: middle;\n",
       "    }\n",
       "\n",
       "    .dataframe tbody tr th {\n",
       "        vertical-align: top;\n",
       "    }\n",
       "\n",
       "    .dataframe thead th {\n",
       "        text-align: right;\n",
       "    }\n",
       "</style>\n",
       "<table border=\"1\" class=\"dataframe\">\n",
       "  <thead>\n",
       "    <tr style=\"text-align: right;\">\n",
       "      <th></th>\n",
       "      <th>distinct_genres</th>\n",
       "    </tr>\n",
       "  </thead>\n",
       "  <tbody>\n",
       "    <tr>\n",
       "      <th>0</th>\n",
       "      <td>28</td>\n",
       "    </tr>\n",
       "  </tbody>\n",
       "</table>\n",
       "</div>"
      ],
      "text/plain": [
       "   distinct_genres\n",
       "0               28"
      ]
     },
     "execution_count": 56,
     "metadata": {},
     "output_type": "execute_result"
    }
   ],
   "source": [
    "(\n",
    "    df_titles_subset\n",
    "    .agg(f.countDistinct('genre').alias('distinct_genres'),)\n",
    "    .toPandas()\n",
    ")"
   ]
  },
  {
   "cell_type": "code",
   "execution_count": 57,
   "id": "3928561c",
   "metadata": {
    "pycharm": {
     "name": "#%%\n"
    }
   },
   "outputs": [
    {
     "data": {
      "text/html": [
       "<div>\n",
       "<style scoped>\n",
       "    .dataframe tbody tr th:only-of-type {\n",
       "        vertical-align: middle;\n",
       "    }\n",
       "\n",
       "    .dataframe tbody tr th {\n",
       "        vertical-align: top;\n",
       "    }\n",
       "\n",
       "    .dataframe thead th {\n",
       "        text-align: right;\n",
       "    }\n",
       "</style>\n",
       "<table border=\"1\" class=\"dataframe\">\n",
       "  <thead>\n",
       "    <tr style=\"text-align: right;\">\n",
       "      <th></th>\n",
       "      <th>total_runtimeMinutes</th>\n",
       "      <th>mean_runtimeMinutes</th>\n",
       "      <th>min_runtimeMinutes</th>\n",
       "      <th>max_runtimeMinutes</th>\n",
       "      <th>median_runtimeMinutes</th>\n",
       "      <th>std_runtimeMinutes</th>\n",
       "    </tr>\n",
       "  </thead>\n",
       "  <tbody>\n",
       "    <tr>\n",
       "      <th>0</th>\n",
       "      <td>33644130</td>\n",
       "      <td>40.768657</td>\n",
       "      <td>1</td>\n",
       "      <td>35791</td>\n",
       "      <td>26</td>\n",
       "      <td>72.212111</td>\n",
       "    </tr>\n",
       "  </tbody>\n",
       "</table>\n",
       "</div>"
      ],
      "text/plain": [
       "   total_runtimeMinutes  mean_runtimeMinutes  min_runtimeMinutes  \\\n",
       "0              33644130            40.768657                   1   \n",
       "\n",
       "   max_runtimeMinutes  median_runtimeMinutes  std_runtimeMinutes  \n",
       "0               35791                     26           72.212111  "
      ]
     },
     "execution_count": 57,
     "metadata": {},
     "output_type": "execute_result"
    }
   ],
   "source": [
    "(\n",
    "    df_titles_subset\n",
    "    .withColumn('runtimeMinutes', f.col('runtimeMinutes').cast('int'))\n",
    "    .agg(f.sum('runtimeMinutes').alias('total_runtimeMinutes'),\n",
    "         f.mean('runtimeMinutes').alias('mean_runtimeMinutes'),\n",
    "         f.min('runtimeMinutes').alias('min_runtimeMinutes'),\n",
    "         f.max('runtimeMinutes').alias('max_runtimeMinutes'),\n",
    "         f.percentile_approx('runtimeMinutes', 0.5, f.lit(10000000)).alias('median_runtimeMinutes'),\n",
    "         f.stddev('runtimeMinutes').alias('std_runtimeMinutes'),\n",
    "        )\n",
    "    .toPandas()\n",
    ")"
   ]
  },
  {
   "cell_type": "code",
   "execution_count": 58,
   "id": "9122b190",
   "metadata": {
    "pycharm": {
     "name": "#%%\n"
    }
   },
   "outputs": [
    {
     "data": {
      "text/html": [
       "<div>\n",
       "<style scoped>\n",
       "    .dataframe tbody tr th:only-of-type {\n",
       "        vertical-align: middle;\n",
       "    }\n",
       "\n",
       "    .dataframe tbody tr th {\n",
       "        vertical-align: top;\n",
       "    }\n",
       "\n",
       "    .dataframe thead th {\n",
       "        text-align: right;\n",
       "    }\n",
       "</style>\n",
       "<table border=\"1\" class=\"dataframe\">\n",
       "  <thead>\n",
       "    <tr style=\"text-align: right;\">\n",
       "      <th></th>\n",
       "      <th>summary</th>\n",
       "      <th>runtimeMinutes</th>\n",
       "    </tr>\n",
       "  </thead>\n",
       "  <tbody>\n",
       "    <tr>\n",
       "      <th>0</th>\n",
       "      <td>count</td>\n",
       "      <td>825245</td>\n",
       "    </tr>\n",
       "    <tr>\n",
       "      <th>1</th>\n",
       "      <td>mean</td>\n",
       "      <td>40.76865658077298</td>\n",
       "    </tr>\n",
       "    <tr>\n",
       "      <th>2</th>\n",
       "      <td>stddev</td>\n",
       "      <td>72.2121112007232</td>\n",
       "    </tr>\n",
       "    <tr>\n",
       "      <th>3</th>\n",
       "      <td>min</td>\n",
       "      <td>1</td>\n",
       "    </tr>\n",
       "    <tr>\n",
       "      <th>4</th>\n",
       "      <td>max</td>\n",
       "      <td>35791</td>\n",
       "    </tr>\n",
       "  </tbody>\n",
       "</table>\n",
       "</div>"
      ],
      "text/plain": [
       "  summary     runtimeMinutes\n",
       "0   count             825245\n",
       "1    mean  40.76865658077298\n",
       "2  stddev   72.2121112007232\n",
       "3     min                  1\n",
       "4     max              35791"
      ]
     },
     "execution_count": 58,
     "metadata": {},
     "output_type": "execute_result"
    }
   ],
   "source": [
    "(\n",
    "    df_titles_subset\n",
    "    .withColumn('runtimeMinutes', f.col('runtimeMinutes').cast('int'))\n",
    "    .select('runtimeMinutes')\n",
    "    .describe()\n",
    "    .toPandas()\n",
    ")"
   ]
  },
  {
   "cell_type": "markdown",
   "id": "0e99220c",
   "metadata": {},
   "source": [
    "#### Agrupamento"
   ]
  },
  {
   "cell_type": "code",
   "execution_count": 59,
   "id": "69f60b41",
   "metadata": {
    "pycharm": {
     "name": "#%%\n"
    }
   },
   "outputs": [
    {
     "data": {
      "text/html": [
       "<div>\n",
       "<style scoped>\n",
       "    .dataframe tbody tr th:only-of-type {\n",
       "        vertical-align: middle;\n",
       "    }\n",
       "\n",
       "    .dataframe tbody tr th {\n",
       "        vertical-align: top;\n",
       "    }\n",
       "\n",
       "    .dataframe thead th {\n",
       "        text-align: right;\n",
       "    }\n",
       "</style>\n",
       "<table border=\"1\" class=\"dataframe\">\n",
       "  <thead>\n",
       "    <tr style=\"text-align: right;\">\n",
       "      <th></th>\n",
       "      <th>tconst</th>\n",
       "      <th>titleType</th>\n",
       "      <th>primaryTitle</th>\n",
       "      <th>originalTitle</th>\n",
       "      <th>isAdult</th>\n",
       "      <th>startYear</th>\n",
       "      <th>endYear</th>\n",
       "      <th>runtimeMinutes</th>\n",
       "      <th>genres</th>\n",
       "      <th>genre</th>\n",
       "    </tr>\n",
       "  </thead>\n",
       "  <tbody>\n",
       "    <tr>\n",
       "      <th>0</th>\n",
       "      <td>tt0011801</td>\n",
       "      <td>movie</td>\n",
       "      <td>Tötet nicht mehr</td>\n",
       "      <td>Tötet nicht mehr</td>\n",
       "      <td>0</td>\n",
       "      <td>2019</td>\n",
       "      <td>\\N</td>\n",
       "      <td>\\N</td>\n",
       "      <td>Action,Crime</td>\n",
       "      <td>Action</td>\n",
       "    </tr>\n",
       "    <tr>\n",
       "      <th>1</th>\n",
       "      <td>tt0018295</td>\n",
       "      <td>movie</td>\n",
       "      <td>El puño de hierro</td>\n",
       "      <td>El puño de hierro</td>\n",
       "      <td>0</td>\n",
       "      <td>2004</td>\n",
       "      <td>\\N</td>\n",
       "      <td>40</td>\n",
       "      <td>Action,Drama</td>\n",
       "      <td>Action</td>\n",
       "    </tr>\n",
       "    <tr>\n",
       "      <th>2</th>\n",
       "      <td>tt0019996</td>\n",
       "      <td>movie</td>\n",
       "      <td>Hongxia</td>\n",
       "      <td>Hongxia</td>\n",
       "      <td>0</td>\n",
       "      <td>2011</td>\n",
       "      <td>\\N</td>\n",
       "      <td>94</td>\n",
       "      <td>Action</td>\n",
       "      <td>Action</td>\n",
       "    </tr>\n",
       "    <tr>\n",
       "      <th>3</th>\n",
       "      <td>tt0034413</td>\n",
       "      <td>short</td>\n",
       "      <td>Youth Gets a Break</td>\n",
       "      <td>Youth Gets a Break</td>\n",
       "      <td>0</td>\n",
       "      <td>2001</td>\n",
       "      <td>\\N</td>\n",
       "      <td>20</td>\n",
       "      <td>Short</td>\n",
       "      <td>Short</td>\n",
       "    </tr>\n",
       "    <tr>\n",
       "      <th>4</th>\n",
       "      <td>tt0058964</td>\n",
       "      <td>short</td>\n",
       "      <td>Beppie</td>\n",
       "      <td>Beppie</td>\n",
       "      <td>0</td>\n",
       "      <td>2002</td>\n",
       "      <td>\\N</td>\n",
       "      <td>37</td>\n",
       "      <td>Documentary,Short</td>\n",
       "      <td>Documentary</td>\n",
       "    </tr>\n",
       "  </tbody>\n",
       "</table>\n",
       "</div>"
      ],
      "text/plain": [
       "      tconst titleType        primaryTitle       originalTitle isAdult  \\\n",
       "0  tt0011801     movie    Tötet nicht mehr    Tötet nicht mehr       0   \n",
       "1  tt0018295     movie   El puño de hierro   El puño de hierro       0   \n",
       "2  tt0019996     movie             Hongxia             Hongxia       0   \n",
       "3  tt0034413     short  Youth Gets a Break  Youth Gets a Break       0   \n",
       "4  tt0058964     short              Beppie              Beppie       0   \n",
       "\n",
       "  startYear endYear runtimeMinutes             genres        genre  \n",
       "0      2019      \\N             \\N       Action,Crime       Action  \n",
       "1      2004      \\N             40       Action,Drama       Action  \n",
       "2      2011      \\N             94             Action       Action  \n",
       "3      2001      \\N             20              Short        Short  \n",
       "4      2002      \\N             37  Documentary,Short  Documentary  "
      ]
     },
     "execution_count": 59,
     "metadata": {},
     "output_type": "execute_result"
    }
   ],
   "source": [
    "df_titles_subset.limit(5).toPandas()"
   ]
  },
  {
   "cell_type": "code",
   "execution_count": 60,
   "id": "ed1773e9",
   "metadata": {
    "pycharm": {
     "name": "#%%\n"
    }
   },
   "outputs": [
    {
     "data": {
      "text/html": [
       "<div>\n",
       "<style scoped>\n",
       "    .dataframe tbody tr th:only-of-type {\n",
       "        vertical-align: middle;\n",
       "    }\n",
       "\n",
       "    .dataframe tbody tr th {\n",
       "        vertical-align: top;\n",
       "    }\n",
       "\n",
       "    .dataframe thead th {\n",
       "        text-align: right;\n",
       "    }\n",
       "</style>\n",
       "<table border=\"1\" class=\"dataframe\">\n",
       "  <thead>\n",
       "    <tr style=\"text-align: right;\">\n",
       "      <th></th>\n",
       "      <th>genre</th>\n",
       "      <th>startYear</th>\n",
       "      <th>mean_runtimeMinutes</th>\n",
       "    </tr>\n",
       "  </thead>\n",
       "  <tbody>\n",
       "    <tr>\n",
       "      <th>0</th>\n",
       "      <td>Sport</td>\n",
       "      <td>2021</td>\n",
       "      <td>109.552036</td>\n",
       "    </tr>\n",
       "    <tr>\n",
       "      <th>1</th>\n",
       "      <td>Thriller</td>\n",
       "      <td>2021</td>\n",
       "      <td>85.139535</td>\n",
       "    </tr>\n",
       "    <tr>\n",
       "      <th>2</th>\n",
       "      <td>Western</td>\n",
       "      <td>2021</td>\n",
       "      <td>84.571429</td>\n",
       "    </tr>\n",
       "    <tr>\n",
       "      <th>3</th>\n",
       "      <td>War</td>\n",
       "      <td>2021</td>\n",
       "      <td>81.500000</td>\n",
       "    </tr>\n",
       "    <tr>\n",
       "      <th>4</th>\n",
       "      <td>Adventure</td>\n",
       "      <td>2021</td>\n",
       "      <td>74.306554</td>\n",
       "    </tr>\n",
       "    <tr>\n",
       "      <th>5</th>\n",
       "      <td>Biography</td>\n",
       "      <td>2021</td>\n",
       "      <td>69.835391</td>\n",
       "    </tr>\n",
       "    <tr>\n",
       "      <th>6</th>\n",
       "      <td>\\N</td>\n",
       "      <td>2021</td>\n",
       "      <td>69.780167</td>\n",
       "    </tr>\n",
       "    <tr>\n",
       "      <th>7</th>\n",
       "      <td>News</td>\n",
       "      <td>2021</td>\n",
       "      <td>63.153325</td>\n",
       "    </tr>\n",
       "    <tr>\n",
       "      <th>8</th>\n",
       "      <td>Adult</td>\n",
       "      <td>2021</td>\n",
       "      <td>61.382766</td>\n",
       "    </tr>\n",
       "    <tr>\n",
       "      <th>9</th>\n",
       "      <td>Game-Show</td>\n",
       "      <td>2021</td>\n",
       "      <td>54.639583</td>\n",
       "    </tr>\n",
       "    <tr>\n",
       "      <th>10</th>\n",
       "      <td>Action</td>\n",
       "      <td>2021</td>\n",
       "      <td>51.005674</td>\n",
       "    </tr>\n",
       "    <tr>\n",
       "      <th>11</th>\n",
       "      <td>Crime</td>\n",
       "      <td>2021</td>\n",
       "      <td>49.822447</td>\n",
       "    </tr>\n",
       "    <tr>\n",
       "      <th>12</th>\n",
       "      <td>Reality-TV</td>\n",
       "      <td>2021</td>\n",
       "      <td>48.691156</td>\n",
       "    </tr>\n",
       "    <tr>\n",
       "      <th>13</th>\n",
       "      <td>Talk-Show</td>\n",
       "      <td>2021</td>\n",
       "      <td>45.333333</td>\n",
       "    </tr>\n",
       "    <tr>\n",
       "      <th>14</th>\n",
       "      <td>Documentary</td>\n",
       "      <td>2021</td>\n",
       "      <td>44.642028</td>\n",
       "    </tr>\n",
       "    <tr>\n",
       "      <th>15</th>\n",
       "      <td>Romance</td>\n",
       "      <td>2021</td>\n",
       "      <td>43.778443</td>\n",
       "    </tr>\n",
       "    <tr>\n",
       "      <th>16</th>\n",
       "      <td>Family</td>\n",
       "      <td>2021</td>\n",
       "      <td>43.280488</td>\n",
       "    </tr>\n",
       "    <tr>\n",
       "      <th>17</th>\n",
       "      <td>Drama</td>\n",
       "      <td>2021</td>\n",
       "      <td>41.682759</td>\n",
       "    </tr>\n",
       "    <tr>\n",
       "      <th>18</th>\n",
       "      <td>Mystery</td>\n",
       "      <td>2021</td>\n",
       "      <td>40.507937</td>\n",
       "    </tr>\n",
       "    <tr>\n",
       "      <th>19</th>\n",
       "      <td>History</td>\n",
       "      <td>2021</td>\n",
       "      <td>40.317460</td>\n",
       "    </tr>\n",
       "    <tr>\n",
       "      <th>20</th>\n",
       "      <td>Comedy</td>\n",
       "      <td>2021</td>\n",
       "      <td>38.281417</td>\n",
       "    </tr>\n",
       "    <tr>\n",
       "      <th>21</th>\n",
       "      <td>Horror</td>\n",
       "      <td>2021</td>\n",
       "      <td>38.094656</td>\n",
       "    </tr>\n",
       "    <tr>\n",
       "      <th>22</th>\n",
       "      <td>Fantasy</td>\n",
       "      <td>2021</td>\n",
       "      <td>34.211921</td>\n",
       "    </tr>\n",
       "    <tr>\n",
       "      <th>23</th>\n",
       "      <td>Sci-Fi</td>\n",
       "      <td>2021</td>\n",
       "      <td>33.600000</td>\n",
       "    </tr>\n",
       "    <tr>\n",
       "      <th>24</th>\n",
       "      <td>Musical</td>\n",
       "      <td>2021</td>\n",
       "      <td>32.976744</td>\n",
       "    </tr>\n",
       "    <tr>\n",
       "      <th>25</th>\n",
       "      <td>Animation</td>\n",
       "      <td>2021</td>\n",
       "      <td>17.375291</td>\n",
       "    </tr>\n",
       "    <tr>\n",
       "      <th>26</th>\n",
       "      <td>Music</td>\n",
       "      <td>2021</td>\n",
       "      <td>11.875066</td>\n",
       "    </tr>\n",
       "    <tr>\n",
       "      <th>27</th>\n",
       "      <td>Short</td>\n",
       "      <td>2021</td>\n",
       "      <td>11.365289</td>\n",
       "    </tr>\n",
       "  </tbody>\n",
       "</table>\n",
       "</div>"
      ],
      "text/plain": [
       "          genre startYear  mean_runtimeMinutes\n",
       "0         Sport      2021           109.552036\n",
       "1      Thriller      2021            85.139535\n",
       "2       Western      2021            84.571429\n",
       "3           War      2021            81.500000\n",
       "4     Adventure      2021            74.306554\n",
       "5     Biography      2021            69.835391\n",
       "6            \\N      2021            69.780167\n",
       "7          News      2021            63.153325\n",
       "8         Adult      2021            61.382766\n",
       "9     Game-Show      2021            54.639583\n",
       "10       Action      2021            51.005674\n",
       "11        Crime      2021            49.822447\n",
       "12   Reality-TV      2021            48.691156\n",
       "13    Talk-Show      2021            45.333333\n",
       "14  Documentary      2021            44.642028\n",
       "15      Romance      2021            43.778443\n",
       "16       Family      2021            43.280488\n",
       "17        Drama      2021            41.682759\n",
       "18      Mystery      2021            40.507937\n",
       "19      History      2021            40.317460\n",
       "20       Comedy      2021            38.281417\n",
       "21       Horror      2021            38.094656\n",
       "22      Fantasy      2021            34.211921\n",
       "23       Sci-Fi      2021            33.600000\n",
       "24      Musical      2021            32.976744\n",
       "25    Animation      2021            17.375291\n",
       "26        Music      2021            11.875066\n",
       "27        Short      2021            11.365289"
      ]
     },
     "execution_count": 60,
     "metadata": {},
     "output_type": "execute_result"
    }
   ],
   "source": [
    "(\n",
    "    df_titles_subset\n",
    "    .groupby('genre', 'startYear')\n",
    "    .agg(f.mean('runtimeMinutes').alias('mean_runtimeMinutes'),)\n",
    "    .orderBy('startYear', f.col('mean_runtimeMinutes').desc())\n",
    "    .filter('startYear = 2021')\n",
    "    .toPandas()\n",
    ")"
   ]
  },
  {
   "cell_type": "code",
   "execution_count": 61,
   "id": "f978aa42",
   "metadata": {
    "pycharm": {
     "name": "#%%\n"
    }
   },
   "outputs": [
    {
     "data": {
      "text/html": [
       "<div>\n",
       "<style scoped>\n",
       "    .dataframe tbody tr th:only-of-type {\n",
       "        vertical-align: middle;\n",
       "    }\n",
       "\n",
       "    .dataframe tbody tr th {\n",
       "        vertical-align: top;\n",
       "    }\n",
       "\n",
       "    .dataframe thead th {\n",
       "        text-align: right;\n",
       "    }\n",
       "</style>\n",
       "<table border=\"1\" class=\"dataframe\">\n",
       "  <thead>\n",
       "    <tr style=\"text-align: right;\">\n",
       "      <th></th>\n",
       "      <th>genre</th>\n",
       "      <th>tipos_filmes</th>\n",
       "    </tr>\n",
       "  </thead>\n",
       "  <tbody>\n",
       "    <tr>\n",
       "      <th>0</th>\n",
       "      <td>Crime</td>\n",
       "      <td>tvSpecial</td>\n",
       "    </tr>\n",
       "    <tr>\n",
       "      <th>1</th>\n",
       "      <td>Crime</td>\n",
       "      <td>video</td>\n",
       "    </tr>\n",
       "    <tr>\n",
       "      <th>2</th>\n",
       "      <td>Crime</td>\n",
       "      <td>tvEpisode</td>\n",
       "    </tr>\n",
       "    <tr>\n",
       "      <th>3</th>\n",
       "      <td>Crime</td>\n",
       "      <td>tvMovie</td>\n",
       "    </tr>\n",
       "    <tr>\n",
       "      <th>4</th>\n",
       "      <td>Crime</td>\n",
       "      <td>short</td>\n",
       "    </tr>\n",
       "    <tr>\n",
       "      <th>...</th>\n",
       "      <td>...</td>\n",
       "      <td>...</td>\n",
       "    </tr>\n",
       "    <tr>\n",
       "      <th>266</th>\n",
       "      <td>News</td>\n",
       "      <td>videoGame</td>\n",
       "    </tr>\n",
       "    <tr>\n",
       "      <th>267</th>\n",
       "      <td>News</td>\n",
       "      <td>tvMiniSeries</td>\n",
       "    </tr>\n",
       "    <tr>\n",
       "      <th>268</th>\n",
       "      <td>News</td>\n",
       "      <td>tvSeries</td>\n",
       "    </tr>\n",
       "    <tr>\n",
       "      <th>269</th>\n",
       "      <td>News</td>\n",
       "      <td>tvShort</td>\n",
       "    </tr>\n",
       "    <tr>\n",
       "      <th>270</th>\n",
       "      <td>News</td>\n",
       "      <td>movie</td>\n",
       "    </tr>\n",
       "  </tbody>\n",
       "</table>\n",
       "<p>271 rows × 2 columns</p>\n",
       "</div>"
      ],
      "text/plain": [
       "     genre  tipos_filmes\n",
       "0    Crime     tvSpecial\n",
       "1    Crime         video\n",
       "2    Crime     tvEpisode\n",
       "3    Crime       tvMovie\n",
       "4    Crime         short\n",
       "..     ...           ...\n",
       "266   News     videoGame\n",
       "267   News  tvMiniSeries\n",
       "268   News      tvSeries\n",
       "269   News       tvShort\n",
       "270   News         movie\n",
       "\n",
       "[271 rows x 2 columns]"
      ]
     },
     "execution_count": 61,
     "metadata": {},
     "output_type": "execute_result"
    }
   ],
   "source": [
    "(\n",
    "    df_titles_subset\n",
    "    .groupby('genre')\n",
    "    .agg(f.collect_set(f.col('titleType')).alias('lista_tipos_titulo'),\n",
    "         f.countDistinct(f.col('titleType')).alias('n_distinct')\n",
    "        )\n",
    "    .withColumn('tipos_filmes', f.explode(f.col('lista_tipos_titulo')))\n",
    "    .select('genre', 'tipos_filmes')\n",
    "    .toPandas()\n",
    ")"
   ]
  },
  {
   "cell_type": "markdown",
   "id": "b7243553",
   "metadata": {},
   "source": [
    "#### Pivotação"
   ]
  },
  {
   "cell_type": "code",
   "execution_count": 62,
   "id": "b8e9971f",
   "metadata": {
    "pycharm": {
     "name": "#%%\n"
    }
   },
   "outputs": [
    {
     "data": {
      "text/html": [
       "<div>\n",
       "<style scoped>\n",
       "    .dataframe tbody tr th:only-of-type {\n",
       "        vertical-align: middle;\n",
       "    }\n",
       "\n",
       "    .dataframe tbody tr th {\n",
       "        vertical-align: top;\n",
       "    }\n",
       "\n",
       "    .dataframe thead th {\n",
       "        text-align: right;\n",
       "    }\n",
       "</style>\n",
       "<table border=\"1\" class=\"dataframe\">\n",
       "  <thead>\n",
       "    <tr style=\"text-align: right;\">\n",
       "      <th></th>\n",
       "      <th>tconst</th>\n",
       "      <th>titleType</th>\n",
       "      <th>primaryTitle</th>\n",
       "      <th>originalTitle</th>\n",
       "      <th>isAdult</th>\n",
       "      <th>startYear</th>\n",
       "      <th>endYear</th>\n",
       "      <th>runtimeMinutes</th>\n",
       "      <th>genres</th>\n",
       "      <th>genre</th>\n",
       "    </tr>\n",
       "  </thead>\n",
       "  <tbody>\n",
       "    <tr>\n",
       "      <th>0</th>\n",
       "      <td>tt0011801</td>\n",
       "      <td>movie</td>\n",
       "      <td>Tötet nicht mehr</td>\n",
       "      <td>Tötet nicht mehr</td>\n",
       "      <td>0</td>\n",
       "      <td>2019</td>\n",
       "      <td>\\N</td>\n",
       "      <td>\\N</td>\n",
       "      <td>Action,Crime</td>\n",
       "      <td>Action</td>\n",
       "    </tr>\n",
       "    <tr>\n",
       "      <th>1</th>\n",
       "      <td>tt0018295</td>\n",
       "      <td>movie</td>\n",
       "      <td>El puño de hierro</td>\n",
       "      <td>El puño de hierro</td>\n",
       "      <td>0</td>\n",
       "      <td>2004</td>\n",
       "      <td>\\N</td>\n",
       "      <td>40</td>\n",
       "      <td>Action,Drama</td>\n",
       "      <td>Action</td>\n",
       "    </tr>\n",
       "    <tr>\n",
       "      <th>2</th>\n",
       "      <td>tt0019996</td>\n",
       "      <td>movie</td>\n",
       "      <td>Hongxia</td>\n",
       "      <td>Hongxia</td>\n",
       "      <td>0</td>\n",
       "      <td>2011</td>\n",
       "      <td>\\N</td>\n",
       "      <td>94</td>\n",
       "      <td>Action</td>\n",
       "      <td>Action</td>\n",
       "    </tr>\n",
       "    <tr>\n",
       "      <th>3</th>\n",
       "      <td>tt0034413</td>\n",
       "      <td>short</td>\n",
       "      <td>Youth Gets a Break</td>\n",
       "      <td>Youth Gets a Break</td>\n",
       "      <td>0</td>\n",
       "      <td>2001</td>\n",
       "      <td>\\N</td>\n",
       "      <td>20</td>\n",
       "      <td>Short</td>\n",
       "      <td>Short</td>\n",
       "    </tr>\n",
       "    <tr>\n",
       "      <th>4</th>\n",
       "      <td>tt0058964</td>\n",
       "      <td>short</td>\n",
       "      <td>Beppie</td>\n",
       "      <td>Beppie</td>\n",
       "      <td>0</td>\n",
       "      <td>2002</td>\n",
       "      <td>\\N</td>\n",
       "      <td>37</td>\n",
       "      <td>Documentary,Short</td>\n",
       "      <td>Documentary</td>\n",
       "    </tr>\n",
       "  </tbody>\n",
       "</table>\n",
       "</div>"
      ],
      "text/plain": [
       "      tconst titleType        primaryTitle       originalTitle isAdult  \\\n",
       "0  tt0011801     movie    Tötet nicht mehr    Tötet nicht mehr       0   \n",
       "1  tt0018295     movie   El puño de hierro   El puño de hierro       0   \n",
       "2  tt0019996     movie             Hongxia             Hongxia       0   \n",
       "3  tt0034413     short  Youth Gets a Break  Youth Gets a Break       0   \n",
       "4  tt0058964     short              Beppie              Beppie       0   \n",
       "\n",
       "  startYear endYear runtimeMinutes             genres        genre  \n",
       "0      2019      \\N             \\N       Action,Crime       Action  \n",
       "1      2004      \\N             40       Action,Drama       Action  \n",
       "2      2011      \\N             94             Action       Action  \n",
       "3      2001      \\N             20              Short        Short  \n",
       "4      2002      \\N             37  Documentary,Short  Documentary  "
      ]
     },
     "execution_count": 62,
     "metadata": {},
     "output_type": "execute_result"
    }
   ],
   "source": [
    "df_titles_subset.limit(5).toPandas()"
   ]
  },
  {
   "cell_type": "code",
   "execution_count": 63,
   "id": "fc723650",
   "metadata": {
    "pycharm": {
     "name": "#%%\n"
    }
   },
   "outputs": [
    {
     "data": {
      "text/html": [
       "<div>\n",
       "<style scoped>\n",
       "    .dataframe tbody tr th:only-of-type {\n",
       "        vertical-align: middle;\n",
       "    }\n",
       "\n",
       "    .dataframe tbody tr th {\n",
       "        vertical-align: top;\n",
       "    }\n",
       "\n",
       "    .dataframe thead th {\n",
       "        text-align: right;\n",
       "    }\n",
       "</style>\n",
       "<table border=\"1\" class=\"dataframe\">\n",
       "  <thead>\n",
       "    <tr style=\"text-align: right;\">\n",
       "      <th></th>\n",
       "      <th>startYear</th>\n",
       "      <th>Action</th>\n",
       "      <th>Adult</th>\n",
       "      <th>Adventure</th>\n",
       "      <th>Animation</th>\n",
       "      <th>Biography</th>\n",
       "      <th>Comedy</th>\n",
       "      <th>Crime</th>\n",
       "      <th>Documentary</th>\n",
       "      <th>Drama</th>\n",
       "      <th>...</th>\n",
       "      <th>Reality-TV</th>\n",
       "      <th>Romance</th>\n",
       "      <th>Sci-Fi</th>\n",
       "      <th>Short</th>\n",
       "      <th>Sport</th>\n",
       "      <th>Talk-Show</th>\n",
       "      <th>Thriller</th>\n",
       "      <th>War</th>\n",
       "      <th>Western</th>\n",
       "      <th>\\N</th>\n",
       "    </tr>\n",
       "  </thead>\n",
       "  <tbody>\n",
       "    <tr>\n",
       "      <th>0</th>\n",
       "      <td>2000</td>\n",
       "      <td>49.595184</td>\n",
       "      <td>95.429158</td>\n",
       "      <td>47.052808</td>\n",
       "      <td>22.935505</td>\n",
       "      <td>70.851282</td>\n",
       "      <td>45.953722</td>\n",
       "      <td>67.468434</td>\n",
       "      <td>51.833509</td>\n",
       "      <td>55.593049</td>\n",
       "      <td>...</td>\n",
       "      <td>40.962963</td>\n",
       "      <td>53.375082</td>\n",
       "      <td>41.940092</td>\n",
       "      <td>14.254917</td>\n",
       "      <td>88.505155</td>\n",
       "      <td>50.950450</td>\n",
       "      <td>85.741497</td>\n",
       "      <td>72.769231</td>\n",
       "      <td>64.300000</td>\n",
       "      <td>59.079027</td>\n",
       "    </tr>\n",
       "    <tr>\n",
       "      <th>1</th>\n",
       "      <td>2001</td>\n",
       "      <td>51.344086</td>\n",
       "      <td>96.903404</td>\n",
       "      <td>44.691736</td>\n",
       "      <td>24.150391</td>\n",
       "      <td>74.169154</td>\n",
       "      <td>44.167807</td>\n",
       "      <td>63.624204</td>\n",
       "      <td>49.632520</td>\n",
       "      <td>57.257241</td>\n",
       "      <td>...</td>\n",
       "      <td>42.532468</td>\n",
       "      <td>53.065887</td>\n",
       "      <td>40.431373</td>\n",
       "      <td>13.406984</td>\n",
       "      <td>84.838150</td>\n",
       "      <td>47.700375</td>\n",
       "      <td>79.979651</td>\n",
       "      <td>74.920792</td>\n",
       "      <td>58.548387</td>\n",
       "      <td>66.728752</td>\n",
       "    </tr>\n",
       "    <tr>\n",
       "      <th>2</th>\n",
       "      <td>2002</td>\n",
       "      <td>51.418667</td>\n",
       "      <td>100.272579</td>\n",
       "      <td>37.274108</td>\n",
       "      <td>22.932519</td>\n",
       "      <td>78.186813</td>\n",
       "      <td>42.958002</td>\n",
       "      <td>61.858790</td>\n",
       "      <td>51.656899</td>\n",
       "      <td>56.358406</td>\n",
       "      <td>...</td>\n",
       "      <td>41.796791</td>\n",
       "      <td>57.514651</td>\n",
       "      <td>43.356275</td>\n",
       "      <td>13.493159</td>\n",
       "      <td>78.578723</td>\n",
       "      <td>49.918919</td>\n",
       "      <td>73.806358</td>\n",
       "      <td>80.350649</td>\n",
       "      <td>56.285714</td>\n",
       "      <td>63.548673</td>\n",
       "    </tr>\n",
       "    <tr>\n",
       "      <th>3</th>\n",
       "      <td>2003</td>\n",
       "      <td>48.628999</td>\n",
       "      <td>102.483871</td>\n",
       "      <td>39.811773</td>\n",
       "      <td>23.759317</td>\n",
       "      <td>68.517949</td>\n",
       "      <td>43.315000</td>\n",
       "      <td>62.481579</td>\n",
       "      <td>50.515162</td>\n",
       "      <td>56.327189</td>\n",
       "      <td>...</td>\n",
       "      <td>44.901786</td>\n",
       "      <td>56.152292</td>\n",
       "      <td>39.145631</td>\n",
       "      <td>13.769931</td>\n",
       "      <td>80.255924</td>\n",
       "      <td>52.319703</td>\n",
       "      <td>71.716495</td>\n",
       "      <td>76.573034</td>\n",
       "      <td>40.916667</td>\n",
       "      <td>60.461538</td>\n",
       "    </tr>\n",
       "    <tr>\n",
       "      <th>4</th>\n",
       "      <td>2004</td>\n",
       "      <td>48.693196</td>\n",
       "      <td>106.396893</td>\n",
       "      <td>38.194079</td>\n",
       "      <td>22.027654</td>\n",
       "      <td>63.852941</td>\n",
       "      <td>40.961003</td>\n",
       "      <td>60.484904</td>\n",
       "      <td>54.946847</td>\n",
       "      <td>54.624729</td>\n",
       "      <td>...</td>\n",
       "      <td>44.106472</td>\n",
       "      <td>55.016018</td>\n",
       "      <td>39.724852</td>\n",
       "      <td>13.640092</td>\n",
       "      <td>76.697368</td>\n",
       "      <td>53.166078</td>\n",
       "      <td>73.968137</td>\n",
       "      <td>69.809917</td>\n",
       "      <td>43.078947</td>\n",
       "      <td>70.343669</td>\n",
       "    </tr>\n",
       "  </tbody>\n",
       "</table>\n",
       "<p>5 rows × 29 columns</p>\n",
       "</div>"
      ],
      "text/plain": [
       "  startYear     Action       Adult  Adventure  Animation  Biography  \\\n",
       "0      2000  49.595184   95.429158  47.052808  22.935505  70.851282   \n",
       "1      2001  51.344086   96.903404  44.691736  24.150391  74.169154   \n",
       "2      2002  51.418667  100.272579  37.274108  22.932519  78.186813   \n",
       "3      2003  48.628999  102.483871  39.811773  23.759317  68.517949   \n",
       "4      2004  48.693196  106.396893  38.194079  22.027654  63.852941   \n",
       "\n",
       "      Comedy      Crime  Documentary      Drama  ...  Reality-TV    Romance  \\\n",
       "0  45.953722  67.468434    51.833509  55.593049  ...   40.962963  53.375082   \n",
       "1  44.167807  63.624204    49.632520  57.257241  ...   42.532468  53.065887   \n",
       "2  42.958002  61.858790    51.656899  56.358406  ...   41.796791  57.514651   \n",
       "3  43.315000  62.481579    50.515162  56.327189  ...   44.901786  56.152292   \n",
       "4  40.961003  60.484904    54.946847  54.624729  ...   44.106472  55.016018   \n",
       "\n",
       "      Sci-Fi      Short      Sport  Talk-Show   Thriller        War  \\\n",
       "0  41.940092  14.254917  88.505155  50.950450  85.741497  72.769231   \n",
       "1  40.431373  13.406984  84.838150  47.700375  79.979651  74.920792   \n",
       "2  43.356275  13.493159  78.578723  49.918919  73.806358  80.350649   \n",
       "3  39.145631  13.769931  80.255924  52.319703  71.716495  76.573034   \n",
       "4  39.724852  13.640092  76.697368  53.166078  73.968137  69.809917   \n",
       "\n",
       "     Western         \\N  \n",
       "0  64.300000  59.079027  \n",
       "1  58.548387  66.728752  \n",
       "2  56.285714  63.548673  \n",
       "3  40.916667  60.461538  \n",
       "4  43.078947  70.343669  \n",
       "\n",
       "[5 rows x 29 columns]"
      ]
     },
     "execution_count": 63,
     "metadata": {},
     "output_type": "execute_result"
    }
   ],
   "source": [
    "(\n",
    "    df_titles_subset\n",
    "    .drop('genre')\n",
    "    .withColumn('genres', f.explode(f.split(f.col('genres'), ',')))\n",
    "    .groupby('startYear')\n",
    "    .pivot('genres')\n",
    "    .agg(f.mean('runtimeMinutes'))\n",
    "    .na.fill(0)\n",
    "    .orderBy('startYear')\n",
    "    .limit(5)\n",
    "    .toPandas()\n",
    ")"
   ]
  },
  {
   "cell_type": "markdown",
   "id": "225dba39",
   "metadata": {},
   "source": [
    "### Window Functions"
   ]
  },
  {
   "cell_type": "markdown",
   "id": "c59f5b70",
   "metadata": {},
   "source": [
    "Window functions são funções que realizam cálculos similares à uma agregação, mas que não resultam em um DataFrame agregado. Ao invés disso, os resultados são colocados em uma nova coluna, segundo a partição (ou agrupamento) especificado. \n",
    "Exemplos mais comuns:\n",
    "* `row_number()`\n",
    "* `rank() / dense_rank() / percent_rank()`\n",
    "* `lag()`\n",
    "* `cume_dist()`\n",
    "* `collect_list() / collect_set()`\n",
    "* Demais funções de agregação, com exceção de `countDistinct()`\n",
    "\n",
    "Para usar as funções dessa forma, devemos criar uma janela (window) da seguinte forma:\n",
    "\n",
    "```{python}\n",
    "from pyspark.sql.window import Window\n",
    "w = Window.partitionBy({columns}).orderBy({columns}).rowsBetween({lower}, {upper})\n",
    "```\n",
    "\n",
    "* **`partitionBy()`**: agrupamento em que os cálculos serão realizados. É análogo ao `groupBy()`.\n",
    "* **`orderBy`**: algumas funções como `row_number()` e `lag()` dependem da ordenação das linhas do agrupamento. Essa função é usada para especificar essa ordem.\n",
    "* **`rowsBetween()`**: esse método é usado para especificar janelas deslizantes. A partir dele é possível definir um intervalo de linhas, relativas à linha atual, em que a função vai ser aplicada. Caso isso não seja especificado, as operações são realizadas em todo o grupo. Muito útil para construir **médias móveis**. Os seguintes objetos ajudam na constrção desse intervalo:\n",
    "  * `Window.currentRow`: define a linha para qual o valor está sendo calculado como um dos limites de cálculo\n",
    "  * `Window.unboundedPreceding`: define que não há limites para as linhas anteriores à linha para qual o valor está sendo calculado, isto é, a função irá considerar todas as linhas do grupo que já passaram. Deve ser usado no primeiro argumento (start).\n",
    "  * `Window.unboundedFollowing`: define que não há limites para as linhas posteriores à linha para qual o valor está sendo calculado, isto é, a função irá considerar todas as linhas do grupo que ainda não passaram. Deve ser usado no segundo argumento (end).\n",
    "\n",
    "Depois disso, basta utilizar a função `over()` para indicar que aquela função deve ser realizada na janela.  Exemplo:\n",
    "```\n",
    "df.withColumn('rn', f.row_number().over(w))\n",
    "```\n"
   ]
  },
  {
   "cell_type": "code",
   "execution_count": 64,
   "id": "d01ec116",
   "metadata": {
    "pycharm": {
     "name": "#%%\n"
    }
   },
   "outputs": [],
   "source": [
    "from pyspark.sql.window import Window"
   ]
  },
  {
   "cell_type": "code",
   "execution_count": 65,
   "id": "27cb91cc",
   "metadata": {
    "pycharm": {
     "name": "#%%\n"
    }
   },
   "outputs": [],
   "source": [
    "df_titles_subset = (\n",
    "    df_titles\n",
    "    .filter(\"cast(startYear as int) >= 2000\")\n",
    "    .sample(fraction = 0.5)\n",
    "    .withColumn('genre', f.split('genres', ',').getItem(0))\n",
    ")"
   ]
  },
  {
   "cell_type": "code",
   "execution_count": 66,
   "id": "799f20bb",
   "metadata": {
    "pycharm": {
     "name": "#%%\n"
    }
   },
   "outputs": [
    {
     "data": {
      "text/plain": [
       "2705334"
      ]
     },
     "execution_count": 66,
     "metadata": {},
     "output_type": "execute_result"
    }
   ],
   "source": [
    "df_titles_subset.count()"
   ]
  },
  {
   "cell_type": "code",
   "execution_count": 67,
   "id": "73ecb3b5",
   "metadata": {
    "pycharm": {
     "name": "#%%\n"
    }
   },
   "outputs": [
    {
     "data": {
      "text/html": [
       "<div>\n",
       "<style scoped>\n",
       "    .dataframe tbody tr th:only-of-type {\n",
       "        vertical-align: middle;\n",
       "    }\n",
       "\n",
       "    .dataframe tbody tr th {\n",
       "        vertical-align: top;\n",
       "    }\n",
       "\n",
       "    .dataframe thead th {\n",
       "        text-align: right;\n",
       "    }\n",
       "</style>\n",
       "<table border=\"1\" class=\"dataframe\">\n",
       "  <thead>\n",
       "    <tr style=\"text-align: right;\">\n",
       "      <th></th>\n",
       "      <th>tconst</th>\n",
       "      <th>titleType</th>\n",
       "      <th>primaryTitle</th>\n",
       "      <th>originalTitle</th>\n",
       "      <th>isAdult</th>\n",
       "      <th>startYear</th>\n",
       "      <th>endYear</th>\n",
       "      <th>runtimeMinutes</th>\n",
       "      <th>genres</th>\n",
       "      <th>genre</th>\n",
       "    </tr>\n",
       "  </thead>\n",
       "  <tbody>\n",
       "    <tr>\n",
       "      <th>0</th>\n",
       "      <td>tt0011801</td>\n",
       "      <td>movie</td>\n",
       "      <td>Tötet nicht mehr</td>\n",
       "      <td>Tötet nicht mehr</td>\n",
       "      <td>0</td>\n",
       "      <td>2019</td>\n",
       "      <td>\\N</td>\n",
       "      <td>\\N</td>\n",
       "      <td>Action,Crime</td>\n",
       "      <td>Action</td>\n",
       "    </tr>\n",
       "    <tr>\n",
       "      <th>1</th>\n",
       "      <td>tt0016906</td>\n",
       "      <td>movie</td>\n",
       "      <td>Frivolinas</td>\n",
       "      <td>Frivolinas</td>\n",
       "      <td>0</td>\n",
       "      <td>2014</td>\n",
       "      <td>\\N</td>\n",
       "      <td>80</td>\n",
       "      <td>Comedy,Musical</td>\n",
       "      <td>Comedy</td>\n",
       "    </tr>\n",
       "    <tr>\n",
       "      <th>2</th>\n",
       "      <td>tt0019996</td>\n",
       "      <td>movie</td>\n",
       "      <td>Hongxia</td>\n",
       "      <td>Hongxia</td>\n",
       "      <td>0</td>\n",
       "      <td>2011</td>\n",
       "      <td>\\N</td>\n",
       "      <td>94</td>\n",
       "      <td>Action</td>\n",
       "      <td>Action</td>\n",
       "    </tr>\n",
       "    <tr>\n",
       "      <th>3</th>\n",
       "      <td>tt0034413</td>\n",
       "      <td>short</td>\n",
       "      <td>Youth Gets a Break</td>\n",
       "      <td>Youth Gets a Break</td>\n",
       "      <td>0</td>\n",
       "      <td>2001</td>\n",
       "      <td>\\N</td>\n",
       "      <td>20</td>\n",
       "      <td>Short</td>\n",
       "      <td>Short</td>\n",
       "    </tr>\n",
       "    <tr>\n",
       "      <th>4</th>\n",
       "      <td>tt0035423</td>\n",
       "      <td>movie</td>\n",
       "      <td>Kate &amp; Leopold</td>\n",
       "      <td>Kate &amp; Leopold</td>\n",
       "      <td>0</td>\n",
       "      <td>2001</td>\n",
       "      <td>\\N</td>\n",
       "      <td>118</td>\n",
       "      <td>Comedy,Fantasy,Romance</td>\n",
       "      <td>Comedy</td>\n",
       "    </tr>\n",
       "  </tbody>\n",
       "</table>\n",
       "</div>"
      ],
      "text/plain": [
       "      tconst titleType        primaryTitle       originalTitle isAdult  \\\n",
       "0  tt0011801     movie    Tötet nicht mehr    Tötet nicht mehr       0   \n",
       "1  tt0016906     movie          Frivolinas          Frivolinas       0   \n",
       "2  tt0019996     movie             Hongxia             Hongxia       0   \n",
       "3  tt0034413     short  Youth Gets a Break  Youth Gets a Break       0   \n",
       "4  tt0035423     movie      Kate & Leopold      Kate & Leopold       0   \n",
       "\n",
       "  startYear endYear runtimeMinutes                  genres   genre  \n",
       "0      2019      \\N             \\N            Action,Crime  Action  \n",
       "1      2014      \\N             80          Comedy,Musical  Comedy  \n",
       "2      2011      \\N             94                  Action  Action  \n",
       "3      2001      \\N             20                   Short   Short  \n",
       "4      2001      \\N            118  Comedy,Fantasy,Romance  Comedy  "
      ]
     },
     "execution_count": 67,
     "metadata": {},
     "output_type": "execute_result"
    }
   ],
   "source": [
    "df_titles_subset.withColumn('genre', f.split('genres', ',').getItem(0)).limit(5).toPandas()"
   ]
  },
  {
   "cell_type": "code",
   "execution_count": 68,
   "id": "87948f23",
   "metadata": {
    "pycharm": {
     "name": "#%%\n"
    }
   },
   "outputs": [
    {
     "data": {
      "text/html": [
       "<div>\n",
       "<style scoped>\n",
       "    .dataframe tbody tr th:only-of-type {\n",
       "        vertical-align: middle;\n",
       "    }\n",
       "\n",
       "    .dataframe tbody tr th {\n",
       "        vertical-align: top;\n",
       "    }\n",
       "\n",
       "    .dataframe thead th {\n",
       "        text-align: right;\n",
       "    }\n",
       "</style>\n",
       "<table border=\"1\" class=\"dataframe\">\n",
       "  <thead>\n",
       "    <tr style=\"text-align: right;\">\n",
       "      <th></th>\n",
       "      <th>tconst</th>\n",
       "      <th>titleType</th>\n",
       "      <th>primaryTitle</th>\n",
       "      <th>originalTitle</th>\n",
       "      <th>isAdult</th>\n",
       "      <th>startYear</th>\n",
       "      <th>endYear</th>\n",
       "      <th>runtimeMinutes</th>\n",
       "      <th>genres</th>\n",
       "      <th>genre</th>\n",
       "      <th>rn</th>\n",
       "    </tr>\n",
       "  </thead>\n",
       "  <tbody>\n",
       "    <tr>\n",
       "      <th>0</th>\n",
       "      <td>tt11254244</td>\n",
       "      <td>movie</td>\n",
       "      <td>Single Action</td>\n",
       "      <td>Single Action</td>\n",
       "      <td>0</td>\n",
       "      <td>2024</td>\n",
       "      <td>\\N</td>\n",
       "      <td>\\N</td>\n",
       "      <td>Crime,Romance,Sci-Fi</td>\n",
       "      <td>Crime</td>\n",
       "      <td>0.000000</td>\n",
       "    </tr>\n",
       "    <tr>\n",
       "      <th>1</th>\n",
       "      <td>tt10827306</td>\n",
       "      <td>movie</td>\n",
       "      <td>Ghost Swim</td>\n",
       "      <td>Ghost Swim</td>\n",
       "      <td>0</td>\n",
       "      <td>2023</td>\n",
       "      <td>\\N</td>\n",
       "      <td>\\N</td>\n",
       "      <td>Crime,Horror,Mystery</td>\n",
       "      <td>Crime</td>\n",
       "      <td>0.000261</td>\n",
       "    </tr>\n",
       "    <tr>\n",
       "      <th>2</th>\n",
       "      <td>tt12139830</td>\n",
       "      <td>tvMiniSeries</td>\n",
       "      <td>Aviomiehen ystävä</td>\n",
       "      <td>Aviomiehen ystävä</td>\n",
       "      <td>0</td>\n",
       "      <td>2023</td>\n",
       "      <td>\\N</td>\n",
       "      <td>\\N</td>\n",
       "      <td>Crime,Drama,Mystery</td>\n",
       "      <td>Crime</td>\n",
       "      <td>0.000261</td>\n",
       "    </tr>\n",
       "    <tr>\n",
       "      <th>3</th>\n",
       "      <td>tt12238522</td>\n",
       "      <td>tvEpisode</td>\n",
       "      <td>The Interviews</td>\n",
       "      <td>The Interviews</td>\n",
       "      <td>0</td>\n",
       "      <td>2023</td>\n",
       "      <td>\\N</td>\n",
       "      <td>\\N</td>\n",
       "      <td>Crime</td>\n",
       "      <td>Crime</td>\n",
       "      <td>0.000261</td>\n",
       "    </tr>\n",
       "    <tr>\n",
       "      <th>4</th>\n",
       "      <td>tt12238534</td>\n",
       "      <td>tvEpisode</td>\n",
       "      <td>The Hire</td>\n",
       "      <td>The Hire</td>\n",
       "      <td>0</td>\n",
       "      <td>2023</td>\n",
       "      <td>\\N</td>\n",
       "      <td>\\N</td>\n",
       "      <td>Crime</td>\n",
       "      <td>Crime</td>\n",
       "      <td>0.000261</td>\n",
       "    </tr>\n",
       "    <tr>\n",
       "      <th>5</th>\n",
       "      <td>tt12238564</td>\n",
       "      <td>tvEpisode</td>\n",
       "      <td>The Target</td>\n",
       "      <td>The Target</td>\n",
       "      <td>0</td>\n",
       "      <td>2023</td>\n",
       "      <td>\\N</td>\n",
       "      <td>\\N</td>\n",
       "      <td>Crime</td>\n",
       "      <td>Crime</td>\n",
       "      <td>0.000261</td>\n",
       "    </tr>\n",
       "    <tr>\n",
       "      <th>6</th>\n",
       "      <td>tt12275106</td>\n",
       "      <td>tvEpisode</td>\n",
       "      <td>The Websters Division</td>\n",
       "      <td>The Websters Division</td>\n",
       "      <td>0</td>\n",
       "      <td>2023</td>\n",
       "      <td>\\N</td>\n",
       "      <td>\\N</td>\n",
       "      <td>Crime</td>\n",
       "      <td>Crime</td>\n",
       "      <td>0.000261</td>\n",
       "    </tr>\n",
       "    <tr>\n",
       "      <th>7</th>\n",
       "      <td>tt13391780</td>\n",
       "      <td>movie</td>\n",
       "      <td>Spiralled</td>\n",
       "      <td>Spiralled</td>\n",
       "      <td>0</td>\n",
       "      <td>2023</td>\n",
       "      <td>\\N</td>\n",
       "      <td>\\N</td>\n",
       "      <td>Crime,Drama</td>\n",
       "      <td>Crime</td>\n",
       "      <td>0.000261</td>\n",
       "    </tr>\n",
       "    <tr>\n",
       "      <th>8</th>\n",
       "      <td>tt13703326</td>\n",
       "      <td>tvEpisode</td>\n",
       "      <td>The Demon Walker</td>\n",
       "      <td>The Demon Walker</td>\n",
       "      <td>0</td>\n",
       "      <td>2023</td>\n",
       "      <td>\\N</td>\n",
       "      <td>\\N</td>\n",
       "      <td>Crime</td>\n",
       "      <td>Crime</td>\n",
       "      <td>0.000261</td>\n",
       "    </tr>\n",
       "    <tr>\n",
       "      <th>9</th>\n",
       "      <td>tt13745978</td>\n",
       "      <td>movie</td>\n",
       "      <td>Who can you trust</td>\n",
       "      <td>Who can you trust</td>\n",
       "      <td>0</td>\n",
       "      <td>2023</td>\n",
       "      <td>\\N</td>\n",
       "      <td>\\N</td>\n",
       "      <td>Crime</td>\n",
       "      <td>Crime</td>\n",
       "      <td>0.000261</td>\n",
       "    </tr>\n",
       "    <tr>\n",
       "      <th>10</th>\n",
       "      <td>tt14241506</td>\n",
       "      <td>movie</td>\n",
       "      <td>Delve</td>\n",
       "      <td>Delve</td>\n",
       "      <td>0</td>\n",
       "      <td>2023</td>\n",
       "      <td>\\N</td>\n",
       "      <td>\\N</td>\n",
       "      <td>Crime,Mystery,Thriller</td>\n",
       "      <td>Crime</td>\n",
       "      <td>0.000261</td>\n",
       "    </tr>\n",
       "    <tr>\n",
       "      <th>11</th>\n",
       "      <td>tt15022440</td>\n",
       "      <td>movie</td>\n",
       "      <td>80 Proof</td>\n",
       "      <td>80 Proof</td>\n",
       "      <td>0</td>\n",
       "      <td>2023</td>\n",
       "      <td>\\N</td>\n",
       "      <td>\\N</td>\n",
       "      <td>Crime</td>\n",
       "      <td>Crime</td>\n",
       "      <td>0.000261</td>\n",
       "    </tr>\n",
       "    <tr>\n",
       "      <th>12</th>\n",
       "      <td>tt3999214</td>\n",
       "      <td>movie</td>\n",
       "      <td>Perpetual Nexus</td>\n",
       "      <td>Perpetual Nexus</td>\n",
       "      <td>0</td>\n",
       "      <td>2023</td>\n",
       "      <td>\\N</td>\n",
       "      <td>\\N</td>\n",
       "      <td>Crime,Drama</td>\n",
       "      <td>Crime</td>\n",
       "      <td>0.000261</td>\n",
       "    </tr>\n",
       "    <tr>\n",
       "      <th>13</th>\n",
       "      <td>tt7115440</td>\n",
       "      <td>movie</td>\n",
       "      <td>The Bathtub Murders</td>\n",
       "      <td>The Bathtub Murders</td>\n",
       "      <td>0</td>\n",
       "      <td>2023</td>\n",
       "      <td>\\N</td>\n",
       "      <td>\\N</td>\n",
       "      <td>Crime,Drama,Mystery</td>\n",
       "      <td>Crime</td>\n",
       "      <td>0.000261</td>\n",
       "    </tr>\n",
       "    <tr>\n",
       "      <th>14</th>\n",
       "      <td>tt8615378</td>\n",
       "      <td>movie</td>\n",
       "      <td>Roper</td>\n",
       "      <td>Roper</td>\n",
       "      <td>0</td>\n",
       "      <td>2023</td>\n",
       "      <td>\\N</td>\n",
       "      <td>\\N</td>\n",
       "      <td>Crime</td>\n",
       "      <td>Crime</td>\n",
       "      <td>0.000261</td>\n",
       "    </tr>\n",
       "    <tr>\n",
       "      <th>15</th>\n",
       "      <td>tt10054992</td>\n",
       "      <td>tvSeries</td>\n",
       "      <td>D.O.P.E. UNIT</td>\n",
       "      <td>D.O.P.E. UNIT</td>\n",
       "      <td>0</td>\n",
       "      <td>2022</td>\n",
       "      <td>\\N</td>\n",
       "      <td>\\N</td>\n",
       "      <td>Crime,Drama</td>\n",
       "      <td>Crime</td>\n",
       "      <td>0.003914</td>\n",
       "    </tr>\n",
       "    <tr>\n",
       "      <th>16</th>\n",
       "      <td>tt10115998</td>\n",
       "      <td>movie</td>\n",
       "      <td>The Cincinnati Spin</td>\n",
       "      <td>The Cincinnati Spin</td>\n",
       "      <td>0</td>\n",
       "      <td>2022</td>\n",
       "      <td>\\N</td>\n",
       "      <td>\\N</td>\n",
       "      <td>Crime,Drama,Mystery</td>\n",
       "      <td>Crime</td>\n",
       "      <td>0.003914</td>\n",
       "    </tr>\n",
       "    <tr>\n",
       "      <th>17</th>\n",
       "      <td>tt10299834</td>\n",
       "      <td>movie</td>\n",
       "      <td>Path to Midnight</td>\n",
       "      <td>Path to Midnight</td>\n",
       "      <td>0</td>\n",
       "      <td>2022</td>\n",
       "      <td>\\N</td>\n",
       "      <td>\\N</td>\n",
       "      <td>Crime,Thriller</td>\n",
       "      <td>Crime</td>\n",
       "      <td>0.003914</td>\n",
       "    </tr>\n",
       "    <tr>\n",
       "      <th>18</th>\n",
       "      <td>tt10741670</td>\n",
       "      <td>movie</td>\n",
       "      <td>Interstate 75</td>\n",
       "      <td>Interstate 75</td>\n",
       "      <td>0</td>\n",
       "      <td>2022</td>\n",
       "      <td>\\N</td>\n",
       "      <td>\\N</td>\n",
       "      <td>Crime</td>\n",
       "      <td>Crime</td>\n",
       "      <td>0.003914</td>\n",
       "    </tr>\n",
       "    <tr>\n",
       "      <th>19</th>\n",
       "      <td>tt1074647</td>\n",
       "      <td>movie</td>\n",
       "      <td>Nights of Turquoise</td>\n",
       "      <td>Nights of Turquoise</td>\n",
       "      <td>0</td>\n",
       "      <td>2022</td>\n",
       "      <td>\\N</td>\n",
       "      <td>\\N</td>\n",
       "      <td>Crime,Drama</td>\n",
       "      <td>Crime</td>\n",
       "      <td>0.003914</td>\n",
       "    </tr>\n",
       "    <tr>\n",
       "      <th>20</th>\n",
       "      <td>tt10901868</td>\n",
       "      <td>movie</td>\n",
       "      <td>Refinement</td>\n",
       "      <td>Refinement</td>\n",
       "      <td>0</td>\n",
       "      <td>2022</td>\n",
       "      <td>\\N</td>\n",
       "      <td>\\N</td>\n",
       "      <td>Crime,Drama,Thriller</td>\n",
       "      <td>Crime</td>\n",
       "      <td>0.003914</td>\n",
       "    </tr>\n",
       "    <tr>\n",
       "      <th>21</th>\n",
       "      <td>tt10914400</td>\n",
       "      <td>tvSeries</td>\n",
       "      <td>Émigré</td>\n",
       "      <td>Émigré</td>\n",
       "      <td>0</td>\n",
       "      <td>2022</td>\n",
       "      <td>\\N</td>\n",
       "      <td>\\N</td>\n",
       "      <td>Crime,Drama</td>\n",
       "      <td>Crime</td>\n",
       "      <td>0.003914</td>\n",
       "    </tr>\n",
       "    <tr>\n",
       "      <th>22</th>\n",
       "      <td>tt10959682</td>\n",
       "      <td>tvEpisode</td>\n",
       "      <td>Episode #9.1</td>\n",
       "      <td>Episode #9.1</td>\n",
       "      <td>0</td>\n",
       "      <td>2022</td>\n",
       "      <td>\\N</td>\n",
       "      <td>\\N</td>\n",
       "      <td>Crime,Drama,Mystery</td>\n",
       "      <td>Crime</td>\n",
       "      <td>0.003914</td>\n",
       "    </tr>\n",
       "    <tr>\n",
       "      <th>23</th>\n",
       "      <td>tt11086884</td>\n",
       "      <td>tvEpisode</td>\n",
       "      <td>Episode #9.9</td>\n",
       "      <td>Episode #9.9</td>\n",
       "      <td>0</td>\n",
       "      <td>2022</td>\n",
       "      <td>\\N</td>\n",
       "      <td>\\N</td>\n",
       "      <td>Crime,Drama,Mystery</td>\n",
       "      <td>Crime</td>\n",
       "      <td>0.003914</td>\n",
       "    </tr>\n",
       "    <tr>\n",
       "      <th>24</th>\n",
       "      <td>tt11230416</td>\n",
       "      <td>movie</td>\n",
       "      <td>The Soap Maker</td>\n",
       "      <td>The Soap Maker</td>\n",
       "      <td>0</td>\n",
       "      <td>2022</td>\n",
       "      <td>\\N</td>\n",
       "      <td>\\N</td>\n",
       "      <td>Crime</td>\n",
       "      <td>Crime</td>\n",
       "      <td>0.003914</td>\n",
       "    </tr>\n",
       "  </tbody>\n",
       "</table>\n",
       "</div>"
      ],
      "text/plain": [
       "        tconst     titleType           primaryTitle          originalTitle  \\\n",
       "0   tt11254244         movie          Single Action          Single Action   \n",
       "1   tt10827306         movie             Ghost Swim             Ghost Swim   \n",
       "2   tt12139830  tvMiniSeries      Aviomiehen ystävä      Aviomiehen ystävä   \n",
       "3   tt12238522     tvEpisode         The Interviews         The Interviews   \n",
       "4   tt12238534     tvEpisode               The Hire               The Hire   \n",
       "5   tt12238564     tvEpisode             The Target             The Target   \n",
       "6   tt12275106     tvEpisode  The Websters Division  The Websters Division   \n",
       "7   tt13391780         movie              Spiralled              Spiralled   \n",
       "8   tt13703326     tvEpisode       The Demon Walker       The Demon Walker   \n",
       "9   tt13745978         movie      Who can you trust      Who can you trust   \n",
       "10  tt14241506         movie                  Delve                  Delve   \n",
       "11  tt15022440         movie               80 Proof               80 Proof   \n",
       "12   tt3999214         movie        Perpetual Nexus        Perpetual Nexus   \n",
       "13   tt7115440         movie    The Bathtub Murders    The Bathtub Murders   \n",
       "14   tt8615378         movie                  Roper                  Roper   \n",
       "15  tt10054992      tvSeries          D.O.P.E. UNIT          D.O.P.E. UNIT   \n",
       "16  tt10115998         movie    The Cincinnati Spin    The Cincinnati Spin   \n",
       "17  tt10299834         movie       Path to Midnight       Path to Midnight   \n",
       "18  tt10741670         movie          Interstate 75          Interstate 75   \n",
       "19   tt1074647         movie    Nights of Turquoise    Nights of Turquoise   \n",
       "20  tt10901868         movie             Refinement             Refinement   \n",
       "21  tt10914400      tvSeries                 Émigré                 Émigré   \n",
       "22  tt10959682     tvEpisode           Episode #9.1           Episode #9.1   \n",
       "23  tt11086884     tvEpisode           Episode #9.9           Episode #9.9   \n",
       "24  tt11230416         movie         The Soap Maker         The Soap Maker   \n",
       "\n",
       "   isAdult  startYear endYear runtimeMinutes                  genres  genre  \\\n",
       "0        0       2024      \\N             \\N    Crime,Romance,Sci-Fi  Crime   \n",
       "1        0       2023      \\N             \\N    Crime,Horror,Mystery  Crime   \n",
       "2        0       2023      \\N             \\N     Crime,Drama,Mystery  Crime   \n",
       "3        0       2023      \\N             \\N                   Crime  Crime   \n",
       "4        0       2023      \\N             \\N                   Crime  Crime   \n",
       "5        0       2023      \\N             \\N                   Crime  Crime   \n",
       "6        0       2023      \\N             \\N                   Crime  Crime   \n",
       "7        0       2023      \\N             \\N             Crime,Drama  Crime   \n",
       "8        0       2023      \\N             \\N                   Crime  Crime   \n",
       "9        0       2023      \\N             \\N                   Crime  Crime   \n",
       "10       0       2023      \\N             \\N  Crime,Mystery,Thriller  Crime   \n",
       "11       0       2023      \\N             \\N                   Crime  Crime   \n",
       "12       0       2023      \\N             \\N             Crime,Drama  Crime   \n",
       "13       0       2023      \\N             \\N     Crime,Drama,Mystery  Crime   \n",
       "14       0       2023      \\N             \\N                   Crime  Crime   \n",
       "15       0       2022      \\N             \\N             Crime,Drama  Crime   \n",
       "16       0       2022      \\N             \\N     Crime,Drama,Mystery  Crime   \n",
       "17       0       2022      \\N             \\N          Crime,Thriller  Crime   \n",
       "18       0       2022      \\N             \\N                   Crime  Crime   \n",
       "19       0       2022      \\N             \\N             Crime,Drama  Crime   \n",
       "20       0       2022      \\N             \\N    Crime,Drama,Thriller  Crime   \n",
       "21       0       2022      \\N             \\N             Crime,Drama  Crime   \n",
       "22       0       2022      \\N             \\N     Crime,Drama,Mystery  Crime   \n",
       "23       0       2022      \\N             \\N     Crime,Drama,Mystery  Crime   \n",
       "24       0       2022      \\N             \\N                   Crime  Crime   \n",
       "\n",
       "          rn  \n",
       "0   0.000000  \n",
       "1   0.000261  \n",
       "2   0.000261  \n",
       "3   0.000261  \n",
       "4   0.000261  \n",
       "5   0.000261  \n",
       "6   0.000261  \n",
       "7   0.000261  \n",
       "8   0.000261  \n",
       "9   0.000261  \n",
       "10  0.000261  \n",
       "11  0.000261  \n",
       "12  0.000261  \n",
       "13  0.000261  \n",
       "14  0.000261  \n",
       "15  0.003914  \n",
       "16  0.003914  \n",
       "17  0.003914  \n",
       "18  0.003914  \n",
       "19  0.003914  \n",
       "20  0.003914  \n",
       "21  0.003914  \n",
       "22  0.003914  \n",
       "23  0.003914  \n",
       "24  0.003914  "
      ]
     },
     "execution_count": 68,
     "metadata": {},
     "output_type": "execute_result"
    }
   ],
   "source": [
    "w = Window.partitionBy('genre').orderBy(f.desc('startYear'))\n",
    "(\n",
    "    df_titles_subset\n",
    "    .withColumn('genre', f.split('genres', ',').getItem(0))\n",
    "    .withColumn('startYear', f.col('startYear').cast('int'))\n",
    "    .filter('startYear >= 2021')\n",
    "    .withColumn('rn', f.percent_rank().over(w))\n",
    "    .limit(25)\n",
    "    .toPandas()\n",
    ")"
   ]
  },
  {
   "cell_type": "code",
   "execution_count": 69,
   "id": "019fc1e8",
   "metadata": {
    "pycharm": {
     "name": "#%%\n"
    }
   },
   "outputs": [
    {
     "data": {
      "text/html": [
       "<div>\n",
       "<style scoped>\n",
       "    .dataframe tbody tr th:only-of-type {\n",
       "        vertical-align: middle;\n",
       "    }\n",
       "\n",
       "    .dataframe tbody tr th {\n",
       "        vertical-align: top;\n",
       "    }\n",
       "\n",
       "    .dataframe thead th {\n",
       "        text-align: right;\n",
       "    }\n",
       "</style>\n",
       "<table border=\"1\" class=\"dataframe\">\n",
       "  <thead>\n",
       "    <tr style=\"text-align: right;\">\n",
       "      <th></th>\n",
       "      <th>tconst</th>\n",
       "      <th>titleType</th>\n",
       "      <th>primaryTitle</th>\n",
       "      <th>originalTitle</th>\n",
       "      <th>isAdult</th>\n",
       "      <th>startYear</th>\n",
       "      <th>endYear</th>\n",
       "      <th>runtimeMinutes</th>\n",
       "      <th>genres</th>\n",
       "      <th>genre</th>\n",
       "      <th>total_minutes</th>\n",
       "      <th>mean_minutes</th>\n",
       "      <th>relative_minutes</th>\n",
       "    </tr>\n",
       "  </thead>\n",
       "  <tbody>\n",
       "    <tr>\n",
       "      <th>0</th>\n",
       "      <td>tt10013970</td>\n",
       "      <td>tvMovie</td>\n",
       "      <td>Montagnes de rêve: Eiger</td>\n",
       "      <td>Montagnes de rêve: Eiger</td>\n",
       "      <td>0</td>\n",
       "      <td>2014</td>\n",
       "      <td>\\N</td>\n",
       "      <td>50</td>\n",
       "      <td>Documentary</td>\n",
       "      <td>Documentary</td>\n",
       "      <td>67619</td>\n",
       "      <td>69.495375</td>\n",
       "      <td>0.000739</td>\n",
       "    </tr>\n",
       "    <tr>\n",
       "      <th>1</th>\n",
       "      <td>tt10016288</td>\n",
       "      <td>tvMovie</td>\n",
       "      <td>Eidsvollsbygningen tilbake til 1814</td>\n",
       "      <td>Eidsvollsbygningen tilbake til 1814</td>\n",
       "      <td>0</td>\n",
       "      <td>2014</td>\n",
       "      <td>\\N</td>\n",
       "      <td>29</td>\n",
       "      <td>Documentary</td>\n",
       "      <td>Documentary</td>\n",
       "      <td>67619</td>\n",
       "      <td>69.495375</td>\n",
       "      <td>0.000429</td>\n",
       "    </tr>\n",
       "    <tr>\n",
       "      <th>2</th>\n",
       "      <td>tt10023258</td>\n",
       "      <td>tvMovie</td>\n",
       "      <td>Jansrud og Jansrud</td>\n",
       "      <td>Jansrud og Jansrud</td>\n",
       "      <td>0</td>\n",
       "      <td>2014</td>\n",
       "      <td>\\N</td>\n",
       "      <td>49</td>\n",
       "      <td>Documentary,Sport</td>\n",
       "      <td>Documentary</td>\n",
       "      <td>67619</td>\n",
       "      <td>69.495375</td>\n",
       "      <td>0.000725</td>\n",
       "    </tr>\n",
       "    <tr>\n",
       "      <th>3</th>\n",
       "      <td>tt10023298</td>\n",
       "      <td>tvMovie</td>\n",
       "      <td>Gjenerobringen av norske hav</td>\n",
       "      <td>Gjenerobringen av norske hav</td>\n",
       "      <td>0</td>\n",
       "      <td>2014</td>\n",
       "      <td>\\N</td>\n",
       "      <td>48</td>\n",
       "      <td>Documentary</td>\n",
       "      <td>Documentary</td>\n",
       "      <td>67619</td>\n",
       "      <td>69.495375</td>\n",
       "      <td>0.000710</td>\n",
       "    </tr>\n",
       "    <tr>\n",
       "      <th>4</th>\n",
       "      <td>tt10050846</td>\n",
       "      <td>tvMovie</td>\n",
       "      <td>Deutscher Filmpreis 2014</td>\n",
       "      <td>Deutscher Filmpreis 2014</td>\n",
       "      <td>0</td>\n",
       "      <td>2014</td>\n",
       "      <td>\\N</td>\n",
       "      <td>148</td>\n",
       "      <td>Family</td>\n",
       "      <td>Family</td>\n",
       "      <td>67619</td>\n",
       "      <td>69.495375</td>\n",
       "      <td>0.002189</td>\n",
       "    </tr>\n",
       "  </tbody>\n",
       "</table>\n",
       "</div>"
      ],
      "text/plain": [
       "       tconst titleType                         primaryTitle  \\\n",
       "0  tt10013970   tvMovie             Montagnes de rêve: Eiger   \n",
       "1  tt10016288   tvMovie  Eidsvollsbygningen tilbake til 1814   \n",
       "2  tt10023258   tvMovie                   Jansrud og Jansrud   \n",
       "3  tt10023298   tvMovie         Gjenerobringen av norske hav   \n",
       "4  tt10050846   tvMovie             Deutscher Filmpreis 2014   \n",
       "\n",
       "                         originalTitle isAdult startYear endYear  \\\n",
       "0             Montagnes de rêve: Eiger       0      2014      \\N   \n",
       "1  Eidsvollsbygningen tilbake til 1814       0      2014      \\N   \n",
       "2                   Jansrud og Jansrud       0      2014      \\N   \n",
       "3         Gjenerobringen av norske hav       0      2014      \\N   \n",
       "4             Deutscher Filmpreis 2014       0      2014      \\N   \n",
       "\n",
       "   runtimeMinutes             genres        genre  total_minutes  \\\n",
       "0              50        Documentary  Documentary          67619   \n",
       "1              29        Documentary  Documentary          67619   \n",
       "2              49  Documentary,Sport  Documentary          67619   \n",
       "3              48        Documentary  Documentary          67619   \n",
       "4             148             Family       Family          67619   \n",
       "\n",
       "   mean_minutes  relative_minutes  \n",
       "0     69.495375          0.000739  \n",
       "1     69.495375          0.000429  \n",
       "2     69.495375          0.000725  \n",
       "3     69.495375          0.000710  \n",
       "4     69.495375          0.002189  "
      ]
     },
     "execution_count": 69,
     "metadata": {},
     "output_type": "execute_result"
    }
   ],
   "source": [
    "w = Window.partitionBy('titleType', 'startYear')\n",
    "(\n",
    "    df_titles_subset\n",
    "    .withColumn('genre', f.split('genres', ',').getItem(0))\n",
    "    .withColumn('runtimeMinutes', f.col('runtimeMinutes').cast('int'))\n",
    "    .withColumn('total_minutes', f.sum(f.col('runtimeMinutes')).over(w))\n",
    "    .withColumn('mean_minutes', f.mean(f.col('runtimeMinutes')).over(w))\n",
    "    .withColumn('relative_minutes', f.col('runtimeMinutes') / f.col('total_minutes'))\n",
    "    .filter('runtimeMinutes is not null')\n",
    "    .limit(5)\n",
    "    .toPandas()\n",
    ")"
   ]
  },
  {
   "cell_type": "code",
   "execution_count": 70,
   "id": "41201669",
   "metadata": {
    "pycharm": {
     "name": "#%%\n"
    }
   },
   "outputs": [
    {
     "data": {
      "text/html": [
       "<div>\n",
       "<style scoped>\n",
       "    .dataframe tbody tr th:only-of-type {\n",
       "        vertical-align: middle;\n",
       "    }\n",
       "\n",
       "    .dataframe tbody tr th {\n",
       "        vertical-align: top;\n",
       "    }\n",
       "\n",
       "    .dataframe thead th {\n",
       "        text-align: right;\n",
       "    }\n",
       "</style>\n",
       "<table border=\"1\" class=\"dataframe\">\n",
       "  <thead>\n",
       "    <tr style=\"text-align: right;\">\n",
       "      <th></th>\n",
       "      <th>titleType</th>\n",
       "      <th>startYear</th>\n",
       "      <th>media_minutos</th>\n",
       "      <th>meadia_movel_3anos</th>\n",
       "    </tr>\n",
       "  </thead>\n",
       "  <tbody>\n",
       "    <tr>\n",
       "      <th>0</th>\n",
       "      <td>tvSeries</td>\n",
       "      <td>2000</td>\n",
       "      <td>50.256494</td>\n",
       "      <td>50.256</td>\n",
       "    </tr>\n",
       "    <tr>\n",
       "      <th>1</th>\n",
       "      <td>tvSeries</td>\n",
       "      <td>2001</td>\n",
       "      <td>51.645619</td>\n",
       "      <td>50.951</td>\n",
       "    </tr>\n",
       "    <tr>\n",
       "      <th>2</th>\n",
       "      <td>tvSeries</td>\n",
       "      <td>2002</td>\n",
       "      <td>51.713004</td>\n",
       "      <td>51.205</td>\n",
       "    </tr>\n",
       "    <tr>\n",
       "      <th>3</th>\n",
       "      <td>tvSeries</td>\n",
       "      <td>2003</td>\n",
       "      <td>48.537961</td>\n",
       "      <td>50.538</td>\n",
       "    </tr>\n",
       "    <tr>\n",
       "      <th>4</th>\n",
       "      <td>tvSeries</td>\n",
       "      <td>2004</td>\n",
       "      <td>59.283894</td>\n",
       "      <td>52.287</td>\n",
       "    </tr>\n",
       "    <tr>\n",
       "      <th>5</th>\n",
       "      <td>tvSeries</td>\n",
       "      <td>2005</td>\n",
       "      <td>52.461942</td>\n",
       "      <td>52.316</td>\n",
       "    </tr>\n",
       "    <tr>\n",
       "      <th>6</th>\n",
       "      <td>tvSeries</td>\n",
       "      <td>2006</td>\n",
       "      <td>54.641554</td>\n",
       "      <td>52.649</td>\n",
       "    </tr>\n",
       "    <tr>\n",
       "      <th>7</th>\n",
       "      <td>tvSeries</td>\n",
       "      <td>2007</td>\n",
       "      <td>49.925249</td>\n",
       "      <td>52.308</td>\n",
       "    </tr>\n",
       "    <tr>\n",
       "      <th>8</th>\n",
       "      <td>tvSeries</td>\n",
       "      <td>2008</td>\n",
       "      <td>45.519130</td>\n",
       "      <td>51.554</td>\n",
       "    </tr>\n",
       "    <tr>\n",
       "      <th>9</th>\n",
       "      <td>tvSeries</td>\n",
       "      <td>2009</td>\n",
       "      <td>47.333333</td>\n",
       "      <td>51.132</td>\n",
       "    </tr>\n",
       "    <tr>\n",
       "      <th>10</th>\n",
       "      <td>tvSeries</td>\n",
       "      <td>2010</td>\n",
       "      <td>43.903098</td>\n",
       "      <td>50.475</td>\n",
       "    </tr>\n",
       "    <tr>\n",
       "      <th>11</th>\n",
       "      <td>tvSeries</td>\n",
       "      <td>2011</td>\n",
       "      <td>42.837500</td>\n",
       "      <td>49.838</td>\n",
       "    </tr>\n",
       "    <tr>\n",
       "      <th>12</th>\n",
       "      <td>tvSeries</td>\n",
       "      <td>2012</td>\n",
       "      <td>42.302439</td>\n",
       "      <td>49.259</td>\n",
       "    </tr>\n",
       "    <tr>\n",
       "      <th>13</th>\n",
       "      <td>tvSeries</td>\n",
       "      <td>2013</td>\n",
       "      <td>37.371610</td>\n",
       "      <td>48.409</td>\n",
       "    </tr>\n",
       "    <tr>\n",
       "      <th>14</th>\n",
       "      <td>tvSeries</td>\n",
       "      <td>2014</td>\n",
       "      <td>41.474409</td>\n",
       "      <td>47.947</td>\n",
       "    </tr>\n",
       "  </tbody>\n",
       "</table>\n",
       "</div>"
      ],
      "text/plain": [
       "   titleType startYear  media_minutos  meadia_movel_3anos\n",
       "0   tvSeries      2000      50.256494              50.256\n",
       "1   tvSeries      2001      51.645619              50.951\n",
       "2   tvSeries      2002      51.713004              51.205\n",
       "3   tvSeries      2003      48.537961              50.538\n",
       "4   tvSeries      2004      59.283894              52.287\n",
       "5   tvSeries      2005      52.461942              52.316\n",
       "6   tvSeries      2006      54.641554              52.649\n",
       "7   tvSeries      2007      49.925249              52.308\n",
       "8   tvSeries      2008      45.519130              51.554\n",
       "9   tvSeries      2009      47.333333              51.132\n",
       "10  tvSeries      2010      43.903098              50.475\n",
       "11  tvSeries      2011      42.837500              49.838\n",
       "12  tvSeries      2012      42.302439              49.259\n",
       "13  tvSeries      2013      37.371610              48.409\n",
       "14  tvSeries      2014      41.474409              47.947"
      ]
     },
     "execution_count": 70,
     "metadata": {},
     "output_type": "execute_result"
    }
   ],
   "source": [
    "w = Window.partitionBy('titleType').orderBy('startYear').rowsBetween(Window.unboundedPreceding, Window.currentRow)\n",
    "(\n",
    "    df_titles_subset\n",
    "    .withColumn('runtimeMinutes', f.col('runtimeMinutes').cast('int'))\n",
    "    .groupby('titleType', 'startYear')\n",
    "    .agg(f.expr('mean(runtimeMinutes) as media_minutos'))\n",
    "    .orderBy('titleType', 'startYear')\n",
    "    .withColumn('meadia_movel_3anos', f.round(f.mean('media_minutos').over(w), 3))\n",
    "    .limit(15)\n",
    "    .toPandas()\n",
    ")"
   ]
  },
  {
   "cell_type": "code",
   "execution_count": 71,
   "id": "241d92e0",
   "metadata": {
    "pycharm": {
     "name": "#%%\n"
    }
   },
   "outputs": [
    {
     "ename": "TypeError",
     "evalue": "Invalid argument, not a string or column: 50.51642866666666 of type <class 'float'>. For column literals, use 'lit', 'array', 'struct' or 'create_map' function.",
     "output_type": "error",
     "traceback": [
      "\u001b[1;31m---------------------------------------------------------------------------\u001b[0m",
      "\u001b[1;31mTypeError\u001b[0m                                 Traceback (most recent call last)",
      "\u001b[1;32m~\\AppData\\Local\\Temp/ipykernel_19340/2861408713.py\u001b[0m in \u001b[0;36m<module>\u001b[1;34m\u001b[0m\n\u001b[1;32m----> 1\u001b[1;33m \u001b[0mround\u001b[0m\u001b[1;33m(\u001b[0m\u001b[1;33m(\u001b[0m\u001b[1;36m49.007634\u001b[0m \u001b[1;33m+\u001b[0m \u001b[1;36m50.358881\u001b[0m \u001b[1;33m+\u001b[0m \u001b[1;36m52.182771\u001b[0m\u001b[1;33m)\u001b[0m\u001b[1;33m/\u001b[0m\u001b[1;36m3\u001b[0m\u001b[1;33m,\u001b[0m \u001b[1;36m3\u001b[0m\u001b[1;33m)\u001b[0m \u001b[1;33m==\u001b[0m \u001b[1;36m50.516\u001b[0m\u001b[1;33m\u001b[0m\u001b[1;33m\u001b[0m\u001b[0m\n\u001b[0m",
      "\u001b[1;32mC:\\spark\\spark-3.1.2-bin-hadoop3.2\\python\\pyspark\\sql\\functions.py\u001b[0m in \u001b[0;36mround\u001b[1;34m(col, scale)\u001b[0m\n\u001b[0;32m   1232\u001b[0m     \"\"\"\n\u001b[0;32m   1233\u001b[0m     \u001b[0msc\u001b[0m \u001b[1;33m=\u001b[0m \u001b[0mSparkContext\u001b[0m\u001b[1;33m.\u001b[0m\u001b[0m_active_spark_context\u001b[0m\u001b[1;33m\u001b[0m\u001b[1;33m\u001b[0m\u001b[0m\n\u001b[1;32m-> 1234\u001b[1;33m     \u001b[1;32mreturn\u001b[0m \u001b[0mColumn\u001b[0m\u001b[1;33m(\u001b[0m\u001b[0msc\u001b[0m\u001b[1;33m.\u001b[0m\u001b[0m_jvm\u001b[0m\u001b[1;33m.\u001b[0m\u001b[0mfunctions\u001b[0m\u001b[1;33m.\u001b[0m\u001b[0mround\u001b[0m\u001b[1;33m(\u001b[0m\u001b[0m_to_java_column\u001b[0m\u001b[1;33m(\u001b[0m\u001b[0mcol\u001b[0m\u001b[1;33m)\u001b[0m\u001b[1;33m,\u001b[0m \u001b[0mscale\u001b[0m\u001b[1;33m)\u001b[0m\u001b[1;33m)\u001b[0m\u001b[1;33m\u001b[0m\u001b[1;33m\u001b[0m\u001b[0m\n\u001b[0m\u001b[0;32m   1235\u001b[0m \u001b[1;33m\u001b[0m\u001b[0m\n\u001b[0;32m   1236\u001b[0m \u001b[1;33m\u001b[0m\u001b[0m\n",
      "\u001b[1;32mC:\\spark\\spark-3.1.2-bin-hadoop3.2\\python\\pyspark\\sql\\column.py\u001b[0m in \u001b[0;36m_to_java_column\u001b[1;34m(col)\u001b[0m\n\u001b[0;32m     47\u001b[0m             \u001b[1;34m\"{0} of type {1}. \"\u001b[0m\u001b[1;33m\u001b[0m\u001b[1;33m\u001b[0m\u001b[0m\n\u001b[0;32m     48\u001b[0m             \u001b[1;34m\"For column literals, use 'lit', 'array', 'struct' or 'create_map' \"\u001b[0m\u001b[1;33m\u001b[0m\u001b[1;33m\u001b[0m\u001b[0m\n\u001b[1;32m---> 49\u001b[1;33m             \"function.\".format(col, type(col)))\n\u001b[0m\u001b[0;32m     50\u001b[0m     \u001b[1;32mreturn\u001b[0m \u001b[0mjcol\u001b[0m\u001b[1;33m\u001b[0m\u001b[1;33m\u001b[0m\u001b[0m\n\u001b[0;32m     51\u001b[0m \u001b[1;33m\u001b[0m\u001b[0m\n",
      "\u001b[1;31mTypeError\u001b[0m: Invalid argument, not a string or column: 50.51642866666666 of type <class 'float'>. For column literals, use 'lit', 'array', 'struct' or 'create_map' function."
     ]
    }
   ],
   "source": [
    "round((49.007634 + 50.358881 + 52.182771)/3, 3) == 50.516"
   ]
  },
  {
   "cell_type": "code",
   "execution_count": null,
   "id": "976a40b9",
   "metadata": {
    "pycharm": {
     "name": "#%%\n"
    }
   },
   "outputs": [],
   "source": [
    "round((49.186983 + 50.358881 + 52.182771 + 49.007634 + 55.584795)/5, 3) == 51.264"
   ]
  },
  {
   "cell_type": "markdown",
   "id": "14471672",
   "metadata": {},
   "source": [
    "#### Usando uma Window para calcular os distintos"
   ]
  },
  {
   "cell_type": "code",
   "execution_count": null,
   "id": "a1ba0adb",
   "metadata": {
    "pycharm": {
     "name": "#%%\n"
    }
   },
   "outputs": [],
   "source": [
    "w = Window.partitionBy('titleType', 'startYear')\n",
    "(\n",
    "    df_titles\n",
    "    .withColumn('lista_cnae', f.countDistinct(f.col('tconst')).over(w))\n",
    "    .limit(5)\n",
    "    .toPandas()\n",
    ")"
   ]
  },
  {
   "cell_type": "code",
   "execution_count": null,
   "id": "56802cfb",
   "metadata": {
    "pycharm": {
     "name": "#%%\n"
    }
   },
   "outputs": [],
   "source": [
    "w = Window.partitionBy('titleType', 'startYear')\n",
    "(\n",
    "    df_titles_subset\n",
    "    .withColumn('lista_titulos', f.collect_set(f.col('tconst')).over(w))\n",
    "    .limit(5)\n",
    "    .toPandas()\n",
    ")"
   ]
  },
  {
   "cell_type": "code",
   "execution_count": null,
   "id": "d5c415bc",
   "metadata": {
    "pycharm": {
     "name": "#%%\n"
    }
   },
   "outputs": [],
   "source": [
    "w = Window.partitionBy('titleType', 'startYear')\n",
    "(\n",
    "    df_titles_subset\n",
    "    .withColumn('lista_titulos', f.collect_set(f.col('tconst')).over(w))\n",
    "    .withColumn('titulos_distintos', f.size(f.col('lista_titulos')))\n",
    "    .select('titleType', 'startYear', 'titulos_distintos')\n",
    "    .orderBy(f.col('titulos_distintos').desc())\n",
    "    .limit(5)\n",
    "    .toPandas()\n",
    ")"
   ]
  },
  {
   "cell_type": "code",
   "execution_count": null,
   "id": "53926a87",
   "metadata": {
    "pycharm": {
     "name": "#%%\n"
    }
   },
   "outputs": [],
   "source": [
    "(\n",
    "    df_titles_subset\n",
    "    .groupby('titleType', 'startYear')\n",
    "    .agg(f.countDistinct(f.col('tconst')).alias('titulos_distintos'))\n",
    "    .orderBy(f.col('titulos_distintos').desc())\n",
    "    .limit(5)\n",
    "    .toPandas()\n",
    ")"
   ]
  },
  {
   "cell_type": "markdown",
   "id": "6199689e",
   "metadata": {},
   "source": [
    "#### Usando Windows para evitar Joins"
   ]
  },
  {
   "cell_type": "markdown",
   "id": "40f84a7b",
   "metadata": {},
   "source": [
    "Objetivo: Titulos mais recentes por genero\n",
    "\n",
    "Caminho natural:\n",
    "```\n",
    "df1 = df_titles.groupby('genre').agg(f.max(f.col('startYear').alias('startYear'))\n",
    "df2 = df_titles.join(df1, ['genre', 'startYear'])\n",
    "```\n",
    "Alternativa:"
   ]
  },
  {
   "cell_type": "code",
   "execution_count": null,
   "id": "9d333ea1",
   "metadata": {
    "pycharm": {
     "name": "#%%\n"
    }
   },
   "outputs": [],
   "source": [
    "w = Window.partitionBy('genre')\n",
    "(\n",
    "    df_titles_subset\n",
    "    .withColumn('max_data', f.max(f.col('startYear')).over(w))\n",
    "    .filter('startYear = max_data')\n",
    "    .limit(10)\n",
    "    .toPandas()\n",
    ")"
   ]
  },
  {
   "cell_type": "markdown",
   "id": "ba7a1eca",
   "metadata": {},
   "source": [
    "### Joins"
   ]
  },
  {
   "cell_type": "markdown",
   "id": "38e342c8",
   "metadata": {},
   "source": [
    "Os joins no pyspark são especificados pela função `join()`, da seguinte forma:\n",
    "\n",
    "```\n",
    "df1.join(df2, {key_columns}, {join_type})\n",
    "```\n",
    "\n",
    "* `key_columns`: colunas que vão ser utilizadas para fazer a junção das tabelas. Pode ser especificada como\n",
    "    * Um único string -> só uma coluna é chave, mesmos nomes nas duas tabelas\n",
    "    * Uma lista de string ou de colunas (`col()`) -> mais de uma coluna é chave, mesmos nomes nas duas tabelas\n",
    "    * Com nomes diferentes, é necessário fazer uma especificação do tipo: `f.col(column1) == f.col(column2)`. Caso existam mais de uma coluna como chave, essas especificações devem ser colocadas em uma lista.\n",
    "* `join_type`: o tipo de join a ser realizado. As opções são:\n",
    "    * `inner (default)`: INNER JOIN do SQL\n",
    "    * `outer / full / fullouter / full_outer`: : FULL OUTER JOIN do SQL\n",
    "    * `left / leftouter / left_outer`: : LEFT JOIN do SQL\n",
    "    * `right / rightouter / right_outer`: : RIGHT JOIN do SQL\n",
    "    * `semi / leftsemi / left_semi`: realiza um LEFT JOIN do SQL e retorna somente as colunas do DataFrame da esquerda que também estão no DataFrame da Direita\n",
    "    * `anti / leftanti / left_anti`: realiza um LEFT JOIN do SQL e retorna somente as colunas do DataFrame da esquerda que não estão no DataFrame da Direita"
   ]
  },
  {
   "cell_type": "code",
   "execution_count": null,
   "id": "34957393",
   "metadata": {
    "pycharm": {
     "name": "#%%\n"
    }
   },
   "outputs": [],
   "source": [
    "df_ratings = spark.read.format(\"parquet\").load(imdb_path + 'title_ratings')"
   ]
  },
  {
   "cell_type": "code",
   "execution_count": null,
   "id": "38291b4b",
   "metadata": {
    "pycharm": {
     "name": "#%%\n"
    }
   },
   "outputs": [],
   "source": [
    "df_ratings.limit(5).toPandas()"
   ]
  },
  {
   "cell_type": "code",
   "execution_count": null,
   "id": "12184d7e",
   "metadata": {
    "pycharm": {
     "name": "#%%\n"
    }
   },
   "outputs": [],
   "source": [
    "df_titles.limit(5).toPandas()"
   ]
  },
  {
   "cell_type": "code",
   "execution_count": null,
   "id": "77e6be42",
   "metadata": {
    "pycharm": {
     "name": "#%%\n"
    }
   },
   "outputs": [],
   "source": [
    "df_ratings.count()"
   ]
  },
  {
   "cell_type": "code",
   "execution_count": null,
   "id": "5c7b1596",
   "metadata": {
    "pycharm": {
     "name": "#%%\n"
    }
   },
   "outputs": [],
   "source": [
    "df_titles.count()"
   ]
  },
  {
   "cell_type": "code",
   "execution_count": null,
   "id": "69b033f5",
   "metadata": {
    "pycharm": {
     "name": "#%%\n"
    }
   },
   "outputs": [],
   "source": [
    "(\n",
    "    df_titles\n",
    "    .join(df_ratings, 'tconst', 'left')\n",
    "    .filter('averageRating is null')\n",
    "    .limit(5)\n",
    "    .toPandas()\n",
    ")"
   ]
  },
  {
   "cell_type": "code",
   "execution_count": null,
   "id": "6e63ad52",
   "metadata": {
    "pycharm": {
     "name": "#%%\n"
    }
   },
   "outputs": [],
   "source": [
    "(\n",
    "    df_titles\n",
    "    .withColumnRenamed('tconst', 'id_title')\n",
    "    .join(df_ratings, f.col('tconst') == f.col('id_title'))\n",
    "    .withColumn('averageRating', f.expr('averageRating + 1'))\n",
    "    .limit(5)\n",
    "    .toPandas()\n",
    ")"
   ]
  },
  {
   "cell_type": "markdown",
   "id": "43519981",
   "metadata": {},
   "source": [
    "#### Utilizando semi e anti join"
   ]
  },
  {
   "cell_type": "code",
   "execution_count": null,
   "id": "33d4a599",
   "metadata": {
    "pycharm": {
     "name": "#%%\n"
    }
   },
   "outputs": [],
   "source": [
    "df_ratings.select('tconst').distinct().count()"
   ]
  },
  {
   "cell_type": "code",
   "execution_count": null,
   "id": "6328380c",
   "metadata": {
    "pycharm": {
     "name": "#%%\n"
    }
   },
   "outputs": [],
   "source": [
    "df_titles.select('tconst').distinct().count()"
   ]
  },
  {
   "cell_type": "code",
   "execution_count": null,
   "id": "59038bde",
   "metadata": {
    "pycharm": {
     "name": "#%%\n"
    }
   },
   "outputs": [],
   "source": [
    "(\n",
    "    df_titles\n",
    "    .join(df_ratings, 'tconst', 'semi')\n",
    "    .count()\n",
    ")"
   ]
  },
  {
   "cell_type": "code",
   "execution_count": null,
   "id": "3e671991",
   "metadata": {
    "pycharm": {
     "name": "#%%\n"
    }
   },
   "outputs": [],
   "source": [
    "(\n",
    "    df_titles\n",
    "    .join(df_ratings, 'tconst', 'anti')\n",
    "    .count()\n",
    ")"
   ]
  },
  {
   "cell_type": "code",
   "execution_count": null,
   "id": "569b9357",
   "metadata": {
    "pycharm": {
     "name": "#%%\n"
    }
   },
   "outputs": [],
   "source": [
    "6961705 + 1174232 == df_titles.count()"
   ]
  },
  {
   "cell_type": "markdown",
   "id": "3e973cdd",
   "metadata": {},
   "source": [
    "### Union"
   ]
  },
  {
   "cell_type": "markdown",
   "id": "e3c7efe2",
   "metadata": {},
   "source": [
    "Existem três formas de unir DataFrames no pyspark:\n",
    "* `union() / unionAll()`: empilha os DataFrames, preservando linhas duplicadas. As colunas são unidas por posição, e por isso a ordem delas deve ser a mesma entre os dois DFs.\n",
    "* `unionByName()`: empilha os DataFrames, preservando linhas duplicadas. As colunas são unidas por nome, e por tanto não precisam estar ordenadas da mesma forma"
   ]
  },
  {
   "cell_type": "code",
   "execution_count": null,
   "id": "f844e8cb",
   "metadata": {
    "pycharm": {
     "name": "#%%\n"
    }
   },
   "outputs": [],
   "source": [
    "df_titles.limit(5).toPandas()"
   ]
  },
  {
   "cell_type": "code",
   "execution_count": null,
   "id": "f022f134",
   "metadata": {
    "pycharm": {
     "name": "#%%\n"
    }
   },
   "outputs": [],
   "source": [
    "df_titles.count()"
   ]
  },
  {
   "cell_type": "code",
   "execution_count": null,
   "id": "6865c402",
   "metadata": {
    "pycharm": {
     "name": "#%%\n"
    }
   },
   "outputs": [],
   "source": [
    "df1 = df_titles.sample(fraction = 0.5)\n",
    "df2 = df_titles.join(df1, ['tconst'], 'anti')"
   ]
  },
  {
   "cell_type": "code",
   "execution_count": null,
   "id": "33bda54d",
   "metadata": {
    "pycharm": {
     "name": "#%%\n"
    }
   },
   "outputs": [],
   "source": [
    "df1.count()"
   ]
  },
  {
   "cell_type": "code",
   "execution_count": null,
   "id": "be5d5b97",
   "metadata": {
    "pycharm": {
     "name": "#%%\n"
    }
   },
   "outputs": [],
   "source": [
    "df2.count()"
   ]
  },
  {
   "cell_type": "code",
   "execution_count": null,
   "id": "ffd3edad",
   "metadata": {
    "pycharm": {
     "name": "#%%\n"
    }
   },
   "outputs": [],
   "source": [
    "df1.union(df2).count()"
   ]
  },
  {
   "cell_type": "code",
   "execution_count": null,
   "id": "c2928e1f",
   "metadata": {
    "pycharm": {
     "name": "#%%\n"
    }
   },
   "outputs": [],
   "source": [
    "df3 = df_titles.sample(fraction = 0.05)"
   ]
  },
  {
   "cell_type": "code",
   "execution_count": null,
   "id": "6b075626",
   "metadata": {
    "pycharm": {
     "name": "#%%\n"
    }
   },
   "outputs": [],
   "source": [
    "df3.count()"
   ]
  },
  {
   "cell_type": "code",
   "execution_count": null,
   "id": "7f1f631d",
   "metadata": {
    "pycharm": {
     "name": "#%%\n"
    }
   },
   "outputs": [],
   "source": [
    "df3.union(df3).count()"
   ]
  },
  {
   "cell_type": "code",
   "execution_count": null,
   "id": "5f9b064a",
   "metadata": {
    "pycharm": {
     "name": "#%%\n"
    }
   },
   "outputs": [],
   "source": [
    "df3.union(df3).distinct().count()"
   ]
  },
  {
   "cell_type": "code",
   "execution_count": null,
   "id": "f4563624",
   "metadata": {
    "pycharm": {
     "name": "#%%\n"
    }
   },
   "outputs": [],
   "source": [
    "df2 = df2.select(df2.columns[::-1])"
   ]
  },
  {
   "cell_type": "code",
   "execution_count": null,
   "id": "cc9a9280",
   "metadata": {
    "pycharm": {
     "name": "#%%\n"
    }
   },
   "outputs": [],
   "source": [
    "df1.limit(5).toPandas()"
   ]
  },
  {
   "cell_type": "code",
   "execution_count": null,
   "id": "951fc9db",
   "metadata": {
    "pycharm": {
     "name": "#%%\n"
    }
   },
   "outputs": [],
   "source": [
    "df2.limit(5).toPandas()"
   ]
  },
  {
   "cell_type": "code",
   "execution_count": null,
   "id": "4eb632b0",
   "metadata": {
    "pycharm": {
     "name": "#%%\n"
    }
   },
   "outputs": [],
   "source": [
    "df1.union(df2).filter('genres rlike \"[0-9]\"').limit(5).toPandas()"
   ]
  },
  {
   "cell_type": "code",
   "execution_count": null,
   "id": "dce1027d",
   "metadata": {
    "pycharm": {
     "name": "#%%\n"
    }
   },
   "outputs": [],
   "source": [
    "df1.unionByName(df2).filter('genres rlike \"[0-9]\"').limit(5).toPandas()"
   ]
  },
  {
   "cell_type": "markdown",
   "id": "b0f49ea2",
   "metadata": {},
   "source": [
    "### User Defined Functions (UDFs)"
   ]
  },
  {
   "cell_type": "markdown",
   "id": "62eee98f",
   "metadata": {},
   "source": [
    "Em algumas situações é necessário criar/alterar uma coluna utilizando uma operação não implementada na biblioteca padrão. Para isso, é possível utilzar funções definidas pelo usuário (UDFs) por meio da função `udf()`.\n",
    "\n",
    "**Importante**: As udfs não são otimizadas para serem executadas em paralelo, e por isso podem representar um gargalo na na aplicação."
   ]
  },
  {
   "cell_type": "code",
   "execution_count": null,
   "id": "084b0eeb",
   "metadata": {
    "pycharm": {
     "name": "#%%\n"
    }
   },
   "outputs": [],
   "source": [
    "from unidecode import unidecode\n",
    "from pyspark.sql.types import StringType"
   ]
  },
  {
   "cell_type": "code",
   "execution_count": null,
   "id": "6e9f845f",
   "metadata": {
    "pycharm": {
     "name": "#%%\n"
    }
   },
   "outputs": [],
   "source": [
    "unidecode('àáâçéõü')"
   ]
  },
  {
   "cell_type": "code",
   "execution_count": null,
   "id": "a654447b",
   "metadata": {
    "pycharm": {
     "name": "#%%\n"
    }
   },
   "outputs": [],
   "source": [
    "def unidecode_function(string):\n",
    "    if not string:\n",
    "        return None\n",
    "    else:\n",
    "        return unidecode(string)\n",
    "\n",
    "unidecode_udf = f.udf(unidecode_function, returnType=StringType())"
   ]
  },
  {
   "cell_type": "code",
   "execution_count": null,
   "id": "73b4df18",
   "metadata": {
    "pycharm": {
     "name": "#%%\n"
    }
   },
   "outputs": [],
   "source": [
    "(\n",
    "    df_titles\n",
    "    .filter(f.col('primaryTitle').rlike('à|á|â|ç|é|õ|ü'))\n",
    "    .withColumn('cleaned_string', unidecode_udf(f.col('primaryTitle')))\n",
    "    .select('primaryTitle', 'cleaned_string')\n",
    "    .limit(5)\n",
    "    .toPandas()\n",
    ")"
   ]
  },
  {
   "cell_type": "code",
   "execution_count": null,
   "id": "478f9853",
   "metadata": {
    "pycharm": {
     "name": "#%%\n"
    }
   },
   "outputs": [],
   "source": [
    "del unidecode_udf"
   ]
  },
  {
   "cell_type": "code",
   "execution_count": null,
   "id": "7a984f67",
   "metadata": {
    "pycharm": {
     "name": "#%%\n"
    }
   },
   "outputs": [],
   "source": [
    "@f.udf(returnType=t.StringType())\n",
    "def unidecode_udf(string):\n",
    "    if not string:\n",
    "        return None\n",
    "    else:\n",
    "        return unidecode(string)"
   ]
  },
  {
   "cell_type": "code",
   "execution_count": null,
   "id": "5db0114e",
   "metadata": {
    "pycharm": {
     "name": "#%%\n"
    }
   },
   "outputs": [],
   "source": [
    "(\n",
    "    df_titles\n",
    "    .filter(f.col('primaryTitle').rlike('à|á|â|ç|é|õ|ü'))\n",
    "    .withColumn('cleaned_string', unidecode_udf(f.expr('primaryTitle')))\n",
    "    .select('primaryTitle', 'cleaned_string')\n",
    "    .limit(5)\n",
    "    .toPandas()\n",
    ")"
   ]
  },
  {
   "cell_type": "markdown",
   "id": "0d6ba9aa",
   "metadata": {},
   "source": [
    "### Criando Métodos Customizado"
   ]
  },
  {
   "cell_type": "markdown",
   "id": "aa03ca54",
   "metadata": {},
   "source": [
    "Em algumas situações, é interessante que realizemos uma operação sobre um DataFrame que não está implementada. Além disso, pode ser que seja necessário (ou do desejo do desenvolvedor) utilizar essa operação de forma encadeada.\n",
    "\n",
    "Para resolver esse problema, podemos utilizar o método `.transform()`. Funciona da seguinte maneira:\n",
    "\n",
    "1) Definir uma função do python da seguinte forma:\n",
    "\n",
    "```\n",
    "def f(args):\n",
    "  def _(df):\n",
    "    {operacoes sob o DataFrame}\n",
    "    return df\n",
    "  return _\n",
    "```\n",
    "2) Depois de definida a função, ela pode ser chamada da seguinte forma:\n",
    "\n",
    "\n",
    "```\n",
    "df.transform(f(args))\n",
    "```"
   ]
  },
  {
   "cell_type": "code",
   "execution_count": null,
   "id": "04d3bf74",
   "metadata": {
    "pycharm": {
     "name": "#%%\n"
    }
   },
   "outputs": [],
   "source": [
    "def processing(df):\n",
    "    ...\n",
    "    return df"
   ]
  },
  {
   "cell_type": "code",
   "execution_count": null,
   "id": "0f10f23e",
   "metadata": {
    "pycharm": {
     "name": "#%%\n"
    }
   },
   "outputs": [],
   "source": [
    "df = (\n",
    "    df.select().filter()\n",
    ")\n",
    "df = processing(df)\n",
    "df = (\n",
    "    df.groupby().agg()\n",
    ")"
   ]
  },
  {
   "cell_type": "code",
   "execution_count": null,
   "id": "c812d919",
   "metadata": {
    "pycharm": {
     "name": "#%%\n"
    }
   },
   "outputs": [],
   "source": [
    "df = (\n",
    "    df.select()\n",
    "    .filter()\n",
    "    .transform(processing(df))\n",
    "    .groupby()\n",
    "    .agg()\n",
    ")"
   ]
  },
  {
   "cell_type": "code",
   "execution_count": null,
   "id": "0cf4a47b",
   "metadata": {
    "pycharm": {
     "name": "#%%\n"
    }
   },
   "outputs": [],
   "source": [
    "def renamer(dict):\n",
    "    def _(df):\n",
    "        for c, n in dict.items():\n",
    "            df = df.withColumnRenamed(c, n)\n",
    "        return df\n",
    "    return _"
   ]
  },
  {
   "cell_type": "code",
   "execution_count": null,
   "id": "07d71741",
   "metadata": {
    "pycharm": {
     "name": "#%%\n"
    }
   },
   "outputs": [],
   "source": [
    "df_titles.limit(5).toPandas()"
   ]
  },
  {
   "cell_type": "code",
   "execution_count": null,
   "id": "10329edd",
   "metadata": {
    "pycharm": {
     "name": "#%%\n"
    }
   },
   "outputs": [],
   "source": [
    "rename_dict = {\n",
    "    \"tconst\": 'id_title',\n",
    "    \"titleType\": 'tipo_title',\n",
    "    'primaryTitle': 'nome_primario',\n",
    "    'originalTitle': 'nome_original',\n",
    "    'isAdult': \"idc_adult_title\",\n",
    "    'startYear': 'ano_lancamento',\n",
    "    'endYear': 'ano_encerramento',\n",
    "    'runtimeMinutes': 'duracao_minutos',\n",
    "    'genres': 'generos',\n",
    "}\n",
    "\n",
    "(\n",
    "    df_titles\n",
    "    .transform(renamer(rename_dict))\n",
    "    .limit(5)\n",
    "    .toPandas()\n",
    ")"
   ]
  },
  {
   "cell_type": "code",
   "execution_count": null,
   "id": "06af6d03",
   "metadata": {
    "pycharm": {
     "name": "#%%\n"
    }
   },
   "outputs": [],
   "source": [
    "from pyspark.sql import DataFrame\n",
    "\n",
    "def transform(self, f):\n",
    "    return f(self)\n",
    "\n",
    "DataFrame.transform = transform"
   ]
  }
 ],
 "metadata": {
  "kernelspec": {
   "display_name": "Python 3 (ipykernel)",
   "language": "python",
   "name": "python3"
  },
  "language_info": {
   "codemirror_mode": {
    "name": "ipython",
    "version": 3
   },
   "file_extension": ".py",
   "mimetype": "text/x-python",
   "name": "python",
   "nbconvert_exporter": "python",
   "pygments_lexer": "ipython3",
   "version": "3.7.11"
  }
 },
 "nbformat": 4,
 "nbformat_minor": 5
}
